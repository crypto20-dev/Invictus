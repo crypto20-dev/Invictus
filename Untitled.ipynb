{
 "cells": [
  {
   "cell_type": "code",
   "execution_count": 345,
   "metadata": {},
   "outputs": [],
   "source": [
    "import numpy as np\n",
    "import pandas as pd\n",
    "import math\n",
    "import matplotlib as mpl\n",
    "import matplotlib.pyplot as plt\n",
    "import pickle\n",
    "import time\n",
    "from scipy import log,exp,sqrt,stats\n",
    "from datetime import timedelta\n",
    "from datetime import datetime"
   ]
  },
  {
   "cell_type": "code",
   "execution_count": 346,
   "metadata": {},
   "outputs": [],
   "source": [
    "# Importing pickle file\n",
    "data = np.load('/Users/louisribieras/Desktop/my_invictus/data/latest_coin_data.pkl')\n",
    "# Drop Null Values\n",
    "data = data.dropna()"
   ]
  },
  {
   "cell_type": "code",
   "execution_count": 338,
   "metadata": {},
   "outputs": [],
   "source": [
    "# # Initialize a close_price list\n",
    "# cap = list()\n",
    "# # Making a list of all close_prices\n",
    "# for coin in data_t.columns:\n",
    "#     for date in data_t.index:\n",
    "#         cap.append(data_t[coin][date]['market_cap'])"
   ]
  },
  {
   "cell_type": "code",
   "execution_count": 339,
   "metadata": {},
   "outputs": [],
   "source": [
    "# # Splitting list into 133 lists (one per coin)\n",
    "# cap = [caps[i:i+916] for i  in range(0, len(caps), 916)]"
   ]
  },
  {
   "cell_type": "code",
   "execution_count": 352,
   "metadata": {},
   "outputs": [
    {
     "name": "stdout",
     "output_type": "stream",
     "text": [
      "Shape of df:  (133, 916)\n"
     ]
    }
   ],
   "source": [
    "# Make DataFrame\n",
    "df = pd.DataFrame(data = data, index = data.index)\n",
    "\n",
    "print('Shape of df: ', df.shape)\n",
    "# Divide by 1,000,000 to get in millions\n",
    "df = day_df/1000000"
   ]
  },
  {
   "cell_type": "code",
   "execution_count": 342,
   "metadata": {},
   "outputs": [
    {
     "data": {
      "text/plain": [
       "DatetimeIndex(['2018-07-04', '2018-07-03', '2018-07-02', '2018-07-01',\n",
       "               '2018-06-30', '2018-06-29', '2018-06-28', '2018-06-27',\n",
       "               '2018-06-26', '2018-06-25',\n",
       "               ...\n",
       "               '2016-01-10', '2016-01-09', '2016-01-08', '2016-01-07',\n",
       "               '2016-01-06', '2016-01-05', '2016-01-04', '2016-01-03',\n",
       "               '2016-01-02', '2016-01-01'],\n",
       "              dtype='datetime64[ns]', length=916, freq=None)"
      ]
     },
     "execution_count": 342,
     "metadata": {},
     "output_type": "execute_result"
    }
   ],
   "source": [
    "# Converting dates to datetime\n",
    "df.columns = pd.to_datetime(df.columns)\n",
    "df.columns"
   ]
  },
  {
   "cell_type": "code",
   "execution_count": 343,
   "metadata": {},
   "outputs": [],
   "source": [
    "def daterange(start_date, end_date):\n",
    "    for n in range(int ((end_date - start_date).days)):\n",
    "        yield start_date + timedelta(n)"
   ]
  },
  {
   "cell_type": "code",
   "execution_count": 344,
   "metadata": {},
   "outputs": [
    {
     "ename": "IndexError",
     "evalue": "invalid index to scalar variable.",
     "output_type": "error",
     "traceback": [
      "\u001b[0;31m---------------------------------------------------------------------------\u001b[0m",
      "\u001b[0;31mIndexError\u001b[0m                                Traceback (most recent call last)",
      "\u001b[0;32m<ipython-input-344-2a211f133700>\u001b[0m in \u001b[0;36m<module>\u001b[0;34m()\u001b[0m\n\u001b[1;32m     12\u001b[0m         \u001b[0;32mif\u001b[0m \u001b[0mcoin_name\u001b[0m\u001b[0;34m!=\u001b[0m\u001b[0;34m\"arcade-token\"\u001b[0m \u001b[0;32mand\u001b[0m \u001b[0mcoin_name\u001b[0m\u001b[0;34m!=\u001b[0m\u001b[0;34m\"bitconnect\"\u001b[0m \u001b[0;32mand\u001b[0m \u001b[0mcoin_name\u001b[0m\u001b[0;34m!=\u001b[0m\u001b[0;34m\"tether\"\u001b[0m\u001b[0;34m:\u001b[0m\u001b[0;34m\u001b[0m\u001b[0m\n\u001b[1;32m     13\u001b[0m             \u001b[0mcoins\u001b[0m\u001b[0;34m.\u001b[0m\u001b[0mappend\u001b[0m\u001b[0;34m(\u001b[0m\u001b[0mcoin_name\u001b[0m\u001b[0;34m)\u001b[0m\u001b[0;34m\u001b[0m\u001b[0m\n\u001b[0;32m---> 14\u001b[0;31m             \u001b[0mcap\u001b[0m \u001b[0;34m=\u001b[0m \u001b[0mday_df\u001b[0m\u001b[0;34m[\u001b[0m\u001b[0mcoin_name\u001b[0m\u001b[0;34m]\u001b[0m\u001b[0;34m[\u001b[0m\u001b[0;34m'market_cap'\u001b[0m\u001b[0;34m]\u001b[0m\u001b[0;34m\u001b[0m\u001b[0m\n\u001b[0m\u001b[1;32m     15\u001b[0m             \u001b[0;32mif\u001b[0m \u001b[0mcap\u001b[0m \u001b[0;32mis\u001b[0m \u001b[0;32mnot\u001b[0m \u001b[0;32mNone\u001b[0m\u001b[0;34m:\u001b[0m\u001b[0;34m\u001b[0m\u001b[0m\n\u001b[1;32m     16\u001b[0m                 \u001b[0mcaps\u001b[0m\u001b[0;34m.\u001b[0m\u001b[0mappend\u001b[0m\u001b[0;34m(\u001b[0m\u001b[0mcap\u001b[0m\u001b[0;34m)\u001b[0m\u001b[0;34m\u001b[0m\u001b[0m\n",
      "\u001b[0;31mIndexError\u001b[0m: invalid index to scalar variable."
     ]
    }
   ],
   "source": [
    "day_results = []\n",
    "for day in daterange(startDate, endDate+timedelta(days=1)):\n",
    "    day_df = df[pd.to_datetime(day)].dropna()\n",
    "    coins_w_data = day_df.index\n",
    "    caps = []\n",
    "    coins = []\n",
    "    prices = []\n",
    "    removeAnt = False\n",
    "    \n",
    "    for coin_name in coins_w_data:\n",
    "        #Bad data for arcade-token, bitconnect and tether are excluded\n",
    "        if coin_name!=\"arcade-token\" and coin_name!=\"bitconnect\" and coin_name!=\"tether\": \n",
    "            coins.append(coin_name)\n",
    "            cap = day_df[coin_name]['market_cap']\n",
    "            if cap is not None:\n",
    "                caps.append(cap)\n",
    "            else:\n",
    "                caps.append(0)\n",
    "\n",
    "            price = day_df[coin_name]['close_price']\n",
    "            if price is not None:\n",
    "                prices.append(price)\n",
    "            else:\n",
    "                prices.append(0)\n",
    "    \n",
    "    if \"neo\" in coins and \"antshares\" in coins:\n",
    "        ant_ind = coins.index(\"antshares\")\n",
    "        print(ant_ind)\n",
    "        caps[ant_ind] = 0\n",
    "                    \n",
    "    np_caps = np.array(caps)\n",
    "    temp = np_caps.argsort()\n",
    "    ranks = np.empty(len(np_caps), int)\n",
    "    ranks[temp] = np.arange(len(np_caps))\n",
    "    count = len(np_caps)\n",
    "    day_results.append(sorted([(count-x,y,z,k) for (x,y,z,k) in zip(ranks, coins, caps, prices)]))"
   ]
  },
  {
   "cell_type": "code",
   "execution_count": null,
   "metadata": {},
   "outputs": [],
   "source": []
  }
 ],
 "metadata": {
  "kernelspec": {
   "display_name": "Python 3",
   "language": "python",
   "name": "python3"
  },
  "language_info": {
   "codemirror_mode": {
    "name": "ipython",
    "version": 3
   },
   "file_extension": ".py",
   "mimetype": "text/x-python",
   "name": "python",
   "nbconvert_exporter": "python",
   "pygments_lexer": "ipython3",
   "version": "3.6.5"
  }
 },
 "nbformat": 4,
 "nbformat_minor": 2
}
