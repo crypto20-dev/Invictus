{
 "cells": [
  {
   "cell_type": "code",
   "execution_count": 1,
   "metadata": {},
   "outputs": [],
   "source": [
    "import pandas as pd\n",
    "import numpy as np\n",
    "import datetime\n",
    "import matplotlib.pyplot as plt\n",
    "%matplotlib inline\n",
    "import matplotlib.dates as mdates\n",
    "#import seaborn as sns\n",
    "#sns.set(style='darkgrid', context='talk', palette='Dark2')\n",
    "\n",
    "my_year_month_fmt = mdates.DateFormatter('%m/%y')"
   ]
  },
  {
   "cell_type": "code",
   "execution_count": 2,
   "metadata": {},
   "outputs": [],
   "source": [
    "#DATA PREPARATION\n",
    "data = np.load('/home/isabelle/Downloads/latest_coin_data.pkl')\n",
    "#drop null data\n",
    "data = data.dropna()"
   ]
  },
  {
   "cell_type": "code",
   "execution_count": 3,
   "metadata": {},
   "outputs": [],
   "source": [
    "def share_cap_recurse(market_cap_list, num_coins, cap_ceiling_amount, final_cap_list):\n",
    "\n",
    "    not_realloc_val = 0\n",
    "\n",
    "    realloc_val = 0\n",
    "\n",
    "    num_final = 0\n",
    "\n",
    "    new_market_cap_list = []\n",
    "\n",
    "    \n",
    "\n",
    "    for i in range(0, len(market_cap_list)):\n",
    "\n",
    "        if(market_cap_list[i] > cap_ceiling_amount):\n",
    "\n",
    "            final_cap_list.append(cap_ceiling_amount)\n",
    "\n",
    "            realloc_val += market_cap_list[i] - cap_ceiling_amount\n",
    "\n",
    "            num_final += 1\n",
    "\n",
    "        else:\n",
    "\n",
    "            not_realloc_val += market_cap_list[i]\n",
    "\n",
    "     \n",
    "\n",
    "    if(num_final!=0):\n",
    "\n",
    "        new_market_cap_list = [x * (1+(realloc_val/not_realloc_val)) for x in market_cap_list[num_final:]]\n",
    "\n",
    "    else:\n",
    "\n",
    "        new_market_cap_list = deepcopy(market_cap_list)\n",
    "\n",
    "    \n",
    "\n",
    "    if len(final_cap_list) == num_coins:\n",
    "\n",
    "        return\n",
    "\n",
    "    elif (new_market_cap_list[0] <= cap_ceiling_amount): #assumes ordered desc in market cap\n",
    "\n",
    "        for cap in new_market_cap_list:\n",
    "\n",
    "            final_cap_list.append(cap)\n",
    "\n",
    "        return       \n",
    "\n",
    "    else:\n",
    "\n",
    "        share_cap_recurse(new_market_cap_list, num_coins, cap_ceiling_amount, final_cap_list)\n",
    "\n",
    "        \n",
    "\n",
    "def share_cap(market_cap_list, cap_ceiling_percent):  #CHANGE CAP CEILING HERE\n",
    "\n",
    "    total_cap = sum(market_cap_list)\n",
    "\n",
    "    cap_ceiling_amount = total_cap * cap_ceiling_percent\n",
    "\n",
    "    final_cap_list = []\n",
    "\n",
    "    \n",
    "\n",
    "    share_cap_recurse(market_cap_list, len(market_cap_list), cap_ceiling_amount, final_cap_list)\n",
    "\n",
    "    \n",
    "\n",
    "    return (final_cap_list)"
   ]
  },
  {
   "cell_type": "code",
   "execution_count": 4,
   "metadata": {},
   "outputs": [],
   "source": [
    "close_list = list()\n",
    "# Making a list of all close_prices\n",
    "for date in data.index:\n",
    "    for column in data.columns:\n",
    "        close_list.append(data[column][date]['close_price'])\n",
    "\n",
    "# Splitting list into 133 lists (one per coin)\n",
    "close_list2 = [close_list[i:i+916] for i  in range(0, len(close_list), 916)]\n",
    "\n",
    "# Make an array\n",
    "close_ar = np.asarray(close_list2)\n",
    "\n",
    "# Make Close DataFrame\n",
    "close_df = pd.DataFrame(data = close_ar, index = data.index, columns = data.columns)\n",
    "close_df = close_df[close_df.columns[::-1]]"
   ]
  },
  {
   "cell_type": "code",
   "execution_count": 5,
   "metadata": {},
   "outputs": [],
   "source": [
    "# Initialize a volumes list\n",
    "volumes_list = list()\n",
    "# Making a list of all close_prices\n",
    "for date in data.index:\n",
    "    for column in data.columns:\n",
    "        if data[column][date] == 0:\n",
    "            volumes_list.append(data[column][date])\n",
    "        else:\n",
    "            volumes_list.append(data[column][date]['volume'])\n",
    "            \n",
    "volumes_list = [volumes_list[i:i+916] for i  in range(0, len(volumes_list), 916)]   \n",
    "# Making dataframe\n",
    "vol_data = pd.DataFrame(data = volumes_list, index = data.index, columns = data.columns)\n",
    "vol_data = vol_data[vol_data.columns[::-1]]"
   ]
  },
  {
   "cell_type": "code",
   "execution_count": 6,
   "metadata": {},
   "outputs": [],
   "source": [
    "# Initialize a market_cap list\n",
    "market_list = list()\n",
    "# Making a list of all market_cap\n",
    "for date in data.index:\n",
    "    for column in data.columns:\n",
    "        market_list.append(data[column][date]['market_cap'])\n",
    "\n",
    "# Splitting list into 133 lists (one per coin)\n",
    "market_list2 = [market_list[i:i+916] for i  in range(0, len(market_list), 916)]\n",
    "\n",
    "# Make an array\n",
    "market_ar = np.asarray(market_list2)\n",
    "    \n",
    "# Make Market Cap DataFrame\n",
    "market_df = pd.DataFrame(data = market_ar, index = data.index, columns = data.columns)\n",
    "market_df = market_df[market_df.columns[::-1]]"
   ]
  },
  {
   "cell_type": "code",
   "execution_count": 95,
   "metadata": {},
   "outputs": [],
   "source": [
    "#Selecting data for startdate to enddate\n",
    "selectedmarket = market_df.loc[:, 'Jul 01, 2017':'Jul 01, 2018':7]\n",
    "selectedmarket = selectedmarket.iloc[:, :-1]\n",
    "selectedclose = close_df.loc[:, 'Jul 01, 2017':'Jul 01, 2018':7]\n",
    "selectedvolume = vol_data.loc[:, 'Jul 01, 2017':'Jul 01, 2018':7]"
   ]
  },
  {
   "cell_type": "code",
   "execution_count": 96,
   "metadata": {
    "scrolled": true
   },
   "outputs": [
    {
     "data": {
      "text/html": [
       "<div>\n",
       "<style scoped>\n",
       "    .dataframe tbody tr th:only-of-type {\n",
       "        vertical-align: middle;\n",
       "    }\n",
       "\n",
       "    .dataframe tbody tr th {\n",
       "        vertical-align: top;\n",
       "    }\n",
       "\n",
       "    .dataframe thead th {\n",
       "        text-align: right;\n",
       "    }\n",
       "</style>\n",
       "<table border=\"1\" class=\"dataframe\">\n",
       "  <thead>\n",
       "    <tr style=\"text-align: right;\">\n",
       "      <th></th>\n",
       "      <th>tether</th>\n",
       "    </tr>\n",
       "  </thead>\n",
       "  <tbody>\n",
       "    <tr>\n",
       "      <th>Jul 01, 2017</th>\n",
       "      <td>1.020000</td>\n",
       "    </tr>\n",
       "    <tr>\n",
       "      <th>Jul 08, 2017</th>\n",
       "      <td>0.999725</td>\n",
       "    </tr>\n",
       "    <tr>\n",
       "      <th>Jul 15, 2017</th>\n",
       "      <td>1.000000</td>\n",
       "    </tr>\n",
       "    <tr>\n",
       "      <th>Jul 22, 2017</th>\n",
       "      <td>0.993200</td>\n",
       "    </tr>\n",
       "    <tr>\n",
       "      <th>Jul 29, 2017</th>\n",
       "      <td>0.996619</td>\n",
       "    </tr>\n",
       "  </tbody>\n",
       "</table>\n",
       "</div>"
      ],
      "text/plain": [
       "                tether\n",
       "Jul 01, 2017  1.020000\n",
       "Jul 08, 2017  0.999725\n",
       "Jul 15, 2017  1.000000\n",
       "Jul 22, 2017  0.993200\n",
       "Jul 29, 2017  0.996619"
      ]
     },
     "execution_count": 96,
     "metadata": {},
     "output_type": "execute_result"
    }
   ],
   "source": [
    "usdt_vol = pd.DataFrame(data = selectedvolume.loc['tether'])\n",
    "usdt_close = pd.DataFrame(data = selectedclose.loc['tether'])\n",
    "usdt_close.head()"
   ]
  },
  {
   "cell_type": "code",
   "execution_count": 97,
   "metadata": {},
   "outputs": [],
   "source": [
    "#Generating returns dataframe\n",
    "selectedclose1 = selectedclose.copy().T\n",
    "selectedreturns = selectedclose1.pct_change(1).T"
   ]
  },
  {
   "cell_type": "code",
   "execution_count": 98,
   "metadata": {},
   "outputs": [],
   "source": [
    "usdt_returns = usdt_close.pct_change(1)"
   ]
  },
  {
   "cell_type": "code",
   "execution_count": 99,
   "metadata": {},
   "outputs": [],
   "source": [
    "cols = selectedreturns.columns[:-1]\n",
    "selectedreturns = selectedreturns.drop('Jul 01, 2017', 1)\n",
    "selectedreturns.columns = cols\n",
    "\n",
    "usdtindex = usdt_returns.index[:-1]\n",
    "usdt_returns = usdt_returns.drop('Jul 01, 2017', 0)\n",
    "usdt_returns.index = usdtindex"
   ]
  },
  {
   "cell_type": "markdown",
   "metadata": {},
   "source": [
    "USDT weekly returns and weekly returns of all coins generated above\n",
    "\n",
    "NEXT:\n",
    "\n",
    "USDT weekly volume changes\n",
    "\n"
   ]
  },
  {
   "cell_type": "code",
   "execution_count": 100,
   "metadata": {},
   "outputs": [],
   "source": [
    "usdt_vol_change = usdt_vol.pct_change(1)"
   ]
  },
  {
   "cell_type": "code",
   "execution_count": 101,
   "metadata": {},
   "outputs": [
    {
     "data": {
      "text/html": [
       "<div>\n",
       "<style scoped>\n",
       "    .dataframe tbody tr th:only-of-type {\n",
       "        vertical-align: middle;\n",
       "    }\n",
       "\n",
       "    .dataframe tbody tr th {\n",
       "        vertical-align: top;\n",
       "    }\n",
       "\n",
       "    .dataframe thead th {\n",
       "        text-align: right;\n",
       "    }\n",
       "</style>\n",
       "<table border=\"1\" class=\"dataframe\">\n",
       "  <thead>\n",
       "    <tr style=\"text-align: right;\">\n",
       "      <th></th>\n",
       "      <th>tether</th>\n",
       "      <th>date</th>\n",
       "    </tr>\n",
       "  </thead>\n",
       "  <tbody>\n",
       "    <tr>\n",
       "      <th>0</th>\n",
       "      <td>NaN</td>\n",
       "      <td>Jul 01, 2017</td>\n",
       "    </tr>\n",
       "    <tr>\n",
       "      <th>1</th>\n",
       "      <td>-0.237740</td>\n",
       "      <td>Jul 08, 2017</td>\n",
       "    </tr>\n",
       "    <tr>\n",
       "      <th>2</th>\n",
       "      <td>1.000230</td>\n",
       "      <td>Jul 15, 2017</td>\n",
       "    </tr>\n",
       "    <tr>\n",
       "      <th>3</th>\n",
       "      <td>0.050539</td>\n",
       "      <td>Jul 22, 2017</td>\n",
       "    </tr>\n",
       "    <tr>\n",
       "      <th>4</th>\n",
       "      <td>-0.439272</td>\n",
       "      <td>Jul 29, 2017</td>\n",
       "    </tr>\n",
       "  </tbody>\n",
       "</table>\n",
       "</div>"
      ],
      "text/plain": [
       "     tether          date\n",
       "0       NaN  Jul 01, 2017\n",
       "1 -0.237740  Jul 08, 2017\n",
       "2  1.000230  Jul 15, 2017\n",
       "3  0.050539  Jul 22, 2017\n",
       "4 -0.439272  Jul 29, 2017"
      ]
     },
     "execution_count": 101,
     "metadata": {},
     "output_type": "execute_result"
    }
   ],
   "source": [
    "usdt_vol_change['date'] = usdt_vol_change.index\n",
    "usdt_vol_change = usdt_vol_change.reset_index(drop=True)\n",
    "usdt_vol_change.head()"
   ]
  },
  {
   "cell_type": "code",
   "execution_count": 119,
   "metadata": {},
   "outputs": [],
   "source": [
    "# usdt_share = {}\n",
    "# usdt_share[0] = 0.15      #USDT starts off with ___% for the date\n",
    "\n",
    "# #for dates in usdt_vol_change.index:\n",
    "    \n",
    "# for i in range(1, len(usdt_vol_change)):\n",
    "#     if usdt_vol_change.loc[i, 'tether'] > 0:\n",
    "#         usdt_share[i] = usdt_share[i -1] + 0.025\n",
    "#     elif usdt_vol_change.loc[i, 'tether'] < 0: \n",
    "#         usdt_share[i] = usdt_share[i -1] - 0.025\n",
    "#     else:\n",
    "#         usdt_share[i] = usdt_share[i -1]\n",
    "        \n",
    "\n",
    "\n",
    "# #if USDT vol increases, share increases by 0.025\n",
    "# #if USDT vol decreases, share decreases by 0.025\n",
    "# #if USDT vol stays same, share stays same"
   ]
  },
  {
   "cell_type": "code",
   "execution_count": 120,
   "metadata": {},
   "outputs": [],
   "source": [
    "# ilist = range(0, len(usdt_vol_change))\n",
    "\n",
    "# tethershare = {}\n",
    "         \n",
    "# for (i, column) in zip(ilist, selectedmarket):\n",
    "#     tethershare[column] = usdt_share[i]\n",
    "         \n",
    "# #sets all tethershare labels to match dates"
   ]
  },
  {
   "cell_type": "code",
   "execution_count": 121,
   "metadata": {},
   "outputs": [],
   "source": [
    "#FOR LOOP FOR C10\n",
    "topmc10 = {}\n",
    "sc10 = {}\n",
    "tc10 = {}\n",
    "ps10 = {}\n",
    "invest10 = {}\n",
    "returns10 = {}\n",
    "lg_returns10 = {}\n",
    "selectedmc10 = {}\n",
    "topcoins10 = {}\n",
    "c10share = {}\n",
    "tetherreturns = {}\n",
    "\n",
    "#for every date\n",
    "for column in selectedmarket:\n",
    "    #sort in descending order\n",
    "    selectedmc10[column] = selectedmarket[column].sort_values(ascending=False)\n",
    "    \n",
    "    #take the top coins\n",
    "    topmc10[column] = selectedmc10[column].head(10)\n",
    "    #take the index of the top coins\n",
    "    topcoins10[column] = topmc10[column].index\n",
    "    \n",
    "    #get the share cap of the top 10\n",
    "    sc10[column] = share_cap(topmc10[column], 0.15)      #CHOICE OF CAP CEILING\n",
    "    \n",
    "    #total cap of top 10\n",
    "    tc10[column] = sum(sc10[column])\n",
    "    \n",
    "    #percentage of total fund allocated to tether/C10- NEW CODE!!\n",
    "#     c10share[column] = 1 - tethershare[column]\n",
    "    \n",
    "    #percentage share to be allocated for top 20 - NEW CODE!!!\n",
    "#     ps10[column] = [x * c10share[column] / tc10[column] for x in sc10[column] ]\n",
    "    ps10[column] = [x / tc10[column] for x in sc10[column] ]\n",
    "    \n",
    "    #building dataframe of top20 coins by mc and %share to be invested\n",
    "    invest10[column] = pd.DataFrame()\n",
    "    invest10[column] = pd.DataFrame({'coin': topcoins10[column], 'pct_share': ps10[column]})\n",
    "    invest10[column] = invest10[column].set_index('coin')\n",
    "        \n",
    "        \n",
    "    #building dataframe of top 20 coins by mc and close price of that week\n",
    "    for name in selectedreturns:\n",
    "        returns10[column] = pd.DataFrame()\n",
    "        returns10[column] = pd.DataFrame({'returns': selectedreturns[column]})\n",
    "        returns10[column] = returns10[column].loc[topcoins10[column]]\n",
    "        \n",
    "     #for loop to generate portfolio returns for a particular week\n",
    "    portfolio_simple_returns10 = {}\n",
    "    portfolio_total_returns10 = list()\n",
    "   \n",
    "    #tether returns\n",
    "#     tetherreturns[column] = tethershare[column]* usdt_returns.loc[column, 'tether']\n",
    "\n",
    "    for i, df in invest10.items():\n",
    "        portfolio_simple_returns10[i] = (invest10[i].transpose().dot(returns10[i])) #+ tetherreturns[i]\n",
    "        portfolio_total_returns10.append(portfolio_simple_returns10[i]['returns'])      "
   ]
  },
  {
   "cell_type": "code",
   "execution_count": 122,
   "metadata": {},
   "outputs": [],
   "source": [
    "#FOR C10 compiling and cleaning the table into a readable format WITH TETHER\n",
    "final_portfolio_simple_returns10_tether15 = pd.DataFrame(portfolio_total_returns10) \n",
    "final_portfolio_simple_returns10_tether15.columns = ['weekly_portfolio_simple_returns']\n",
    "final_portfolio_simple_returns10_tether15['date'] = selectedreturns.T.index\n",
    "final_portfolio_simple_returns10_tether15 = final_portfolio_simple_returns10_tether15.set_index('date')"
   ]
  },
  {
   "cell_type": "code",
   "execution_count": 123,
   "metadata": {},
   "outputs": [],
   "source": [
    "#FOR C10  WITH TETHER\n",
    "final_cum10_tether15 = (1 + final_portfolio_simple_returns10_tether15).cumprod()"
   ]
  },
  {
   "cell_type": "code",
   "execution_count": 124,
   "metadata": {},
   "outputs": [],
   "source": [
    "final_cum10_tether15.index = pd.to_datetime(final_cum10_tether15.index)\n",
    "final_tether15 = final_portfolio_simple_returns10_tether15.merge(final_cum10_tether15, how='outer', left_index=True, right_index=True)\n",
    "final_tether15.columns = ['weekly_simple_returns', 'cumulative_returns']\n",
    "ts = pd.to_datetime(\"2018-06-30\", format=\"%Y-%m-%d\")\n",
    "new_row = pd.DataFrame([[None, 1]], columns = ['weekly_simple_returns', 'cumulative_returns'], index=[ts])\n",
    "final_tether15 = pd.concat([final_tether15, pd.DataFrame(new_row)], ignore_index=False)\n",
    "final_tether15.weekly_simple_returns = final_tether15.weekly_simple_returns.shift(1)\n",
    "final_tether15.cumulative_returns = final_tether15.cumulative_returns.shift(1)\n",
    "final_tether15.at['2017-07-01', 'cumulative_returns'] = 1"
   ]
  },
  {
   "cell_type": "code",
   "execution_count": 125,
   "metadata": {},
   "outputs": [],
   "source": [
    "final_tether15.to_csv(\"tether15.csv\")"
   ]
  },
  {
   "cell_type": "code",
   "execution_count": 127,
   "metadata": {},
   "outputs": [],
   "source": [
    "#FOR LOOP FOR C10\n",
    "topmc10 = {}\n",
    "sc10 = {}\n",
    "tc10 = {}\n",
    "ps10 = {}\n",
    "invest10 = {}\n",
    "returns10 = {}\n",
    "lg_returns10 = {}\n",
    "selectedmc10 = {}\n",
    "topcoins10 = {}\n",
    "c10share = {}\n",
    "tetherreturns = {}\n",
    "\n",
    "#for every date\n",
    "for column in selectedmarket:\n",
    "    #sort in descending order\n",
    "    selectedmc10[column] = selectedmarket[column].sort_values(ascending=False)\n",
    "    \n",
    "    #take the top coins\n",
    "    topmc10[column] = selectedmc10[column].head(10)\n",
    "    #take the index of the top coins\n",
    "    topcoins10[column] = topmc10[column].index\n",
    "    \n",
    "    #get the share cap of the top 10\n",
    "    sc10[column] = share_cap(topmc10[column], 0.15)      #CHOICE OF CAP CEILING\n",
    "    \n",
    "    #total cap of top 10\n",
    "    tc10[column] = sum(sc10[column])\n",
    "    \n",
    "    #percentage of total fund allocated to tether/C10- NEW CODE!!\n",
    "    #c10share[column] = 1 - tethershare[column]\n",
    "    \n",
    "    #percentage share to be allocated for top 20 - NEW CODE!!!\n",
    "    ps10[column] = [x  / tc10[column] for x in sc10[column] ]\n",
    "    \n",
    "    #building dataframe of top20 coins by mc and %share to be invested\n",
    "    invest10[column] = pd.DataFrame()\n",
    "    invest10[column] = pd.DataFrame({'coin': topcoins10[column], 'pct_share': ps10[column]})\n",
    "    invest10[column] = invest10[column].set_index('coin')\n",
    "        \n",
    "        \n",
    "    #building dataframe of top 20 coins by mc and close price of that week\n",
    "    for name in selectedreturns:\n",
    "        returns10[column] = pd.DataFrame()\n",
    "        returns10[column] = pd.DataFrame({'returns': selectedreturns[column]})\n",
    "        returns10[column] = returns10[column].loc[topcoins10[column]]\n",
    "        \n",
    "     #for loop to generate portfolio returns for a particular week\n",
    "    portfolio_simple_returns10 = {}\n",
    "    portfolio_total_returns10 = list()\n",
    "   \n",
    "    #tether returns\n",
    "    #tetherreturns[column] = tethershare[column]* usdt_returns.loc[column, 'tether']\n",
    "\n",
    "    for i, df in invest10.items():\n",
    "        portfolio_simple_returns10[i] = (invest10[i].transpose().dot(returns10[i])) #+ tetherreturns[i]\n",
    "        portfolio_total_returns10.append(portfolio_simple_returns10[i]['returns'])  "
   ]
  },
  {
   "cell_type": "code",
   "execution_count": 128,
   "metadata": {},
   "outputs": [],
   "source": [
    "#FOR C10 compiling and cleaning the table into a readable format\n",
    "final_portfolio_simple_returns10 = pd.DataFrame(portfolio_total_returns10) \n",
    "final_portfolio_simple_returns10.columns = ['weekly_portfolio_simple_returns']\n",
    "final_portfolio_simple_returns10['date'] = selectedreturns.T.index\n",
    "final_portfolio_simple_returns10 = final_portfolio_simple_returns10.set_index('date')"
   ]
  },
  {
   "cell_type": "code",
   "execution_count": 129,
   "metadata": {},
   "outputs": [],
   "source": [
    "#FOR C10 \n",
    "final_cum10 = (1 + final_portfolio_simple_returns10).cumprod()"
   ]
  },
  {
   "cell_type": "code",
   "execution_count": 130,
   "metadata": {},
   "outputs": [],
   "source": [
    "final_cum10.index = pd.to_datetime(final_cum10.index)\n",
    "final_C10 = final_portfolio_simple_returns10.merge(final_cum10, how='outer', left_index=True, right_index=True)\n",
    "final_C10.columns = ['weekly_simple_returns', 'cumulative_returns']\n",
    "ts = pd.to_datetime(\"2018-06-30\", format=\"%Y-%m-%d\")\n",
    "new_row = pd.DataFrame([[None, 1]], columns = ['weekly_simple_returns', 'cumulative_returns'], index=[ts])\n",
    "final_C10 = pd.concat([final_C10, pd.DataFrame(new_row)], ignore_index=False)\n",
    "final_C10.weekly_simple_returns = final_C10.weekly_simple_returns.shift(1)\n",
    "final_C10.cumulative_returns = final_C10.cumulative_returns.shift(1)\n",
    "final_C10.at['2017-07-01', 'cumulative_returns'] = 1"
   ]
  },
  {
   "cell_type": "code",
   "execution_count": 132,
   "metadata": {},
   "outputs": [],
   "source": [
    "final_C10.to_csv(\"C10_notether.csv\")"
   ]
  },
  {
   "cell_type": "code",
   "execution_count": 133,
   "metadata": {},
   "outputs": [
    {
     "data": {
      "text/plain": [
       "<matplotlib.legend.Legend at 0x7fc06bfd1710>"
      ]
     },
     "execution_count": 133,
     "metadata": {},
     "output_type": "execute_result"
    },
    {
     "data": {
      "image/png": "[encoded data removed]",
      "text/plain": [
       "<Figure size 1152x864 with 1 Axes>"
      ]
     },
     "metadata": {},
     "output_type": "display_data"
    }
   ],
   "source": [
    "fig, (ax) = plt.subplots(1, 1, figsize=(16,12))\n",
    "\n",
    "ax.set_ylabel('Percentage Change /100%')\n",
    "\n",
    "ax.plot(final_cum10.index, final_cum10, label=\"C10\")\n",
    "ax.plot(final_cum10_tether5.index, final_cum10_tether5, label=\"C10 with tether5\")\n",
    "ax.plot(final_cum10_tether10.index, final_cum10_tether10, label=\"C10 with tether10\")\n",
    "ax.plot(final_cum10_tether15.index, final_cum10_tether15, label=\"C10 with tether15\")\n",
    "\n",
    "ax.legend()"
   ]
  },
  {
   "cell_type": "code",
   "execution_count": 78,
   "metadata": {},
   "outputs": [
    {
     "data": {
      "text/plain": [
       "0.12000000000000001"
      ]
     },
     "execution_count": 78,
     "metadata": {},
     "output_type": "execute_result"
    }
   ],
   "source": [
    "tethershare['Oct 22, 2017']"
   ]
  },
  {
   "cell_type": "code",
   "execution_count": null,
   "metadata": {},
   "outputs": [],
   "source": []
  }
 ],
 "metadata": {
  "kernelspec": {
   "display_name": "Python 3",
   "language": "python",
   "name": "python3"
  },
  "language_info": {
   "codemirror_mode": {
    "name": "ipython",
    "version": 3
   },
   "file_extension": ".py",
   "mimetype": "text/x-python",
   "name": "python",
   "nbconvert_exporter": "python",
   "pygments_lexer": "ipython3",
   "version": "3.6.5"
  }
 },
 "nbformat": 4,
 "nbformat_minor": 2
}
