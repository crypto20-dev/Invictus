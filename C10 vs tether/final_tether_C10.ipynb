{
 "cells": [
  {
   "cell_type": "code",
   "execution_count": 1,
   "metadata": {
    "hideCode": true,
    "hidePrompt": false
   },
   "outputs": [
    {
     "name": "stdout",
     "output_type": "stream",
     "text": [
      "Packages\n"
     ]
    }
   ],
   "source": [
    "import numpy as np\n",
    "import pandas as pd\n",
    "import math\n",
    "import matplotlib as mpl\n",
    "import matplotlib.pyplot as plt\n",
    "from matplotlib import axes\n",
    "import pickle\n",
    "from datetime import datetime\n",
    "from scipy import log,exp,sqrt,stats\n",
    "print('Packages')"
   ]
  },
  {
   "cell_type": "code",
   "execution_count": 2,
   "metadata": {
    "hideCode": true,
    "hidePrompt": false
   },
   "outputs": [
    {
     "name": "stdout",
     "output_type": "stream",
     "text": [
      "Loading of Data\n",
      "shape of data:  (127, 947)\n"
     ]
    }
   ],
   "source": [
    "# Importing pickle file\n",
    "data1 = np.load('latest_coin_data.pkl')\n",
    "data2 = np.load('additional_data.pkl')\n",
    "\n",
    "# Removing July dates from data1\n",
    "data1 = data1.drop(data1.columns[0:4], axis = 1)\n",
    "\n",
    "# Combining the two dataframes\n",
    "data = pd.concat([data2, data1], axis = 1, join = 'outer', sort = True)\n",
    "\n",
    "# Filling Nan values with 0\n",
    "data = data.dropna()\n",
    "\n",
    "# Saving original date index\n",
    "date_index = data.columns\n",
    "\n",
    "print('Loading of Data')\n",
    "print('shape of data: ', data.shape)"
   ]
  },
  {
   "cell_type": "code",
   "execution_count": 3,
   "metadata": {
    "hideCode": true,
    "hidePrompt": false
   },
   "outputs": [
    {
     "name": "stdout",
     "output_type": "stream",
     "text": [
      "Getting Market Caps\n"
     ]
    }
   ],
   "source": [
    "print('Getting Market Caps')\n",
    "# Initialize a close_price list\n",
    "mc_list = list()\n",
    "# Making a list of all close_prices\n",
    "for date in data.index:\n",
    "    for column in data.columns:\n",
    "        mc_list.append(data[column][date]['market_cap'])"
   ]
  },
  {
   "cell_type": "code",
   "execution_count": 4,
   "metadata": {
    "hideCode": true,
    "hidePrompt": false
   },
   "outputs": [
    {
     "name": "stdout",
     "output_type": "stream",
     "text": [
      "Making Market Cap dataframe\n"
     ]
    }
   ],
   "source": [
    "print('Making Market Cap dataframe')\n",
    "# Splitting list into 133 lists (one per coin)\n",
    "mc_list = [mc_list[i:i+947] for i  in range(0, len(mc_list), 947)]   \n",
    "# Making dataframe\n",
    "mc_data = pd.DataFrame(data = mc_list, index = data.index, columns = data.columns)"
   ]
  },
  {
   "cell_type": "code",
   "execution_count": 5,
   "metadata": {
    "hideCode": true,
    "hidePrompt": false
   },
   "outputs": [
    {
     "name": "stdout",
     "output_type": "stream",
     "text": [
      "Getting Close Prices\n"
     ]
    }
   ],
   "source": [
    "print('Getting Close Prices')\n",
    "# Initialize a close_price list\n",
    "cp_list = list()\n",
    "# Making a list of all close_prices\n",
    "for date in data.index:\n",
    "    for column in data.columns:\n",
    "        cp_list.append(data[column][date]['close_price'])"
   ]
  },
  {
   "cell_type": "code",
   "execution_count": 6,
   "metadata": {
    "hideCode": true,
    "hidePrompt": false
   },
   "outputs": [
    {
     "name": "stdout",
     "output_type": "stream",
     "text": [
      "Making Close Price dataframe\n"
     ]
    }
   ],
   "source": [
    "print('Making Close Price dataframe')\n",
    "# Splitting list into 133 lists (one per coin)\n",
    "cp_list = [cp_list[i:i+947] for i  in range(0, len(cp_list), 947)]   \n",
    "# Making dataframe\n",
    "close_data = pd.DataFrame(data = cp_list, index = data.index, columns = data.columns)"
   ]
  },
  {
   "cell_type": "code",
   "execution_count": 7,
   "metadata": {
    "hideCode": true,
    "hidePrompt": false
   },
   "outputs": [
    {
     "name": "stdout",
     "output_type": "stream",
     "text": [
      "flipping the dates in order\n"
     ]
    }
   ],
   "source": [
    "print('flipping the dates in order')\n",
    "# Reording the date index\n",
    "close_data = close_data[close_data.columns[::-1]]\n",
    "mc_data = mc_data[mc_data.columns[::-1]]\n",
    "data = data[data.columns[::-1]]"
   ]
  },
  {
   "cell_type": "code",
   "execution_count": 8,
   "metadata": {
    "hideCode": true,
    "hidePrompt": false
   },
   "outputs": [
    {
     "name": "stdout",
     "output_type": "stream",
     "text": [
      "Share cap functions\n"
     ]
    }
   ],
   "source": [
    "print('Share cap functions')\n",
    "\n",
    "def share_cap_recurse(market_cap_list, num_coins, cap_ceiling_amount, final_cap_list):\n",
    "\n",
    "    not_realloc_val = 0\n",
    "\n",
    "    realloc_val = 0\n",
    "\n",
    "    num_final = 0\n",
    "\n",
    "    new_market_cap_list = []\n",
    "\n",
    "    \n",
    "\n",
    "    for i in range(0, len(market_cap_list)):\n",
    "\n",
    "        if(market_cap_list[i] > cap_ceiling_amount):\n",
    "\n",
    "            final_cap_list.append(cap_ceiling_amount)\n",
    "\n",
    "            realloc_val += market_cap_list[i] - cap_ceiling_amount\n",
    "\n",
    "            num_final += 1\n",
    "\n",
    "        else:\n",
    "\n",
    "            not_realloc_val += market_cap_list[i]\n",
    "\n",
    "     \n",
    "\n",
    "    if(num_final!=0):\n",
    "\n",
    "        new_market_cap_list = [x * (1+(realloc_val/not_realloc_val)) for x in market_cap_list[num_final:]]\n",
    "\n",
    "    else:\n",
    "\n",
    "        new_market_cap_list = deepcopy(market_cap_list)\n",
    "\n",
    "    \n",
    "\n",
    "    if len(final_cap_list) == num_coins:\n",
    "\n",
    "        return\n",
    "\n",
    "    elif (new_market_cap_list[0] <= cap_ceiling_amount): #assumes ordered desc in market cap\n",
    "\n",
    "        for cap in new_market_cap_list:\n",
    "\n",
    "            final_cap_list.append(cap)\n",
    "\n",
    "        return       \n",
    "\n",
    "    else:\n",
    "\n",
    "        share_cap_recurse(new_market_cap_list, num_coins, cap_ceiling_amount, final_cap_list)\n",
    "\n",
    "        \n",
    "\n",
    "def share_cap(market_cap_list, cap_ceiling_percent):  #CHANGE CAP CEILING HERE\n",
    "\n",
    "    total_cap = sum(market_cap_list)\n",
    "\n",
    "    cap_ceiling_amount = total_cap * cap_ceiling_percent\n",
    "\n",
    "    final_cap_list = []\n",
    "\n",
    "    \n",
    "\n",
    "    share_cap_recurse(market_cap_list, len(market_cap_list), cap_ceiling_amount, final_cap_list)\n",
    "\n",
    "    \n",
    "\n",
    "    return (final_cap_list)"
   ]
  },
  {
   "cell_type": "code",
   "execution_count": 9,
   "metadata": {
    "hideCode": true,
    "hidePrompt": false
   },
   "outputs": [
    {
     "name": "stdout",
     "output_type": "stream",
     "text": [
      "selected market, selectedclose, dailychange and selectedreturns\n"
     ]
    }
   ],
   "source": [
    "# Selecting dates and median market caps\n",
    "selectedmarket = mc_data.copy()\n",
    "selectedmarket = selectedmarket.loc[:, 'Jul 01, 2017':'Jul 01, 2018':7]\n",
    "# selectedmarket = selectedmarket.resample('W',axis=1).median()\n",
    "\n",
    "# Selecting dates and median close price\n",
    "selectedclose = close_data.copy()\n",
    "selectedclose = selectedclose.loc[:, 'Jul 01, 2017':'Jul 01, 2018':7]\n",
    "# selectedclose = selectedclose.resample('W',axis=1).median()\n",
    "\n",
    "# Daily close prices\n",
    "dailyclose = close_data.loc[:,'Jul 01, 2017':'Jul 01, 2018']\n",
    "dailyclose1 = dailyclose.copy().T\n",
    "dailychanget = dailyclose1.pct_change(1).T\n",
    "dailychange = dailyclose1.pct_change(1).T\n",
    "\n",
    "# Calculating percent change for returns\n",
    "selectedclose1 = selectedclose.copy().T\n",
    "selectedreturns = selectedclose1.pct_change(1).T\n",
    "selectedreturns.head()\n",
    "print('selected market, selectedclose, dailychange and selectedreturns')"
   ]
  },
  {
   "cell_type": "code",
   "execution_count": 10,
   "metadata": {
    "hideCode": true,
    "hidePrompt": false
   },
   "outputs": [
    {
     "name": "stdout",
     "output_type": "stream",
     "text": [
      "Total market cap movement for tethershare\n"
     ]
    },
    {
     "data": {
      "text/html": [
       "<div>\n",
       "<style scoped>\n",
       "    .dataframe tbody tr th:only-of-type {\n",
       "        vertical-align: middle;\n",
       "    }\n",
       "\n",
       "    .dataframe tbody tr th {\n",
       "        vertical-align: top;\n",
       "    }\n",
       "\n",
       "    .dataframe thead th {\n",
       "        text-align: right;\n",
       "    }\n",
       "</style>\n",
       "<table border=\"1\" class=\"dataframe\">\n",
       "  <thead>\n",
       "    <tr style=\"text-align: right;\">\n",
       "      <th></th>\n",
       "      <th>total_mc</th>\n",
       "    </tr>\n",
       "  </thead>\n",
       "  <tbody>\n",
       "    <tr>\n",
       "      <th>Jul 01, 2017</th>\n",
       "      <td>NaN</td>\n",
       "    </tr>\n",
       "    <tr>\n",
       "      <th>Jul 08, 2017</th>\n",
       "      <td>-0.056833</td>\n",
       "    </tr>\n",
       "    <tr>\n",
       "      <th>Jul 15, 2017</th>\n",
       "      <td>-0.152925</td>\n",
       "    </tr>\n",
       "    <tr>\n",
       "      <th>Jul 22, 2017</th>\n",
       "      <td>0.140825</td>\n",
       "    </tr>\n",
       "    <tr>\n",
       "      <th>Jul 29, 2017</th>\n",
       "      <td>-0.010164</td>\n",
       "    </tr>\n",
       "  </tbody>\n",
       "</table>\n",
       "</div>"
      ],
      "text/plain": [
       "              total_mc\n",
       "Jul 01, 2017       NaN\n",
       "Jul 08, 2017 -0.056833\n",
       "Jul 15, 2017 -0.152925\n",
       "Jul 22, 2017  0.140825\n",
       "Jul 29, 2017 -0.010164"
      ]
     },
     "execution_count": 10,
     "metadata": {},
     "output_type": "execute_result"
    }
   ],
   "source": [
    "print('Total market cap movement for tethershare')\n",
    "tmc_list = list()\n",
    "\n",
    "for column in selectedmarket.columns:\n",
    "    tmc_list.append(selectedmarket[column].sum())\n",
    "    \n",
    "tmc_data = pd.DataFrame(data = tmc_list, columns = ['total_mc'])\n",
    "tmc_data.index = selectedmarket.columns\n",
    "tmc_pct = tmc_data.pct_change(1)\n",
    "\n",
    "# Resampling the tmc data to get weekly\n",
    "tmc_pct = tmc_pct.loc['Jul 01, 2017':'Jun 30, 2018',:]\n",
    "# tmc_pct = tmc_pct.resample('W').median()\n",
    "tmc_pct_index = tmc_pct.index\n",
    "\n",
    "tmc_pct.head(5)"
   ]
  },
  {
   "cell_type": "code",
   "execution_count": 11,
   "metadata": {
    "hideCode": false,
    "hidePrompt": false
   },
   "outputs": [
    {
     "name": "stdout",
     "output_type": "stream",
     "text": [
      "tether share allocations per week\n"
     ]
    }
   ],
   "source": [
    "print('tether share allocations per week')\n",
    "\n",
    "num_index = np.arange(53)\n",
    "tmc_pct.index = num_index\n",
    "\n",
    "usdt_share = {}\n",
    "usdt_share[0] = 0.10      #USDT starts off with ___% for the date\n",
    "\n",
    "\n",
    "for i in tmc_pct.index[1:]:\n",
    "    if tmc_pct['total_mc'][i] < -0.01:\n",
    "        usdt_share[i] = usdt_share[i -1] - 3*(tmc_pct['total_mc'][i])\n",
    "        if usdt_share[i] >= 1.00:\n",
    "            usdt_share[i] = 1.00\n",
    "    elif tmc_pct['total_mc'][i] > 0.01: \n",
    "        usdt_share[i] = usdt_share[i -1] - 3*(tmc_pct['total_mc'][i])\n",
    "        if usdt_share[i] <= 0:\n",
    "            usdt_share[i] = 0\n",
    "    else:\n",
    "        usdt_share[i] = usdt_share[i -1]"
   ]
  },
  {
   "cell_type": "code",
   "execution_count": 12,
   "metadata": {
    "hideCode": true
   },
   "outputs": [],
   "source": [
    "# print('tether share allocations per week')\n",
    "\n",
    "# num_index = np.arange(53)\n",
    "# tmc_pct.index = num_index\n",
    "\n",
    "# usdt_share = {}\n",
    "# usdt_share[0] = 0.10      #USDT starts off with ___% for the date\n",
    "\n",
    "\n",
    "# for i in tmc_pct.index[1:]:\n",
    "#     if tmc_pct['total_mc'][i] < -0.01:\n",
    "#         usdt_share[i] = usdt_share[i -1] + 0.02\n",
    "#         if usdt_share[i] >= 1.00:\n",
    "#             usdt_share[i] = 1.00\n",
    "#     elif tmc_pct['total_mc'][i] > 0.01: \n",
    "#         usdt_share[i] = usdt_share[i -1] - 0.02\n",
    "#         if usdt_share[i] <= 0:\n",
    "#             usdt_share[i] = 0\n",
    "#     else:\n",
    "#         usdt_share[i] = usdt_share[i -1]"
   ]
  },
  {
   "cell_type": "code",
   "execution_count": 13,
   "metadata": {
    "hideCode": false,
    "hidePrompt": false
   },
   "outputs": [
    {
     "name": "stdout",
     "output_type": "stream",
     "text": [
      "setting tethershare labels to match dates\n"
     ]
    }
   ],
   "source": [
    "ilist = range(0, len(tmc_pct))\n",
    "\n",
    "tethershare = {}\n",
    "         \n",
    "for (i, column) in zip(ilist, selectedmarket):\n",
    "    tethershare[column] = usdt_share[i]\n",
    "         \n",
    "print('setting tethershare labels to match dates')"
   ]
  },
  {
   "cell_type": "code",
   "execution_count": 14,
   "metadata": {
    "hideCode": true,
    "hideOutput": true,
    "hidePrompt": false
   },
   "outputs": [
    {
     "name": "stdout",
     "output_type": "stream",
     "text": [
      "usdt_close prices and usdt_retruns (pct change)\n"
     ]
    },
    {
     "data": {
      "text/html": [
       "<div>\n",
       "<style scoped>\n",
       "    .dataframe tbody tr th:only-of-type {\n",
       "        vertical-align: middle;\n",
       "    }\n",
       "\n",
       "    .dataframe tbody tr th {\n",
       "        vertical-align: top;\n",
       "    }\n",
       "\n",
       "    .dataframe thead th {\n",
       "        text-align: right;\n",
       "    }\n",
       "</style>\n",
       "<table border=\"1\" class=\"dataframe\">\n",
       "  <thead>\n",
       "    <tr style=\"text-align: right;\">\n",
       "      <th></th>\n",
       "      <th>tether</th>\n",
       "    </tr>\n",
       "  </thead>\n",
       "  <tbody>\n",
       "    <tr>\n",
       "      <th>Jul 01, 2017</th>\n",
       "      <td>NaN</td>\n",
       "    </tr>\n",
       "    <tr>\n",
       "      <th>Jul 02, 2017</th>\n",
       "      <td>0.000000</td>\n",
       "    </tr>\n",
       "    <tr>\n",
       "      <th>Jul 03, 2017</th>\n",
       "      <td>-0.019608</td>\n",
       "    </tr>\n",
       "    <tr>\n",
       "      <th>Jul 04, 2017</th>\n",
       "      <td>-0.001172</td>\n",
       "    </tr>\n",
       "    <tr>\n",
       "      <th>Jul 05, 2017</th>\n",
       "      <td>-0.002371</td>\n",
       "    </tr>\n",
       "  </tbody>\n",
       "</table>\n",
       "</div>"
      ],
      "text/plain": [
       "                tether\n",
       "Jul 01, 2017       NaN\n",
       "Jul 02, 2017  0.000000\n",
       "Jul 03, 2017 -0.019608\n",
       "Jul 04, 2017 -0.001172\n",
       "Jul 05, 2017 -0.002371"
      ]
     },
     "execution_count": 14,
     "metadata": {},
     "output_type": "execute_result"
    }
   ],
   "source": [
    "print('usdt_close prices and usdt_retruns (pct change)')\n",
    "usdt_close = pd.DataFrame(data = dailyclose.loc['tether'])\n",
    "usdt_returns = usdt_close.pct_change(1)\n",
    "usdt_returns.head(5)"
   ]
  },
  {
   "cell_type": "code",
   "execution_count": 15,
   "metadata": {
    "hideCode": true,
    "hidePrompt": false
   },
   "outputs": [
    {
     "name": "stdout",
     "output_type": "stream",
     "text": [
      "loop for C10 with tether market cap function\n"
     ]
    }
   ],
   "source": [
    "print('loop for C10 with tether market cap function')\n",
    "#FOR LOOP FOR C10 with tether\n",
    "topmc10t = {}\n",
    "sc10t = {}\n",
    "tc10t = {}\n",
    "ps10t = {}\n",
    "invest10t = {}\n",
    "returns10t = {}\n",
    "lg_returns10t = {}\n",
    "selectedmc10t = {}\n",
    "topcoins10t = {}\n",
    "c10sharet = {}\n",
    "usdt_returnst = {}\n",
    "daily_usdt_returnst = {}\n",
    "\n",
    "daily_changet = {}\n",
    "weighted_daily_changet = {}\n",
    "daily_returnst = {}\n",
    "c10t_returns = list()\n",
    "tether_returns = list()\n",
    "\n",
    "\n",
    "#for every date\n",
    "for column in selectedmarket:\n",
    "    #sort in descending order\n",
    "    selectedmc10t[column] = selectedmarket[column].sort_values(ascending=False)\n",
    "    \n",
    "    #take the top coins\n",
    "    topmc10t[column] = selectedmc10t[column].head(10)\n",
    "    #take the index of the top coins\n",
    "    topcoins10t[column] = topmc10t[column].index\n",
    "    \n",
    "    #get the share cap of the top 10\n",
    "    sc10t[column] = share_cap(topmc10t[column], 0.15)      #CHOICE OF CAP CEILING\n",
    "    \n",
    "    #total cap of top 10\n",
    "    tc10t[column] = sum(sc10t[column])\n",
    "    \n",
    "    #percentage of total fund allocated to tether/C10- NEW CODE!!\n",
    "    c10tfund = 1 - tethershare[column]\n",
    "    \n",
    "    #percentage share to be allocated for top 10 - NEW CODE!!!\n",
    "    ps10t[column] = [x * c10tfund / tc10t[column] for x in sc10t[column] ]\n",
    "    \n",
    "    #building dataframe of top20 coins by mc and %share to be invested\n",
    "    invest10t[column] = pd.DataFrame()\n",
    "    invest10t[column] = pd.DataFrame({'coin': topcoins10t[column], 'pct_share': ps10t[column]})\n",
    "    invest10t[column] = invest10t[column].set_index('coin')\n",
    "    \n",
    "jlist = list(range(0,365,7))\n",
    "    \n",
    "for (j, column) in zip(jlist, selectedmarket):\n",
    "    daily_changet[column] = pd.DataFrame()\n",
    "    daily_changet[column] = pd.DataFrame(data = dailychanget.iloc[:,j:j+7])\n",
    "    daily_changet[column] = daily_changet[column].loc[topcoins10t[column]]\n",
    "    weighted_daily_changet[column] = daily_changet[column].mul(ps10t[column], axis=0)\n",
    "    \n",
    "    daily_returnst[column] = weighted_daily_changet[column].sum()\n",
    "    daily_returnst[column].columns = ['daily_returns']\n",
    "    \n",
    "    \n",
    "    usdt_returnst[column] = pd.DataFrame()\n",
    "    usdt_returnst[column] = pd.DataFrame(data = usdt_returns.iloc[j:j+7,:])\n",
    "    daily_usdt_returnst[column] = usdt_returnst[column].mul(tethershare[column], axis = 0)\n",
    "    \n",
    "    c10t_returns.extend(daily_returnst[column])\n",
    "    tether_returns.extend(daily_usdt_returnst[column]['tether'])\n"
   ]
  },
  {
   "cell_type": "code",
   "execution_count": 16,
   "metadata": {
    "hideCode": true,
    "hidePrompt": false
   },
   "outputs": [
    {
     "name": "stdout",
     "output_type": "stream",
     "text": [
      "loop for C10 with tether market cap function\n"
     ]
    }
   ],
   "source": [
    "print('loop for C10 with tether market cap function')\n",
    "#FOR LOOP FOR C10 with tether\n",
    "topmc10 = {}\n",
    "sc10 = {}\n",
    "tc10 = {}\n",
    "ps10 = {}\n",
    "invest10 = {}\n",
    "returns10 = {}\n",
    "lg_returns10 = {}\n",
    "selectedmc10 = {}\n",
    "topcoins10 = {}\n",
    "c10share = {}\n",
    "usdt_returns = {}\n",
    "daily_usdt_returns = {}\n",
    "\n",
    "daily_change = {}\n",
    "weighted_daily_change = {}\n",
    "daily_returns = {}\n",
    "c10_returns = list()\n",
    "\n",
    "\n",
    "#for every date\n",
    "for column in selectedmarket:\n",
    "    #sort in descending order\n",
    "    selectedmc10[column] = selectedmarket[column].sort_values(ascending=False)\n",
    "    \n",
    "    #take the top coins\n",
    "    topmc10[column] = selectedmc10[column].head(10)\n",
    "    #take the index of the top coins\n",
    "    topcoins10[column] = topmc10[column].index\n",
    "    \n",
    "    #get the share cap of the top 10\n",
    "    sc10[column] = share_cap(topmc10[column], 0.15)      #CHOICE OF CAP CEILING\n",
    "    \n",
    "    #total cap of top 10\n",
    "    tc10[column] = sum(sc10[column])\n",
    "    \n",
    "    #percentage share to be allocated for top 10 - NEW CODE!!!\n",
    "    ps10[column] = [x / tc10[column] for x in sc10[column] ]\n",
    "    \n",
    "    #building dataframe of top20 coins by mc and %share to be invested\n",
    "    invest10[column] = pd.DataFrame()\n",
    "    invest10[column] = pd.DataFrame({'coin': topcoins10[column], 'pct_share': ps10[column]})\n",
    "    invest10[column] = invest10[column].set_index('coin')\n",
    "    \n",
    "jlist = list(range(0,365,7))\n",
    "    \n",
    "for (j, column) in zip(jlist, selectedmarket):\n",
    "    daily_change[column] = pd.DataFrame()\n",
    "    daily_change[column] = pd.DataFrame(data = dailychange.iloc[:,j:j+7])\n",
    "    daily_change[column] = daily_change[column].loc[topcoins10[column]]\n",
    "    weighted_daily_change[column] = daily_change[column].mul(ps10[column], axis=0)\n",
    "    \n",
    "    daily_returns[column] = weighted_daily_change[column].sum()\n",
    "    daily_returns[column].columns = ['daily_returns']\n",
    "\n",
    "    c10_returns.extend(daily_returns[column])"
   ]
  },
  {
   "cell_type": "code",
   "execution_count": 17,
   "metadata": {
    "hideCode": true,
    "hideOutput": true,
    "hidePrompt": false
   },
   "outputs": [
    {
     "data": {
      "text/html": [
       "<div>\n",
       "<style scoped>\n",
       "    .dataframe tbody tr th:only-of-type {\n",
       "        vertical-align: middle;\n",
       "    }\n",
       "\n",
       "    .dataframe tbody tr th {\n",
       "        vertical-align: top;\n",
       "    }\n",
       "\n",
       "    .dataframe thead th {\n",
       "        text-align: right;\n",
       "    }\n",
       "</style>\n",
       "<table border=\"1\" class=\"dataframe\">\n",
       "  <thead>\n",
       "    <tr style=\"text-align: right;\">\n",
       "      <th></th>\n",
       "      <th>c10t</th>\n",
       "      <th>tether</th>\n",
       "      <th>c10t+tether</th>\n",
       "      <th>c10</th>\n",
       "    </tr>\n",
       "  </thead>\n",
       "  <tbody>\n",
       "    <tr>\n",
       "      <th>Jul 01, 2017</th>\n",
       "      <td>0.000000</td>\n",
       "      <td>NaN</td>\n",
       "      <td>NaN</td>\n",
       "      <td>0.000000</td>\n",
       "    </tr>\n",
       "    <tr>\n",
       "      <th>Jul 02, 2017</th>\n",
       "      <td>0.036292</td>\n",
       "      <td>0.000000</td>\n",
       "      <td>0.036292</td>\n",
       "      <td>0.040324</td>\n",
       "    </tr>\n",
       "    <tr>\n",
       "      <th>Jul 03, 2017</th>\n",
       "      <td>0.043125</td>\n",
       "      <td>-0.001961</td>\n",
       "      <td>0.041164</td>\n",
       "      <td>0.047916</td>\n",
       "    </tr>\n",
       "    <tr>\n",
       "      <th>Jul 04, 2017</th>\n",
       "      <td>0.028673</td>\n",
       "      <td>-0.000117</td>\n",
       "      <td>0.028556</td>\n",
       "      <td>0.031859</td>\n",
       "    </tr>\n",
       "    <tr>\n",
       "      <th>Jul 05, 2017</th>\n",
       "      <td>0.000603</td>\n",
       "      <td>-0.000237</td>\n",
       "      <td>0.000366</td>\n",
       "      <td>0.000670</td>\n",
       "    </tr>\n",
       "  </tbody>\n",
       "</table>\n",
       "</div>"
      ],
      "text/plain": [
       "                  c10t    tether  c10t+tether       c10\n",
       "Jul 01, 2017  0.000000       NaN          NaN  0.000000\n",
       "Jul 02, 2017  0.036292  0.000000     0.036292  0.040324\n",
       "Jul 03, 2017  0.043125 -0.001961     0.041164  0.047916\n",
       "Jul 04, 2017  0.028673 -0.000117     0.028556  0.031859\n",
       "Jul 05, 2017  0.000603 -0.000237     0.000366  0.000670"
      ]
     },
     "execution_count": 17,
     "metadata": {},
     "output_type": "execute_result"
    }
   ],
   "source": [
    "c10t_returns_df = pd.DataFrame(data = c10t_returns, index = dailychange.columns, \n",
    "                               columns = ['c10t'])\n",
    "c10t_returns_df['tether'] = tether_returns\n",
    "c10t_returns_df['c10t+tether'] = c10t_returns_df['tether'] + c10t_returns_df['c10t']\n",
    "\n",
    "c10t_returns_df['c10'] = c10_returns\n",
    "\n",
    "c10t_returns_df.head(5)"
   ]
  },
  {
   "cell_type": "code",
   "execution_count": 18,
   "metadata": {
    "hideCode": false,
    "hideOutput": true,
    "hidePrompt": false
   },
   "outputs": [
    {
     "data": {
      "text/html": [
       "<div>\n",
       "<style scoped>\n",
       "    .dataframe tbody tr th:only-of-type {\n",
       "        vertical-align: middle;\n",
       "    }\n",
       "\n",
       "    .dataframe tbody tr th {\n",
       "        vertical-align: top;\n",
       "    }\n",
       "\n",
       "    .dataframe thead th {\n",
       "        text-align: right;\n",
       "    }\n",
       "</style>\n",
       "<table border=\"1\" class=\"dataframe\">\n",
       "  <thead>\n",
       "    <tr style=\"text-align: right;\">\n",
       "      <th></th>\n",
       "      <th>c10t</th>\n",
       "      <th>tether</th>\n",
       "      <th>c10t+tether</th>\n",
       "      <th>c10</th>\n",
       "      <th>c10t_cum</th>\n",
       "      <th>c10_cum</th>\n",
       "    </tr>\n",
       "  </thead>\n",
       "  <tbody>\n",
       "    <tr>\n",
       "      <th>Jul 01, 2017</th>\n",
       "      <td>0.000000</td>\n",
       "      <td>NaN</td>\n",
       "      <td>NaN</td>\n",
       "      <td>0.000000</td>\n",
       "      <td>NaN</td>\n",
       "      <td>1.000000</td>\n",
       "    </tr>\n",
       "    <tr>\n",
       "      <th>Jul 02, 2017</th>\n",
       "      <td>0.036292</td>\n",
       "      <td>0.000000</td>\n",
       "      <td>0.036292</td>\n",
       "      <td>0.040324</td>\n",
       "      <td>1.036292</td>\n",
       "      <td>1.040324</td>\n",
       "    </tr>\n",
       "    <tr>\n",
       "      <th>Jul 03, 2017</th>\n",
       "      <td>0.043125</td>\n",
       "      <td>-0.001961</td>\n",
       "      <td>0.041164</td>\n",
       "      <td>0.047916</td>\n",
       "      <td>1.078950</td>\n",
       "      <td>1.090173</td>\n",
       "    </tr>\n",
       "    <tr>\n",
       "      <th>Jul 04, 2017</th>\n",
       "      <td>0.028673</td>\n",
       "      <td>-0.000117</td>\n",
       "      <td>0.028556</td>\n",
       "      <td>0.031859</td>\n",
       "      <td>1.109760</td>\n",
       "      <td>1.124904</td>\n",
       "    </tr>\n",
       "    <tr>\n",
       "      <th>Jul 05, 2017</th>\n",
       "      <td>0.000603</td>\n",
       "      <td>-0.000237</td>\n",
       "      <td>0.000366</td>\n",
       "      <td>0.000670</td>\n",
       "      <td>1.110166</td>\n",
       "      <td>1.125658</td>\n",
       "    </tr>\n",
       "  </tbody>\n",
       "</table>\n",
       "</div>"
      ],
      "text/plain": [
       "                  c10t    tether  c10t+tether       c10  c10t_cum   c10_cum\n",
       "Jul 01, 2017  0.000000       NaN          NaN  0.000000       NaN  1.000000\n",
       "Jul 02, 2017  0.036292  0.000000     0.036292  0.040324  1.036292  1.040324\n",
       "Jul 03, 2017  0.043125 -0.001961     0.041164  0.047916  1.078950  1.090173\n",
       "Jul 04, 2017  0.028673 -0.000117     0.028556  0.031859  1.109760  1.124904\n",
       "Jul 05, 2017  0.000603 -0.000237     0.000366  0.000670  1.110166  1.125658"
      ]
     },
     "execution_count": 18,
     "metadata": {},
     "output_type": "execute_result"
    }
   ],
   "source": [
    "c10t_returns_df['c10t_cum'] = (1 + c10t_returns_df['c10t+tether']).cumprod()\n",
    "c10t_returns_df['c10_cum'] = (1 + c10t_returns_df['c10']).cumprod()\n",
    "c10t_returns_df.head(5)"
   ]
  },
  {
   "cell_type": "code",
   "execution_count": 19,
   "metadata": {
    "hideCode": false,
    "hideOutput": false,
    "hidePrompt": false
   },
   "outputs": [
    {
     "data": {
      "text/html": [
       "<div>\n",
       "<style scoped>\n",
       "    .dataframe tbody tr th:only-of-type {\n",
       "        vertical-align: middle;\n",
       "    }\n",
       "\n",
       "    .dataframe tbody tr th {\n",
       "        vertical-align: top;\n",
       "    }\n",
       "\n",
       "    .dataframe thead th {\n",
       "        text-align: right;\n",
       "    }\n",
       "</style>\n",
       "<table border=\"1\" class=\"dataframe\">\n",
       "  <thead>\n",
       "    <tr style=\"text-align: right;\">\n",
       "      <th></th>\n",
       "      <th>c10t</th>\n",
       "      <th>tether</th>\n",
       "      <th>c10t+tether</th>\n",
       "      <th>c10</th>\n",
       "      <th>c10t_cum</th>\n",
       "      <th>c10_cum</th>\n",
       "      <th>c10+tether</th>\n",
       "    </tr>\n",
       "  </thead>\n",
       "  <tbody>\n",
       "    <tr>\n",
       "      <th>Jul 01, 2017</th>\n",
       "      <td>0.000000</td>\n",
       "      <td>NaN</td>\n",
       "      <td>NaN</td>\n",
       "      <td>1.000000</td>\n",
       "      <td>1.000000</td>\n",
       "      <td>1.000000</td>\n",
       "      <td>1.0</td>\n",
       "    </tr>\n",
       "    <tr>\n",
       "      <th>Jul 02, 2017</th>\n",
       "      <td>0.036292</td>\n",
       "      <td>0.000000</td>\n",
       "      <td>0.036292</td>\n",
       "      <td>0.040324</td>\n",
       "      <td>1.036292</td>\n",
       "      <td>1.040324</td>\n",
       "      <td>NaN</td>\n",
       "    </tr>\n",
       "    <tr>\n",
       "      <th>Jul 03, 2017</th>\n",
       "      <td>0.043125</td>\n",
       "      <td>-0.001961</td>\n",
       "      <td>0.041164</td>\n",
       "      <td>0.047916</td>\n",
       "      <td>1.078950</td>\n",
       "      <td>1.090173</td>\n",
       "      <td>NaN</td>\n",
       "    </tr>\n",
       "    <tr>\n",
       "      <th>Jul 04, 2017</th>\n",
       "      <td>0.028673</td>\n",
       "      <td>-0.000117</td>\n",
       "      <td>0.028556</td>\n",
       "      <td>0.031859</td>\n",
       "      <td>1.109760</td>\n",
       "      <td>1.124904</td>\n",
       "      <td>NaN</td>\n",
       "    </tr>\n",
       "    <tr>\n",
       "      <th>Jul 05, 2017</th>\n",
       "      <td>0.000603</td>\n",
       "      <td>-0.000237</td>\n",
       "      <td>0.000366</td>\n",
       "      <td>0.000670</td>\n",
       "      <td>1.110166</td>\n",
       "      <td>1.125658</td>\n",
       "      <td>NaN</td>\n",
       "    </tr>\n",
       "    <tr>\n",
       "      <th>Jul 06, 2017</th>\n",
       "      <td>-0.005157</td>\n",
       "      <td>0.000355</td>\n",
       "      <td>-0.004802</td>\n",
       "      <td>-0.005730</td>\n",
       "      <td>1.104836</td>\n",
       "      <td>1.119208</td>\n",
       "      <td>NaN</td>\n",
       "    </tr>\n",
       "    <tr>\n",
       "      <th>Jul 07, 2017</th>\n",
       "      <td>-0.072035</td>\n",
       "      <td>0.001000</td>\n",
       "      <td>-0.071035</td>\n",
       "      <td>-0.080038</td>\n",
       "      <td>1.026354</td>\n",
       "      <td>1.029629</td>\n",
       "      <td>NaN</td>\n",
       "    </tr>\n",
       "    <tr>\n",
       "      <th>Jul 08, 2017</th>\n",
       "      <td>0.025928</td>\n",
       "      <td>-0.002752</td>\n",
       "      <td>0.023176</td>\n",
       "      <td>0.035542</td>\n",
       "      <td>1.050141</td>\n",
       "      <td>1.066224</td>\n",
       "      <td>NaN</td>\n",
       "    </tr>\n",
       "    <tr>\n",
       "      <th>Jul 09, 2017</th>\n",
       "      <td>-0.027777</td>\n",
       "      <td>0.002780</td>\n",
       "      <td>-0.024996</td>\n",
       "      <td>-0.038076</td>\n",
       "      <td>1.023891</td>\n",
       "      <td>1.025626</td>\n",
       "      <td>NaN</td>\n",
       "    </tr>\n",
       "    <tr>\n",
       "      <th>Jul 10, 2017</th>\n",
       "      <td>-0.074677</td>\n",
       "      <td>0.000000</td>\n",
       "      <td>-0.074677</td>\n",
       "      <td>-0.102368</td>\n",
       "      <td>0.947430</td>\n",
       "      <td>0.920635</td>\n",
       "      <td>NaN</td>\n",
       "    </tr>\n",
       "  </tbody>\n",
       "</table>\n",
       "</div>"
      ],
      "text/plain": [
       "                  c10t    tether  c10t+tether       c10  c10t_cum   c10_cum  \\\n",
       "Jul 01, 2017  0.000000       NaN          NaN  1.000000  1.000000  1.000000   \n",
       "Jul 02, 2017  0.036292  0.000000     0.036292  0.040324  1.036292  1.040324   \n",
       "Jul 03, 2017  0.043125 -0.001961     0.041164  0.047916  1.078950  1.090173   \n",
       "Jul 04, 2017  0.028673 -0.000117     0.028556  0.031859  1.109760  1.124904   \n",
       "Jul 05, 2017  0.000603 -0.000237     0.000366  0.000670  1.110166  1.125658   \n",
       "Jul 06, 2017 -0.005157  0.000355    -0.004802 -0.005730  1.104836  1.119208   \n",
       "Jul 07, 2017 -0.072035  0.001000    -0.071035 -0.080038  1.026354  1.029629   \n",
       "Jul 08, 2017  0.025928 -0.002752     0.023176  0.035542  1.050141  1.066224   \n",
       "Jul 09, 2017 -0.027777  0.002780    -0.024996 -0.038076  1.023891  1.025626   \n",
       "Jul 10, 2017 -0.074677  0.000000    -0.074677 -0.102368  0.947430  0.920635   \n",
       "\n",
       "              c10+tether  \n",
       "Jul 01, 2017         1.0  \n",
       "Jul 02, 2017         NaN  \n",
       "Jul 03, 2017         NaN  \n",
       "Jul 04, 2017         NaN  \n",
       "Jul 05, 2017         NaN  \n",
       "Jul 06, 2017         NaN  \n",
       "Jul 07, 2017         NaN  \n",
       "Jul 08, 2017         NaN  \n",
       "Jul 09, 2017         NaN  \n",
       "Jul 10, 2017         NaN  "
      ]
     },
     "execution_count": 19,
     "metadata": {},
     "output_type": "execute_result"
    }
   ],
   "source": [
    "c10t_returns_df.at['Jul 01, 2017','c10+tether'] = 1\n",
    "c10t_returns_df.at['Jul 01, 2017','c10'] = 1\n",
    "c10t_returns_df.at['Jul 01, 2017','c10_cum'] = 1\n",
    "c10t_returns_df.at['Jul 01, 2017','c10t_cum'] = 1\n",
    "c10t_returns_df.head(10)"
   ]
  },
  {
   "cell_type": "code",
   "execution_count": 20,
   "metadata": {},
   "outputs": [
    {
     "data": {
      "text/plain": [
       "0.03938238929571073"
      ]
     },
     "execution_count": 20,
     "metadata": {},
     "output_type": "execute_result"
    }
   ],
   "source": [
    "c10t_returns_df['c10t+tether'].std(axis = 0)"
   ]
  },
  {
   "cell_type": "code",
   "execution_count": 21,
   "metadata": {
    "hideCode": true,
    "hideOutput": true,
    "hidePrompt": false
   },
   "outputs": [
    {
     "data": {
      "text/html": [
       "<div>\n",
       "<style scoped>\n",
       "    .dataframe tbody tr th:only-of-type {\n",
       "        vertical-align: middle;\n",
       "    }\n",
       "\n",
       "    .dataframe tbody tr th {\n",
       "        vertical-align: top;\n",
       "    }\n",
       "\n",
       "    .dataframe thead th {\n",
       "        text-align: right;\n",
       "    }\n",
       "</style>\n",
       "<table border=\"1\" class=\"dataframe\">\n",
       "  <thead>\n",
       "    <tr style=\"text-align: right;\">\n",
       "      <th></th>\n",
       "      <th>tether_share</th>\n",
       "    </tr>\n",
       "  </thead>\n",
       "  <tbody>\n",
       "    <tr>\n",
       "      <th>Jul 01, 2017</th>\n",
       "      <td>0.100000</td>\n",
       "    </tr>\n",
       "    <tr>\n",
       "      <th>Jul 08, 2017</th>\n",
       "      <td>0.270499</td>\n",
       "    </tr>\n",
       "    <tr>\n",
       "      <th>Jul 15, 2017</th>\n",
       "      <td>0.729274</td>\n",
       "    </tr>\n",
       "    <tr>\n",
       "      <th>Jul 22, 2017</th>\n",
       "      <td>0.306798</td>\n",
       "    </tr>\n",
       "    <tr>\n",
       "      <th>Jul 29, 2017</th>\n",
       "      <td>0.337291</td>\n",
       "    </tr>\n",
       "  </tbody>\n",
       "</table>\n",
       "</div>"
      ],
      "text/plain": [
       "              tether_share\n",
       "Jul 01, 2017      0.100000\n",
       "Jul 08, 2017      0.270499\n",
       "Jul 15, 2017      0.729274\n",
       "Jul 22, 2017      0.306798\n",
       "Jul 29, 2017      0.337291"
      ]
     },
     "execution_count": 21,
     "metadata": {},
     "output_type": "execute_result"
    }
   ],
   "source": [
    "tether_allocations = pd.DataFrame(data = tethershare, index = tethershare.keys())\n",
    "tether_allocations = tether_allocations.drop(tether_allocations.index[1:])\n",
    "tether_allocations = tether_allocations.T\n",
    "tether_allocations.columns = ['tether_share']\n",
    "tether_allocations.head(5)"
   ]
  },
  {
   "cell_type": "code",
   "execution_count": 24,
   "metadata": {
    "hideCode": false,
    "hideOutput": true,
    "hidePrompt": false
   },
   "outputs": [
    {
     "data": {
      "image/png": "[encoded data removed]",
      "text/plain": [
       "<Figure size 2160x1080 with 1 Axes>"
      ]
     },
     "metadata": {},
     "output_type": "display_data"
    }
   ],
   "source": [
    "plt.ylabel('Percentage Change /100%')\n",
    "plt.rcParams['figure.figsize'] = (30,15)\n",
    "plt.plot(c10t_returns_df['c10_cum'], label=\"C10\")\n",
    "plt.plot(c10t_returns_df['c10t_cum'], label=\"C10 w/Tether\")\n",
    "plt.xticks(np.arange(0,365,step=7), rotation=90)\n",
    "plt.title('C10 vs C10 w/Tether (market cap)')\n",
    "plt.legend()\n",
    "plt.show()"
   ]
  },
  {
   "cell_type": "code",
   "execution_count": 23,
   "metadata": {
    "hideCode": false,
    "hideOutput": true,
    "hidePrompt": false
   },
   "outputs": [
    {
     "data": {
      "image/png": "[encoded data removed]",
      "text/plain": [
       "<Figure size 1152x864 with 2 Axes>"
      ]
     },
     "metadata": {},
     "output_type": "display_data"
    }
   ],
   "source": [
    "fig, (ax1, ax2) = plt.subplots(2, 1, figsize=(16,12))\n",
    "ax1.plot(tether_allocations.index, tether_allocations, label = \"Tether allocation mc*2\")\n",
    "ax1.set_ylabel('% share allocated to tether')\n",
    "\n",
    "ax2.plot(c10t_returns_df.index, c10t_returns_df['c10t_cum'], label = \"Tether 2x (100% cap)\")\n",
    "ax2.plot(c10t_returns_df.index, c10t_returns_df['c10_cum'], label = \"C10\")\n",
    "ax2.set_ylabel('Portfolio cumulative simple returns (%)')\n",
    "\n",
    "\n",
    "ax2.set_xticks(np.arange(0,365,step=7))\n",
    "\n",
    "ax1.set_xticklabels(tether_allocations.index ,rotation=90, fontsize = 7)\n",
    "ax2.set_xticklabels(tether_allocations.index ,rotation=90, fontsize = 7)\n",
    "\n",
    "labels = [item.get_text() for item in mpl.axes.Axes.get_xticklabels(ax2)]\n",
    "\n",
    "ax1.legend()\n",
    "ax2.legend()\n",
    "\n",
    "plt.show()"
   ]
  },
  {
   "cell_type": "code",
   "execution_count": 24,
   "metadata": {
    "hideCode": false,
    "hideOutput": false,
    "hidePrompt": false
   },
   "outputs": [
    {
     "name": "stdout",
     "output_type": "stream",
     "text": [
      "Monthly returns growth\n"
     ]
    },
    {
     "data": {
      "text/html": [
       "<div>\n",
       "<style scoped>\n",
       "    .dataframe tbody tr th:only-of-type {\n",
       "        vertical-align: middle;\n",
       "    }\n",
       "\n",
       "    .dataframe tbody tr th {\n",
       "        vertical-align: top;\n",
       "    }\n",
       "\n",
       "    .dataframe thead th {\n",
       "        text-align: right;\n",
       "    }\n",
       "</style>\n",
       "<table border=\"1\" class=\"dataframe\">\n",
       "  <thead>\n",
       "    <tr style=\"text-align: right;\">\n",
       "      <th></th>\n",
       "      <th>c10_cum</th>\n",
       "      <th>c10t_cum</th>\n",
       "    </tr>\n",
       "  </thead>\n",
       "  <tbody>\n",
       "    <tr>\n",
       "      <th>2017-07-01</th>\n",
       "      <td>1.000000</td>\n",
       "      <td>1.000000</td>\n",
       "    </tr>\n",
       "    <tr>\n",
       "      <th>2017-08-01</th>\n",
       "      <td>0.980316</td>\n",
       "      <td>0.948843</td>\n",
       "    </tr>\n",
       "    <tr>\n",
       "      <th>2017-09-01</th>\n",
       "      <td>1.829290</td>\n",
       "      <td>1.756159</td>\n",
       "    </tr>\n",
       "    <tr>\n",
       "      <th>2017-10-01</th>\n",
       "      <td>1.393434</td>\n",
       "      <td>1.343286</td>\n",
       "    </tr>\n",
       "    <tr>\n",
       "      <th>2017-11-01</th>\n",
       "      <td>1.386734</td>\n",
       "      <td>1.318624</td>\n",
       "    </tr>\n",
       "    <tr>\n",
       "      <th>2017-12-01</th>\n",
       "      <td>2.617605</td>\n",
       "      <td>2.423075</td>\n",
       "    </tr>\n",
       "    <tr>\n",
       "      <th>2018-01-01</th>\n",
       "      <td>7.620507</td>\n",
       "      <td>6.660856</td>\n",
       "    </tr>\n",
       "    <tr>\n",
       "      <th>2018-02-01</th>\n",
       "      <td>5.379348</td>\n",
       "      <td>6.718447</td>\n",
       "    </tr>\n",
       "    <tr>\n",
       "      <th>2018-03-01</th>\n",
       "      <td>5.440127</td>\n",
       "      <td>6.419426</td>\n",
       "    </tr>\n",
       "    <tr>\n",
       "      <th>2018-04-01</th>\n",
       "      <td>3.029423</td>\n",
       "      <td>5.793131</td>\n",
       "    </tr>\n",
       "    <tr>\n",
       "      <th>2018-05-01</th>\n",
       "      <td>4.767651</td>\n",
       "      <td>7.411394</td>\n",
       "    </tr>\n",
       "    <tr>\n",
       "      <th>2018-06-01</th>\n",
       "      <td>3.608902</td>\n",
       "      <td>5.992322</td>\n",
       "    </tr>\n",
       "    <tr>\n",
       "      <th>2018-07-01</th>\n",
       "      <td>2.743276</td>\n",
       "      <td>5.657581</td>\n",
       "    </tr>\n",
       "  </tbody>\n",
       "</table>\n",
       "</div>"
      ],
      "text/plain": [
       "             c10_cum  c10t_cum\n",
       "2017-07-01  1.000000  1.000000\n",
       "2017-08-01  0.980316  0.948843\n",
       "2017-09-01  1.829290  1.756159\n",
       "2017-10-01  1.393434  1.343286\n",
       "2017-11-01  1.386734  1.318624\n",
       "2017-12-01  2.617605  2.423075\n",
       "2018-01-01  7.620507  6.660856\n",
       "2018-02-01  5.379348  6.718447\n",
       "2018-03-01  5.440127  6.419426\n",
       "2018-04-01  3.029423  5.793131\n",
       "2018-05-01  4.767651  7.411394\n",
       "2018-06-01  3.608902  5.992322\n",
       "2018-07-01  2.743276  5.657581"
      ]
     },
     "execution_count": 24,
     "metadata": {},
     "output_type": "execute_result"
    }
   ],
   "source": [
    "print('Monthly returns growth')\n",
    "# Resampling the two returns by month\n",
    "monthly_returns = pd.DataFrame(data = [c10t_returns_df['c10_cum'], \n",
    "                                       c10t_returns_df['c10t_cum']],)\n",
    "monthly_returns.columns = pd.to_datetime(monthly_returns.columns)\n",
    "monthly_returns = monthly_returns.T\n",
    "monthly_df = monthly_returns.resample('MS').asfreq()[0:13]\n",
    "\n",
    "\n",
    "monthly_df.head(13)"
   ]
  },
  {
   "cell_type": "code",
   "execution_count": 25,
   "metadata": {
    "hideCode": false,
    "hideOutput": false,
    "hidePrompt": false
   },
   "outputs": [
    {
     "name": "stdout",
     "output_type": "stream",
     "text": [
      "Monthly Returns 2*MC, 100% cap\n"
     ]
    },
    {
     "data": {
      "text/html": [
       "<div>\n",
       "<style scoped>\n",
       "    .dataframe tbody tr th:only-of-type {\n",
       "        vertical-align: middle;\n",
       "    }\n",
       "\n",
       "    .dataframe tbody tr th {\n",
       "        vertical-align: top;\n",
       "    }\n",
       "\n",
       "    .dataframe thead th {\n",
       "        text-align: right;\n",
       "    }\n",
       "</style>\n",
       "<table border=\"1\" class=\"dataframe\">\n",
       "  <thead>\n",
       "    <tr style=\"text-align: right;\">\n",
       "      <th></th>\n",
       "      <th>c10_cum</th>\n",
       "      <th>c10t_cum</th>\n",
       "    </tr>\n",
       "  </thead>\n",
       "  <tbody>\n",
       "    <tr>\n",
       "      <th>2017-07-01</th>\n",
       "      <td>-0.019684</td>\n",
       "      <td>-0.051157</td>\n",
       "    </tr>\n",
       "    <tr>\n",
       "      <th>2017-08-01</th>\n",
       "      <td>0.866020</td>\n",
       "      <td>0.850843</td>\n",
       "    </tr>\n",
       "    <tr>\n",
       "      <th>2017-09-01</th>\n",
       "      <td>-0.238265</td>\n",
       "      <td>-0.235100</td>\n",
       "    </tr>\n",
       "    <tr>\n",
       "      <th>2017-10-01</th>\n",
       "      <td>-0.004808</td>\n",
       "      <td>-0.018360</td>\n",
       "    </tr>\n",
       "    <tr>\n",
       "      <th>2017-11-01</th>\n",
       "      <td>0.887604</td>\n",
       "      <td>0.837579</td>\n",
       "    </tr>\n",
       "    <tr>\n",
       "      <th>2017-12-01</th>\n",
       "      <td>1.911252</td>\n",
       "      <td>1.748927</td>\n",
       "    </tr>\n",
       "    <tr>\n",
       "      <th>2018-01-01</th>\n",
       "      <td>-0.294096</td>\n",
       "      <td>0.008646</td>\n",
       "    </tr>\n",
       "    <tr>\n",
       "      <th>2018-02-01</th>\n",
       "      <td>0.011299</td>\n",
       "      <td>-0.044507</td>\n",
       "    </tr>\n",
       "    <tr>\n",
       "      <th>2018-03-01</th>\n",
       "      <td>-0.443134</td>\n",
       "      <td>-0.097562</td>\n",
       "    </tr>\n",
       "    <tr>\n",
       "      <th>2018-04-01</th>\n",
       "      <td>0.573782</td>\n",
       "      <td>0.279342</td>\n",
       "    </tr>\n",
       "    <tr>\n",
       "      <th>2018-05-01</th>\n",
       "      <td>-0.243044</td>\n",
       "      <td>-0.191472</td>\n",
       "    </tr>\n",
       "    <tr>\n",
       "      <th>2018-06-01</th>\n",
       "      <td>-0.239858</td>\n",
       "      <td>-0.055862</td>\n",
       "    </tr>\n",
       "    <tr>\n",
       "      <th>2018-07-01</th>\n",
       "      <td>NaN</td>\n",
       "      <td>NaN</td>\n",
       "    </tr>\n",
       "  </tbody>\n",
       "</table>\n",
       "</div>"
      ],
      "text/plain": [
       "             c10_cum  c10t_cum\n",
       "2017-07-01 -0.019684 -0.051157\n",
       "2017-08-01  0.866020  0.850843\n",
       "2017-09-01 -0.238265 -0.235100\n",
       "2017-10-01 -0.004808 -0.018360\n",
       "2017-11-01  0.887604  0.837579\n",
       "2017-12-01  1.911252  1.748927\n",
       "2018-01-01 -0.294096  0.008646\n",
       "2018-02-01  0.011299 -0.044507\n",
       "2018-03-01 -0.443134 -0.097562\n",
       "2018-04-01  0.573782  0.279342\n",
       "2018-05-01 -0.243044 -0.191472\n",
       "2018-06-01 -0.239858 -0.055862\n",
       "2018-07-01       NaN       NaN"
      ]
     },
     "execution_count": 25,
     "metadata": {},
     "output_type": "execute_result"
    }
   ],
   "source": [
    "print('Monthly Returns 2*MC, 100% cap')\n",
    "monthly_df2 = (monthly_df - monthly_df.shift(1))/monthly_df.shift(1)\n",
    "monthly_df2.shift(-1)"
   ]
  },
  {
   "cell_type": "code",
   "execution_count": null,
   "metadata": {
    "hideCode": false
   },
   "outputs": [],
   "source": [
    "monthly_df2.to_csv('2%100.csv')"
   ]
  },
  {
   "cell_type": "code",
   "execution_count": null,
   "metadata": {},
   "outputs": [],
   "source": []
  },
  {
   "cell_type": "code",
   "execution_count": null,
   "metadata": {},
   "outputs": [],
   "source": []
  }
 ],
 "metadata": {
  "celltoolbar": "Hide code",
  "hide_code_all_hidden": false,
  "kernelspec": {
   "display_name": "Python 3",
   "language": "python",
   "name": "python3"
  },
  "language_info": {
   "codemirror_mode": {
    "name": "ipython",
    "version": 3
   },
   "file_extension": ".py",
   "mimetype": "text/x-python",
   "name": "python",
   "nbconvert_exporter": "python",
   "pygments_lexer": "ipython3",
   "version": "3.7.0"
  }
 },
 "nbformat": 4,
 "nbformat_minor": 2
}
