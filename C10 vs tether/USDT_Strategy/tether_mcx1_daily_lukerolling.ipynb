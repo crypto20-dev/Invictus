{
 "cells": [
  {
   "cell_type": "code",
   "execution_count": 1,
   "metadata": {
    "hideCode": false,
    "hidePrompt": false
   },
   "outputs": [
    {
     "name": "stdout",
     "output_type": "stream",
     "text": [
      "Packages\n"
     ]
    }
   ],
   "source": [
    "import numpy as np\n",
    "import pandas as pd\n",
    "import math\n",
    "import matplotlib as mpl\n",
    "import matplotlib.pyplot as plt\n",
    "from matplotlib import axes\n",
    "import pickle\n",
    "from datetime import datetime\n",
    "from scipy import log,exp,sqrt,stats\n",
    "print('Packages')"
   ]
  },
  {
   "cell_type": "code",
   "execution_count": 2,
   "metadata": {
    "hideCode": false,
    "hidePrompt": false
   },
   "outputs": [
    {
     "name": "stdout",
     "output_type": "stream",
     "text": [
      "Loading of Data\n",
      "shape of data:  (127, 947)\n"
     ]
    }
   ],
   "source": [
    "# Importing pickle file\n",
    "data1 = np.load('/home/luke/Workspace/Invictus/Data/latest_coin_data.pkl')\n",
    "data2 = np.load('/home/luke/Workspace/Invictus/Data/additional_data.pkl')\n",
    "\n",
    "# Removing July dates from data1\n",
    "data1 = data1.drop(data1.columns[0:4], axis = 1)\n",
    "\n",
    "# Combining the two dataframes\n",
    "data = pd.concat([data2, data1], axis = 1, join = 'outer', sort = True)\n",
    "\n",
    "# Filling Nan values with 0\n",
    "data = data.dropna()\n",
    "\n",
    "# Saving original date index\n",
    "date_index = data.columns\n",
    "\n",
    "print('Loading of Data')\n",
    "print('shape of data: ', data.shape)"
   ]
  },
  {
   "cell_type": "code",
   "execution_count": 3,
   "metadata": {
    "hideCode": false,
    "hidePrompt": false
   },
   "outputs": [
    {
     "data": {
      "text/html": [
       "<div>\n",
       "<style scoped>\n",
       "    .dataframe tbody tr th:only-of-type {\n",
       "        vertical-align: middle;\n",
       "    }\n",
       "\n",
       "    .dataframe tbody tr th {\n",
       "        vertical-align: top;\n",
       "    }\n",
       "\n",
       "    .dataframe thead th {\n",
       "        text-align: right;\n",
       "    }\n",
       "</style>\n",
       "<table border=\"1\" class=\"dataframe\">\n",
       "  <thead>\n",
       "    <tr style=\"text-align: right;\">\n",
       "      <th></th>\n",
       "      <th>Aug 04, 2018</th>\n",
       "      <th>Aug 03, 2018</th>\n",
       "      <th>Aug 02, 2018</th>\n",
       "      <th>Aug 01, 2018</th>\n",
       "      <th>Jul 31, 2018</th>\n",
       "      <th>Jul 30, 2018</th>\n",
       "      <th>Jul 29, 2018</th>\n",
       "      <th>Jul 28, 2018</th>\n",
       "      <th>Jul 27, 2018</th>\n",
       "      <th>Jul 26, 2018</th>\n",
       "      <th>...</th>\n",
       "      <th>Jan 10, 2016</th>\n",
       "      <th>Jan 09, 2016</th>\n",
       "      <th>Jan 08, 2016</th>\n",
       "      <th>Jan 07, 2016</th>\n",
       "      <th>Jan 06, 2016</th>\n",
       "      <th>Jan 05, 2016</th>\n",
       "      <th>Jan 04, 2016</th>\n",
       "      <th>Jan 03, 2016</th>\n",
       "      <th>Jan 02, 2016</th>\n",
       "      <th>Jan 01, 2016</th>\n",
       "    </tr>\n",
       "  </thead>\n",
       "  <tbody>\n",
       "    <tr>\n",
       "      <th>1337coin</th>\n",
       "      <td>{'open_price': 0.000104, 'high_price': 0.00012...</td>\n",
       "      <td>{'open_price': 0.000117, 'high_price': 0.00012...</td>\n",
       "      <td>{'open_price': 0.000123, 'high_price': 0.00012...</td>\n",
       "      <td>{'open_price': 0.000133, 'high_price': 0.00013...</td>\n",
       "      <td>{'open_price': 0.00014, 'high_price': 0.000143...</td>\n",
       "      <td>{'open_price': 0.000142, 'high_price': 0.00015...</td>\n",
       "      <td>{'open_price': 0.000159, 'high_price': 0.00016...</td>\n",
       "      <td>{'open_price': 0.000156, 'high_price': 0.00016...</td>\n",
       "      <td>{'open_price': 0.000147, 'high_price': 0.00016...</td>\n",
       "      <td>{'open_price': 0.000162, 'high_price': 0.00017...</td>\n",
       "      <td>...</td>\n",
       "      <td>{'open_price': 2.2e-05, 'high_price': 0.000147...</td>\n",
       "      <td>{'open_price': 1.9e-05, 'high_price': 2.3e-05,...</td>\n",
       "      <td>{'open_price': 1.2e-05, 'high_price': 1.9e-05,...</td>\n",
       "      <td>{'open_price': 1e-05, 'high_price': 1.8e-05, '...</td>\n",
       "      <td>{'open_price': 1.3e-05, 'high_price': 1.3e-05,...</td>\n",
       "      <td>{'open_price': 9e-06, 'high_price': 1.3e-05, '...</td>\n",
       "      <td>{'open_price': 1.3e-05, 'high_price': 1.3e-05,...</td>\n",
       "      <td>{'open_price': 1.3e-05, 'high_price': 1.3e-05,...</td>\n",
       "      <td>{'open_price': 1.3e-05, 'high_price': 1.7e-05,...</td>\n",
       "      <td>{'open_price': 9e-06, 'high_price': 1.7e-05, '...</td>\n",
       "    </tr>\n",
       "    <tr>\n",
       "      <th>adzcoin</th>\n",
       "      <td>{'open_price': 0.010969, 'high_price': 0.01174...</td>\n",
       "      <td>{'open_price': 0.011402, 'high_price': 0.0119,...</td>\n",
       "      <td>{'open_price': 0.01177, 'high_price': 0.012951...</td>\n",
       "      <td>{'open_price': 0.01231, 'high_price': 0.013095...</td>\n",
       "      <td>{'open_price': 0.013, 'high_price': 0.01513, '...</td>\n",
       "      <td>{'open_price': 0.013938, 'high_price': 0.01486...</td>\n",
       "      <td>{'open_price': 0.0139, 'high_price': 0.015288,...</td>\n",
       "      <td>{'open_price': 0.01581, 'high_price': 0.015875...</td>\n",
       "      <td>{'open_price': 0.01414, 'high_price': 0.015989...</td>\n",
       "      <td>{'open_price': 0.014954, 'high_price': 0.01722...</td>\n",
       "      <td>...</td>\n",
       "      <td>{'open_price': 0.017934, 'high_price': 0.02196...</td>\n",
       "      <td>{'open_price': 0.017251, 'high_price': 0.02065...</td>\n",
       "      <td>{'open_price': 0.017775, 'high_price': 0.02238...</td>\n",
       "      <td>{'open_price': 0.027955, 'high_price': 0.03135...</td>\n",
       "      <td>{'open_price': 0.032065, 'high_price': 0.03431...</td>\n",
       "      <td>{'open_price': 0.024334, 'high_price': 0.03456...</td>\n",
       "      <td>{'open_price': 0.030147, 'high_price': 0.03202...</td>\n",
       "      <td>{'open_price': 0.033216, 'high_price': 0.03553...</td>\n",
       "      <td>{'open_price': 0.035203, 'high_price': 0.04120...</td>\n",
       "      <td>{'open_price': 0.030573, 'high_price': 0.04279...</td>\n",
       "    </tr>\n",
       "    <tr>\n",
       "      <th>aeon</th>\n",
       "      <td>{'open_price': 1.3, 'high_price': 1.32, 'low_p...</td>\n",
       "      <td>{'open_price': 1.35, 'high_price': 1.37, 'low_...</td>\n",
       "      <td>{'open_price': 1.44, 'high_price': 1.46, 'low_...</td>\n",
       "      <td>{'open_price': 1.45, 'high_price': 1.49, 'low_...</td>\n",
       "      <td>{'open_price': 1.63, 'high_price': 1.63, 'low_...</td>\n",
       "      <td>{'open_price': 1.68, 'high_price': 1.69, 'low_...</td>\n",
       "      <td>{'open_price': 1.67, 'high_price': 1.77, 'low_...</td>\n",
       "      <td>{'open_price': 1.62, 'high_price': 1.71, 'low_...</td>\n",
       "      <td>{'open_price': 1.56, 'high_price': 1.71, 'low_...</td>\n",
       "      <td>{'open_price': 1.64, 'high_price': 1.66, 'low_...</td>\n",
       "      <td>...</td>\n",
       "      <td>{'open_price': 0.011206, 'high_price': 0.01120...</td>\n",
       "      <td>{'open_price': 0.012241, 'high_price': 0.01227...</td>\n",
       "      <td>{'open_price': 0.01331, 'high_price': 0.01491,...</td>\n",
       "      <td>{'open_price': 0.012896, 'high_price': 0.01352...</td>\n",
       "      <td>{'open_price': 0.013388, 'high_price': 0.01338...</td>\n",
       "      <td>{'open_price': 0.012555, 'high_price': 0.01339...</td>\n",
       "      <td>{'open_price': 0.013801, 'high_price': 0.01424...</td>\n",
       "      <td>{'open_price': 0.013874, 'high_price': 0.01537...</td>\n",
       "      <td>{'open_price': 0.015002, 'high_price': 0.01734...</td>\n",
       "      <td>{'open_price': 0.014429, 'high_price': 0.02169...</td>\n",
       "    </tr>\n",
       "  </tbody>\n",
       "</table>\n",
       "<p>3 rows × 947 columns</p>\n",
       "</div>"
      ],
      "text/plain": [
       "                                               Aug 04, 2018  \\\n",
       "1337coin  {'open_price': 0.000104, 'high_price': 0.00012...   \n",
       "adzcoin   {'open_price': 0.010969, 'high_price': 0.01174...   \n",
       "aeon      {'open_price': 1.3, 'high_price': 1.32, 'low_p...   \n",
       "\n",
       "                                               Aug 03, 2018  \\\n",
       "1337coin  {'open_price': 0.000117, 'high_price': 0.00012...   \n",
       "adzcoin   {'open_price': 0.011402, 'high_price': 0.0119,...   \n",
       "aeon      {'open_price': 1.35, 'high_price': 1.37, 'low_...   \n",
       "\n",
       "                                               Aug 02, 2018  \\\n",
       "1337coin  {'open_price': 0.000123, 'high_price': 0.00012...   \n",
       "adzcoin   {'open_price': 0.01177, 'high_price': 0.012951...   \n",
       "aeon      {'open_price': 1.44, 'high_price': 1.46, 'low_...   \n",
       "\n",
       "                                               Aug 01, 2018  \\\n",
       "1337coin  {'open_price': 0.000133, 'high_price': 0.00013...   \n",
       "adzcoin   {'open_price': 0.01231, 'high_price': 0.013095...   \n",
       "aeon      {'open_price': 1.45, 'high_price': 1.49, 'low_...   \n",
       "\n",
       "                                               Jul 31, 2018  \\\n",
       "1337coin  {'open_price': 0.00014, 'high_price': 0.000143...   \n",
       "adzcoin   {'open_price': 0.013, 'high_price': 0.01513, '...   \n",
       "aeon      {'open_price': 1.63, 'high_price': 1.63, 'low_...   \n",
       "\n",
       "                                               Jul 30, 2018  \\\n",
       "1337coin  {'open_price': 0.000142, 'high_price': 0.00015...   \n",
       "adzcoin   {'open_price': 0.013938, 'high_price': 0.01486...   \n",
       "aeon      {'open_price': 1.68, 'high_price': 1.69, 'low_...   \n",
       "\n",
       "                                               Jul 29, 2018  \\\n",
       "1337coin  {'open_price': 0.000159, 'high_price': 0.00016...   \n",
       "adzcoin   {'open_price': 0.0139, 'high_price': 0.015288,...   \n",
       "aeon      {'open_price': 1.67, 'high_price': 1.77, 'low_...   \n",
       "\n",
       "                                               Jul 28, 2018  \\\n",
       "1337coin  {'open_price': 0.000156, 'high_price': 0.00016...   \n",
       "adzcoin   {'open_price': 0.01581, 'high_price': 0.015875...   \n",
       "aeon      {'open_price': 1.62, 'high_price': 1.71, 'low_...   \n",
       "\n",
       "                                               Jul 27, 2018  \\\n",
       "1337coin  {'open_price': 0.000147, 'high_price': 0.00016...   \n",
       "adzcoin   {'open_price': 0.01414, 'high_price': 0.015989...   \n",
       "aeon      {'open_price': 1.56, 'high_price': 1.71, 'low_...   \n",
       "\n",
       "                                               Jul 26, 2018  \\\n",
       "1337coin  {'open_price': 0.000162, 'high_price': 0.00017...   \n",
       "adzcoin   {'open_price': 0.014954, 'high_price': 0.01722...   \n",
       "aeon      {'open_price': 1.64, 'high_price': 1.66, 'low_...   \n",
       "\n",
       "                                ...                          \\\n",
       "1337coin                        ...                           \n",
       "adzcoin                         ...                           \n",
       "aeon                            ...                           \n",
       "\n",
       "                                               Jan 10, 2016  \\\n",
       "1337coin  {'open_price': 2.2e-05, 'high_price': 0.000147...   \n",
       "adzcoin   {'open_price': 0.017934, 'high_price': 0.02196...   \n",
       "aeon      {'open_price': 0.011206, 'high_price': 0.01120...   \n",
       "\n",
       "                                               Jan 09, 2016  \\\n",
       "1337coin  {'open_price': 1.9e-05, 'high_price': 2.3e-05,...   \n",
       "adzcoin   {'open_price': 0.017251, 'high_price': 0.02065...   \n",
       "aeon      {'open_price': 0.012241, 'high_price': 0.01227...   \n",
       "\n",
       "                                               Jan 08, 2016  \\\n",
       "1337coin  {'open_price': 1.2e-05, 'high_price': 1.9e-05,...   \n",
       "adzcoin   {'open_price': 0.017775, 'high_price': 0.02238...   \n",
       "aeon      {'open_price': 0.01331, 'high_price': 0.01491,...   \n",
       "\n",
       "                                               Jan 07, 2016  \\\n",
       "1337coin  {'open_price': 1e-05, 'high_price': 1.8e-05, '...   \n",
       "adzcoin   {'open_price': 0.027955, 'high_price': 0.03135...   \n",
       "aeon      {'open_price': 0.012896, 'high_price': 0.01352...   \n",
       "\n",
       "                                               Jan 06, 2016  \\\n",
       "1337coin  {'open_price': 1.3e-05, 'high_price': 1.3e-05,...   \n",
       "adzcoin   {'open_price': 0.032065, 'high_price': 0.03431...   \n",
       "aeon      {'open_price': 0.013388, 'high_price': 0.01338...   \n",
       "\n",
       "                                               Jan 05, 2016  \\\n",
       "1337coin  {'open_price': 9e-06, 'high_price': 1.3e-05, '...   \n",
       "adzcoin   {'open_price': 0.024334, 'high_price': 0.03456...   \n",
       "aeon      {'open_price': 0.012555, 'high_price': 0.01339...   \n",
       "\n",
       "                                               Jan 04, 2016  \\\n",
       "1337coin  {'open_price': 1.3e-05, 'high_price': 1.3e-05,...   \n",
       "adzcoin   {'open_price': 0.030147, 'high_price': 0.03202...   \n",
       "aeon      {'open_price': 0.013801, 'high_price': 0.01424...   \n",
       "\n",
       "                                               Jan 03, 2016  \\\n",
       "1337coin  {'open_price': 1.3e-05, 'high_price': 1.3e-05,...   \n",
       "adzcoin   {'open_price': 0.033216, 'high_price': 0.03553...   \n",
       "aeon      {'open_price': 0.013874, 'high_price': 0.01537...   \n",
       "\n",
       "                                               Jan 02, 2016  \\\n",
       "1337coin  {'open_price': 1.3e-05, 'high_price': 1.7e-05,...   \n",
       "adzcoin   {'open_price': 0.035203, 'high_price': 0.04120...   \n",
       "aeon      {'open_price': 0.015002, 'high_price': 0.01734...   \n",
       "\n",
       "                                               Jan 01, 2016  \n",
       "1337coin  {'open_price': 9e-06, 'high_price': 1.7e-05, '...  \n",
       "adzcoin   {'open_price': 0.030573, 'high_price': 0.04279...  \n",
       "aeon      {'open_price': 0.014429, 'high_price': 0.02169...  \n",
       "\n",
       "[3 rows x 947 columns]"
      ]
     },
     "execution_count": 3,
     "metadata": {},
     "output_type": "execute_result"
    }
   ],
   "source": [
    "data.head(3)"
   ]
  },
  {
   "cell_type": "code",
   "execution_count": 4,
   "metadata": {
    "hideCode": false,
    "hidePrompt": false
   },
   "outputs": [
    {
     "name": "stdout",
     "output_type": "stream",
     "text": [
      "Getting Market Caps\n"
     ]
    }
   ],
   "source": [
    "print('Getting Market Caps')\n",
    "# Initialize a close_price list\n",
    "mc_list = list()\n",
    "# Making a list of all close_prices\n",
    "for date in data.index:\n",
    "    for column in data.columns:\n",
    "        mc_list.append(data[column][date]['market_cap'])"
   ]
  },
  {
   "cell_type": "code",
   "execution_count": 5,
   "metadata": {
    "hideCode": false,
    "hidePrompt": false
   },
   "outputs": [
    {
     "name": "stdout",
     "output_type": "stream",
     "text": [
      "Making Market Cap dataframe\n"
     ]
    }
   ],
   "source": [
    "print('Making Market Cap dataframe')\n",
    "# Splitting list into 133 lists (one per coin)\n",
    "mc_list = [mc_list[i:i+947] for i  in range(0, len(mc_list), 947)]   \n",
    "# Making dataframe\n",
    "mc_data = pd.DataFrame(data = mc_list, index = data.index, columns = data.columns)"
   ]
  },
  {
   "cell_type": "code",
   "execution_count": 6,
   "metadata": {
    "hideCode": false,
    "hidePrompt": false
   },
   "outputs": [
    {
     "data": {
      "text/html": [
       "<div>\n",
       "<style scoped>\n",
       "    .dataframe tbody tr th:only-of-type {\n",
       "        vertical-align: middle;\n",
       "    }\n",
       "\n",
       "    .dataframe tbody tr th {\n",
       "        vertical-align: top;\n",
       "    }\n",
       "\n",
       "    .dataframe thead th {\n",
       "        text-align: right;\n",
       "    }\n",
       "</style>\n",
       "<table border=\"1\" class=\"dataframe\">\n",
       "  <thead>\n",
       "    <tr style=\"text-align: right;\">\n",
       "      <th></th>\n",
       "      <th>Aug 04, 2018</th>\n",
       "      <th>Aug 03, 2018</th>\n",
       "      <th>Aug 02, 2018</th>\n",
       "      <th>Aug 01, 2018</th>\n",
       "      <th>Jul 31, 2018</th>\n",
       "      <th>Jul 30, 2018</th>\n",
       "      <th>Jul 29, 2018</th>\n",
       "      <th>Jul 28, 2018</th>\n",
       "      <th>Jul 27, 2018</th>\n",
       "      <th>Jul 26, 2018</th>\n",
       "      <th>...</th>\n",
       "      <th>Jan 10, 2016</th>\n",
       "      <th>Jan 09, 2016</th>\n",
       "      <th>Jan 08, 2016</th>\n",
       "      <th>Jan 07, 2016</th>\n",
       "      <th>Jan 06, 2016</th>\n",
       "      <th>Jan 05, 2016</th>\n",
       "      <th>Jan 04, 2016</th>\n",
       "      <th>Jan 03, 2016</th>\n",
       "      <th>Jan 02, 2016</th>\n",
       "      <th>Jan 01, 2016</th>\n",
       "    </tr>\n",
       "  </thead>\n",
       "  <tbody>\n",
       "    <tr>\n",
       "      <th>1337coin</th>\n",
       "      <td>2726061.0</td>\n",
       "      <td>3068229.0</td>\n",
       "      <td>3238470.0</td>\n",
       "      <td>3475947.0</td>\n",
       "      <td>3682281.0</td>\n",
       "      <td>3737295.0</td>\n",
       "      <td>4182793.0</td>\n",
       "      <td>4084110.0</td>\n",
       "      <td>3855405.0</td>\n",
       "      <td>4237005.0</td>\n",
       "      <td>...</td>\n",
       "      <td>418.0</td>\n",
       "      <td>359.0</td>\n",
       "      <td>223.0</td>\n",
       "      <td>183.0</td>\n",
       "      <td>242.0</td>\n",
       "      <td>164.0</td>\n",
       "      <td>241.0</td>\n",
       "      <td>243.0</td>\n",
       "      <td>243.0</td>\n",
       "      <td>162.0</td>\n",
       "    </tr>\n",
       "    <tr>\n",
       "      <th>adzcoin</th>\n",
       "      <td>482515.0</td>\n",
       "      <td>501510.0</td>\n",
       "      <td>517771.0</td>\n",
       "      <td>541450.0</td>\n",
       "      <td>571739.0</td>\n",
       "      <td>612960.0</td>\n",
       "      <td>611210.0</td>\n",
       "      <td>695124.0</td>\n",
       "      <td>621686.0</td>\n",
       "      <td>657441.0</td>\n",
       "      <td>...</td>\n",
       "      <td>17456.0</td>\n",
       "      <td>16553.0</td>\n",
       "      <td>16866.0</td>\n",
       "      <td>26063.0</td>\n",
       "      <td>29340.0</td>\n",
       "      <td>21986.0</td>\n",
       "      <td>26662.0</td>\n",
       "      <td>28755.0</td>\n",
       "      <td>29917.0</td>\n",
       "      <td>25523.0</td>\n",
       "    </tr>\n",
       "    <tr>\n",
       "      <th>aeon</th>\n",
       "      <td>20567903.0</td>\n",
       "      <td>21383607.0</td>\n",
       "      <td>22725315.0</td>\n",
       "      <td>22957751.0</td>\n",
       "      <td>25737805.0</td>\n",
       "      <td>26672843.0</td>\n",
       "      <td>26386610.0</td>\n",
       "      <td>25677360.0</td>\n",
       "      <td>24770694.0</td>\n",
       "      <td>25962802.0</td>\n",
       "      <td>...</td>\n",
       "      <td>112095.0</td>\n",
       "      <td>122310.0</td>\n",
       "      <td>132819.0</td>\n",
       "      <td>128547.0</td>\n",
       "      <td>133294.0</td>\n",
       "      <td>124865.0</td>\n",
       "      <td>137105.0</td>\n",
       "      <td>137682.0</td>\n",
       "      <td>148680.0</td>\n",
       "      <td>142833.0</td>\n",
       "    </tr>\n",
       "  </tbody>\n",
       "</table>\n",
       "<p>3 rows × 947 columns</p>\n",
       "</div>"
      ],
      "text/plain": [
       "          Aug 04, 2018  Aug 03, 2018  Aug 02, 2018  Aug 01, 2018  \\\n",
       "1337coin     2726061.0     3068229.0     3238470.0     3475947.0   \n",
       "adzcoin       482515.0      501510.0      517771.0      541450.0   \n",
       "aeon        20567903.0    21383607.0    22725315.0    22957751.0   \n",
       "\n",
       "          Jul 31, 2018  Jul 30, 2018  Jul 29, 2018  Jul 28, 2018  \\\n",
       "1337coin     3682281.0     3737295.0     4182793.0     4084110.0   \n",
       "adzcoin       571739.0      612960.0      611210.0      695124.0   \n",
       "aeon        25737805.0    26672843.0    26386610.0    25677360.0   \n",
       "\n",
       "          Jul 27, 2018  Jul 26, 2018      ...       Jan 10, 2016  \\\n",
       "1337coin     3855405.0     4237005.0      ...              418.0   \n",
       "adzcoin       621686.0      657441.0      ...            17456.0   \n",
       "aeon        24770694.0    25962802.0      ...           112095.0   \n",
       "\n",
       "          Jan 09, 2016  Jan 08, 2016  Jan 07, 2016  Jan 06, 2016  \\\n",
       "1337coin         359.0         223.0         183.0         242.0   \n",
       "adzcoin        16553.0       16866.0       26063.0       29340.0   \n",
       "aeon          122310.0      132819.0      128547.0      133294.0   \n",
       "\n",
       "          Jan 05, 2016  Jan 04, 2016  Jan 03, 2016  Jan 02, 2016  Jan 01, 2016  \n",
       "1337coin         164.0         241.0         243.0         243.0         162.0  \n",
       "adzcoin        21986.0       26662.0       28755.0       29917.0       25523.0  \n",
       "aeon          124865.0      137105.0      137682.0      148680.0      142833.0  \n",
       "\n",
       "[3 rows x 947 columns]"
      ]
     },
     "execution_count": 6,
     "metadata": {},
     "output_type": "execute_result"
    }
   ],
   "source": [
    "mc_data.head(3)"
   ]
  },
  {
   "cell_type": "code",
   "execution_count": 7,
   "metadata": {
    "hideCode": false,
    "hidePrompt": false
   },
   "outputs": [
    {
     "name": "stdout",
     "output_type": "stream",
     "text": [
      "Getting Close Prices\n"
     ]
    }
   ],
   "source": [
    "print('Getting Close Prices')\n",
    "# Initialize a close_price list\n",
    "cp_list = list()\n",
    "# Making a list of all close_prices\n",
    "for date in data.index:\n",
    "    for column in data.columns:\n",
    "        cp_list.append(data[column][date]['close_price'])"
   ]
  },
  {
   "cell_type": "code",
   "execution_count": 8,
   "metadata": {
    "hideCode": false,
    "hidePrompt": false
   },
   "outputs": [
    {
     "name": "stdout",
     "output_type": "stream",
     "text": [
      "Making Close Price dataframe\n"
     ]
    }
   ],
   "source": [
    "print('Making Close Price dataframe')\n",
    "# Splitting list into 133 lists (one per coin)\n",
    "cp_list = [cp_list[i:i+947] for i  in range(0, len(cp_list), 947)]   \n",
    "# Making dataframe\n",
    "close_data = pd.DataFrame(data = cp_list, index = data.index, columns = data.columns)"
   ]
  },
  {
   "cell_type": "code",
   "execution_count": 9,
   "metadata": {
    "hideCode": false,
    "hidePrompt": false
   },
   "outputs": [
    {
     "data": {
      "text/html": [
       "<div>\n",
       "<style scoped>\n",
       "    .dataframe tbody tr th:only-of-type {\n",
       "        vertical-align: middle;\n",
       "    }\n",
       "\n",
       "    .dataframe tbody tr th {\n",
       "        vertical-align: top;\n",
       "    }\n",
       "\n",
       "    .dataframe thead th {\n",
       "        text-align: right;\n",
       "    }\n",
       "</style>\n",
       "<table border=\"1\" class=\"dataframe\">\n",
       "  <thead>\n",
       "    <tr style=\"text-align: right;\">\n",
       "      <th></th>\n",
       "      <th>Aug 04, 2018</th>\n",
       "      <th>Aug 03, 2018</th>\n",
       "      <th>Aug 02, 2018</th>\n",
       "      <th>Aug 01, 2018</th>\n",
       "      <th>Jul 31, 2018</th>\n",
       "      <th>Jul 30, 2018</th>\n",
       "      <th>Jul 29, 2018</th>\n",
       "      <th>Jul 28, 2018</th>\n",
       "      <th>Jul 27, 2018</th>\n",
       "      <th>Jul 26, 2018</th>\n",
       "      <th>...</th>\n",
       "      <th>Jan 10, 2016</th>\n",
       "      <th>Jan 09, 2016</th>\n",
       "      <th>Jan 08, 2016</th>\n",
       "      <th>Jan 07, 2016</th>\n",
       "      <th>Jan 06, 2016</th>\n",
       "      <th>Jan 05, 2016</th>\n",
       "      <th>Jan 04, 2016</th>\n",
       "      <th>Jan 03, 2016</th>\n",
       "      <th>Jan 02, 2016</th>\n",
       "      <th>Jan 01, 2016</th>\n",
       "    </tr>\n",
       "  </thead>\n",
       "  <tbody>\n",
       "    <tr>\n",
       "      <th>1337coin</th>\n",
       "      <td>0.000106</td>\n",
       "      <td>0.000105</td>\n",
       "      <td>0.000117</td>\n",
       "      <td>0.000123</td>\n",
       "      <td>0.000133</td>\n",
       "      <td>0.000140</td>\n",
       "      <td>0.000142</td>\n",
       "      <td>0.000159</td>\n",
       "      <td>0.000155</td>\n",
       "      <td>0.000147</td>\n",
       "      <td>...</td>\n",
       "      <td>0.000019</td>\n",
       "      <td>0.000022</td>\n",
       "      <td>0.000019</td>\n",
       "      <td>0.000017</td>\n",
       "      <td>0.000010</td>\n",
       "      <td>0.000013</td>\n",
       "      <td>0.000009</td>\n",
       "      <td>0.000013</td>\n",
       "      <td>0.000013</td>\n",
       "      <td>0.000013</td>\n",
       "    </tr>\n",
       "    <tr>\n",
       "      <th>adzcoin</th>\n",
       "      <td>0.011384</td>\n",
       "      <td>0.010954</td>\n",
       "      <td>0.011403</td>\n",
       "      <td>0.011765</td>\n",
       "      <td>0.012299</td>\n",
       "      <td>0.013017</td>\n",
       "      <td>0.013930</td>\n",
       "      <td>0.013847</td>\n",
       "      <td>0.015778</td>\n",
       "      <td>0.014148</td>\n",
       "      <td>...</td>\n",
       "      <td>0.017920</td>\n",
       "      <td>0.017908</td>\n",
       "      <td>0.017245</td>\n",
       "      <td>0.017795</td>\n",
       "      <td>0.027896</td>\n",
       "      <td>0.032073</td>\n",
       "      <td>0.024340</td>\n",
       "      <td>0.030144</td>\n",
       "      <td>0.033206</td>\n",
       "      <td>0.035203</td>\n",
       "    </tr>\n",
       "    <tr>\n",
       "      <th>aeon</th>\n",
       "      <td>1.250000</td>\n",
       "      <td>1.300000</td>\n",
       "      <td>1.350000</td>\n",
       "      <td>1.430000</td>\n",
       "      <td>1.450000</td>\n",
       "      <td>1.630000</td>\n",
       "      <td>1.680000</td>\n",
       "      <td>1.660000</td>\n",
       "      <td>1.620000</td>\n",
       "      <td>1.570000</td>\n",
       "      <td>...</td>\n",
       "      <td>0.007307</td>\n",
       "      <td>0.011190</td>\n",
       "      <td>0.012237</td>\n",
       "      <td>0.013325</td>\n",
       "      <td>0.012869</td>\n",
       "      <td>0.013391</td>\n",
       "      <td>0.012555</td>\n",
       "      <td>0.013799</td>\n",
       "      <td>0.013870</td>\n",
       "      <td>0.015002</td>\n",
       "    </tr>\n",
       "  </tbody>\n",
       "</table>\n",
       "<p>3 rows × 947 columns</p>\n",
       "</div>"
      ],
      "text/plain": [
       "          Aug 04, 2018  Aug 03, 2018  Aug 02, 2018  Aug 01, 2018  \\\n",
       "1337coin      0.000106      0.000105      0.000117      0.000123   \n",
       "adzcoin       0.011384      0.010954      0.011403      0.011765   \n",
       "aeon          1.250000      1.300000      1.350000      1.430000   \n",
       "\n",
       "          Jul 31, 2018  Jul 30, 2018  Jul 29, 2018  Jul 28, 2018  \\\n",
       "1337coin      0.000133      0.000140      0.000142      0.000159   \n",
       "adzcoin       0.012299      0.013017      0.013930      0.013847   \n",
       "aeon          1.450000      1.630000      1.680000      1.660000   \n",
       "\n",
       "          Jul 27, 2018  Jul 26, 2018      ...       Jan 10, 2016  \\\n",
       "1337coin      0.000155      0.000147      ...           0.000019   \n",
       "adzcoin       0.015778      0.014148      ...           0.017920   \n",
       "aeon          1.620000      1.570000      ...           0.007307   \n",
       "\n",
       "          Jan 09, 2016  Jan 08, 2016  Jan 07, 2016  Jan 06, 2016  \\\n",
       "1337coin      0.000022      0.000019      0.000017      0.000010   \n",
       "adzcoin       0.017908      0.017245      0.017795      0.027896   \n",
       "aeon          0.011190      0.012237      0.013325      0.012869   \n",
       "\n",
       "          Jan 05, 2016  Jan 04, 2016  Jan 03, 2016  Jan 02, 2016  Jan 01, 2016  \n",
       "1337coin      0.000013      0.000009      0.000013      0.000013      0.000013  \n",
       "adzcoin       0.032073      0.024340      0.030144      0.033206      0.035203  \n",
       "aeon          0.013391      0.012555      0.013799      0.013870      0.015002  \n",
       "\n",
       "[3 rows x 947 columns]"
      ]
     },
     "execution_count": 9,
     "metadata": {},
     "output_type": "execute_result"
    }
   ],
   "source": [
    "close_data.head(3)"
   ]
  },
  {
   "cell_type": "code",
   "execution_count": 10,
   "metadata": {
    "hideCode": false,
    "hidePrompt": false
   },
   "outputs": [
    {
     "name": "stdout",
     "output_type": "stream",
     "text": [
      "flipping the dates in order\n"
     ]
    }
   ],
   "source": [
    "print('flipping the dates in order')\n",
    "# Reording the date index\n",
    "close_data = close_data[close_data.columns[::-1]]\n",
    "mc_data = mc_data[mc_data.columns[::-1]]\n",
    "data = data[data.columns[::-1]]"
   ]
  },
  {
   "cell_type": "code",
   "execution_count": 11,
   "metadata": {
    "hideCode": false,
    "hidePrompt": false
   },
   "outputs": [
    {
     "name": "stdout",
     "output_type": "stream",
     "text": [
      "Converting date index to datetime index\n"
     ]
    }
   ],
   "source": [
    "print('Converting date index to datetime index')\n",
    "# Index to Datetime index\n",
    "mc_data.columns = pd.to_datetime(mc_data.columns)\n",
    "close_data.columns = pd.to_datetime(close_data.columns)\n",
    "date_index2 = close_data.columns"
   ]
  },
  {
   "cell_type": "code",
   "execution_count": 12,
   "metadata": {
    "hideCode": false,
    "hidePrompt": false
   },
   "outputs": [
    {
     "name": "stdout",
     "output_type": "stream",
     "text": [
      "Share cap functions\n"
     ]
    }
   ],
   "source": [
    "print('Share cap functions')\n",
    "\n",
    "def share_cap_recurse(market_cap_list, num_coins, cap_ceiling_amount, final_cap_list):\n",
    "\n",
    "    not_realloc_val = 0\n",
    "\n",
    "    realloc_val = 0\n",
    "\n",
    "    num_final = 0\n",
    "\n",
    "    new_market_cap_list = []\n",
    "\n",
    "    \n",
    "\n",
    "    for i in range(0, len(market_cap_list)):\n",
    "\n",
    "        if(market_cap_list[i] > cap_ceiling_amount):\n",
    "\n",
    "            final_cap_list.append(cap_ceiling_amount)\n",
    "\n",
    "            realloc_val += market_cap_list[i] - cap_ceiling_amount\n",
    "\n",
    "            num_final += 1\n",
    "\n",
    "        else:\n",
    "\n",
    "            not_realloc_val += market_cap_list[i]\n",
    "\n",
    "     \n",
    "\n",
    "    if(num_final!=0):\n",
    "\n",
    "        new_market_cap_list = [x * (1+(realloc_val/not_realloc_val)) for x in market_cap_list[num_final:]]\n",
    "\n",
    "    else:\n",
    "\n",
    "        new_market_cap_list = deepcopy(market_cap_list)\n",
    "\n",
    "    \n",
    "\n",
    "    if len(final_cap_list) == num_coins:\n",
    "\n",
    "        return\n",
    "\n",
    "    elif (new_market_cap_list[0] <= cap_ceiling_amount): #assumes ordered desc in market cap\n",
    "\n",
    "        for cap in new_market_cap_list:\n",
    "\n",
    "            final_cap_list.append(cap)\n",
    "\n",
    "        return       \n",
    "\n",
    "    else:\n",
    "\n",
    "        share_cap_recurse(new_market_cap_list, num_coins, cap_ceiling_amount, final_cap_list)\n",
    "\n",
    "        \n",
    "\n",
    "def share_cap(market_cap_list, cap_ceiling_percent):  #CHANGE CAP CEILING HERE\n",
    "\n",
    "    total_cap = sum(market_cap_list)\n",
    "\n",
    "    cap_ceiling_amount = total_cap * cap_ceiling_percent\n",
    "\n",
    "    final_cap_list = []\n",
    "\n",
    "    \n",
    "\n",
    "    share_cap_recurse(market_cap_list, len(market_cap_list), cap_ceiling_amount, final_cap_list)\n",
    "\n",
    "    \n",
    "\n",
    "    return (final_cap_list)"
   ]
  },
  {
   "cell_type": "code",
   "execution_count": 13,
   "metadata": {
    "hideCode": false,
    "hidePrompt": false
   },
   "outputs": [
    {
     "name": "stdout",
     "output_type": "stream",
     "text": [
      "Reverting Index code\n"
     ]
    }
   ],
   "source": [
    "print('Reverting Index code')\n",
    "# Reverting Index code\n",
    "# mc_data.columns = date_index\n",
    "# close_data.columns = date_index"
   ]
  },
  {
   "cell_type": "code",
   "execution_count": 14,
   "metadata": {
    "hideCode": false,
    "hidePrompt": false,
    "scrolled": true
   },
   "outputs": [
    {
     "name": "stdout",
     "output_type": "stream",
     "text": [
      "selected market, selectedclose and selectedreturns\n"
     ]
    }
   ],
   "source": [
    "# Selecting dates and median market caps\n",
    "selectedmarket = mc_data.copy()\n",
    "selectedmarket = selectedmarket.loc[:, 'Jul 01, 2017':'Jul 01, 2018':7]\n",
    "# selectedmarket = selectedmarket.resample('W',axis=1).median()\n",
    "\n",
    "# Selecting dates and median close price\n",
    "selectedclose = close_data.copy()\n",
    "selectedclose = selectedclose.loc[:, 'Jul 01, 2017':'Jul 01, 2018':7]\n",
    "# selectedclose = selectedclose.resample('W',axis=1).median()\n",
    "\n",
    "# Daily close prices\n",
    "dailyclose = close_data.loc[:,'Jan 01, 2017':'Jan 01, 2018']\n",
    "dailyclose1 = dailyclose.copy().T\n",
    "dailychanget = dailyclose1.pct_change(1).T\n",
    "\n",
    "# Calculating percent change for returns\n",
    "selectedclose1 = selectedclose.copy().T\n",
    "selectedreturns = selectedclose1.pct_change(1).T\n",
    "selectedreturns.head()\n",
    "print('selected market, selectedclose and selectedreturns')"
   ]
  },
  {
   "cell_type": "code",
   "execution_count": 16,
   "metadata": {
    "hideCode": false,
    "hidePrompt": false
   },
   "outputs": [
    {
     "name": "stdout",
     "output_type": "stream",
     "text": [
      "Total market cap movement for tethershare\n"
     ]
    },
    {
     "data": {
      "text/html": [
       "<div>\n",
       "<style scoped>\n",
       "    .dataframe tbody tr th:only-of-type {\n",
       "        vertical-align: middle;\n",
       "    }\n",
       "\n",
       "    .dataframe tbody tr th {\n",
       "        vertical-align: top;\n",
       "    }\n",
       "\n",
       "    .dataframe thead th {\n",
       "        text-align: right;\n",
       "    }\n",
       "</style>\n",
       "<table border=\"1\" class=\"dataframe\">\n",
       "  <thead>\n",
       "    <tr style=\"text-align: right;\">\n",
       "      <th></th>\n",
       "      <th>total_mc</th>\n",
       "    </tr>\n",
       "  </thead>\n",
       "  <tbody>\n",
       "    <tr>\n",
       "      <th>2017-07-01</th>\n",
       "      <td>-0.030756</td>\n",
       "    </tr>\n",
       "    <tr>\n",
       "      <th>2017-07-02</th>\n",
       "      <td>0.030444</td>\n",
       "    </tr>\n",
       "    <tr>\n",
       "      <th>2017-07-03</th>\n",
       "      <td>0.022017</td>\n",
       "    </tr>\n",
       "    <tr>\n",
       "      <th>2017-07-04</th>\n",
       "      <td>0.015312</td>\n",
       "    </tr>\n",
       "    <tr>\n",
       "      <th>2017-07-05</th>\n",
       "      <td>0.004669</td>\n",
       "    </tr>\n",
       "  </tbody>\n",
       "</table>\n",
       "</div>"
      ],
      "text/plain": [
       "            total_mc\n",
       "2017-07-01 -0.030756\n",
       "2017-07-02  0.030444\n",
       "2017-07-03  0.022017\n",
       "2017-07-04  0.015312\n",
       "2017-07-05  0.004669"
      ]
     },
     "execution_count": 16,
     "metadata": {},
     "output_type": "execute_result"
    }
   ],
   "source": [
    "print('Total market cap movement for tethershare')\n",
    "tmc_list = list()\n",
    "\n",
    "for column in close_data.columns:\n",
    "    tmc_list.append(close_data[column].sum())\n",
    "    \n",
    "tmc_data = pd.DataFrame(data = tmc_list, columns = ['total_mc'])\n",
    "tmc_data.index = close_data.columns\n",
    "tmc_pct = tmc_data.pct_change(1)\n",
    "\n",
    "# Resampling the tmc data to get weekly\n",
    "tmc_pct = tmc_pct.loc['Jul 01, 2017':'Jul 01, 2018',:]\n",
    "# tmc_pct = tmc_pct.resample('W').median()\n",
    "tmc_pct_index = tmc_pct.index\n",
    "\n",
    "tmc_pct.head(5)"
   ]
  },
  {
   "cell_type": "code",
   "execution_count": 17,
   "metadata": {},
   "outputs": [],
   "source": [
    "num_index = np.arange(366)\n",
    "tmc_pct.index = num_index\n",
    "tether_ratio = 3\n",
    "\n",
    "usdt_share = {}\n",
    "usdt_share[0] = 0.10      #USDT starts off with ___% for the date\n",
    "\n",
    "\n",
    "for i in tmc_pct.index[1:]:\n",
    "    if tmc_pct['total_mc'][i] < -0.01:\n",
    "        usdt_share[i] = usdt_share[i -1] - tether_ratio * tmc_pct['total_mc'][i]\n",
    "        if usdt_share[i] >= 0.5:\n",
    "            usdt_share[i] = 0.5\n",
    "    elif tmc_pct['total_mc'][i] > 0.01: \n",
    "        usdt_share[i] = usdt_share[i -1] - tether_ratio * tmc_pct['total_mc'][i]\n",
    "        if usdt_share[i] <= 0:\n",
    "            usdt_share[i] = 0\n",
    "    else:\n",
    "        usdt_share[i] = usdt_share[i -1]"
   ]
  },
  {
   "cell_type": "code",
   "execution_count": 18,
   "metadata": {},
   "outputs": [
    {
     "name": "stdout",
     "output_type": "stream",
     "text": [
      "setting tethershare labels to match dates\n"
     ]
    }
   ],
   "source": [
    "ilist = range(0, len(tmc_pct))\n",
    "\n",
    "tethershare = {}\n",
    "         \n",
    "for (i, column) in zip(ilist, selectedmarket):\n",
    "    tethershare[column] = usdt_share[i]\n",
    "         \n",
    "print('setting tethershare labels to match dates')"
   ]
  },
  {
   "cell_type": "code",
   "execution_count": 19,
   "metadata": {},
   "outputs": [],
   "source": [
    "# Calculating the returns on the tether held\n",
    "usdt_close = pd.DataFrame(data = selectedclose.loc['tether'])\n",
    "usdt_returns = usdt_close.pct_change(1)"
   ]
  },
  {
   "cell_type": "code",
   "execution_count": 26,
   "metadata": {
    "hideCode": false,
    "hidePrompt": false
   },
   "outputs": [
    {
     "name": "stdout",
     "output_type": "stream",
     "text": [
      "loop for C10 with tether market cap function\n",
      "loop for C10 with tether market cap function\n"
     ]
    }
   ],
   "source": [
    "print('loop for C10 with tether market cap function')\n",
    "print('loop for C10 with tether market cap function')\n",
    "#FOR LOOP FOR C10 with tether\n",
    "topmc10t = {}\n",
    "sc10t = {}\n",
    "tc10t = {}\n",
    "ps10t = {}\n",
    "invest10t = {}\n",
    "returns10t = {}\n",
    "lg_returns10t = {}\n",
    "selectedmc10t = {}\n",
    "topcoins10t = {}\n",
    "c10sharet = {}\n",
    "tetherreturns = {}\n",
    "\n",
    "daily_changet = {}\n",
    "weighted_daily_changet = {}\n",
    "daily_returnst = {}\n",
    "final_daily_returnst = list()\n",
    "\n",
    "\n",
    "#for every date\n",
    "for column in selectedmarket:\n",
    "    #sort in descending order\n",
    "    selectedmc10t[column] = selectedmarket[column].sort_values(ascending=False)\n",
    "    \n",
    "    #take the top coins\n",
    "    topmc10t[column] = selectedmc10t[column].head(10)\n",
    "    #take the index of the top coins\n",
    "    topcoins10t[column] = topmc10t[column].index\n",
    "    \n",
    "    #get the share cap of the top 10\n",
    "    sc10t[column] = share_cap(topmc10t[column], 0.15)      #CHOICE OF CAP CEILING\n",
    "    \n",
    "    #total cap of top 10\n",
    "    tc10t[column] = sum(sc10t[column])\n",
    "    \n",
    "    #percentage of total fund allocated to tether/C10- NEW CODE!!\n",
    "    tetherfund = 0                    #INSERT CODE TO DETERMINE % OF FUNDS ALLOCATED TO TETHERFUND\n",
    "    c10fund = 1 - tetherfund\n",
    "    \n",
    "    #percentage share to be allocated for top 10 - NEW CODE!!!\n",
    "    ps10t[column] = [x * c10fund / tc10t[column] for x in sc10t[column] ]\n",
    "    \n",
    "    #building dataframe of top20 coins by mc and %share to be invested\n",
    "    invest10t[column] = pd.DataFrame()\n",
    "    invest10t[column] = pd.DataFrame({'coin': topcoins10t[column], 'pct_share': ps10t[column]})\n",
    "    invest10t[column] = invest10t[column].set_index('coin')\n",
    "    \n",
    "jlist = list(range(0,365,7))\n",
    "    \n",
    "for (j, column) in zip(jlist, selectedmarket):\n",
    "    daily_changet[column] = pd.DataFrame()\n",
    "    daily_changet[column] = pd.DataFrame(data = dailychanget.iloc[:,j:j+7])\n",
    "    daily_changet[column] = daily_changet[column].loc[topcoins10t[column]]\n",
    "    weighted_daily_changet[column] = daily_changet[column].mul(ps10t[column], axis=0)\n",
    "    \n",
    "    daily_returnst[column] = weighted_daily_changet[column].sum()\n",
    "    daily_returnst[column].columns = ['daily_returns']\n",
    "        \n",
    "    final_daily_returnst.extend(daily_returnst[column])"
   ]
  },
  {
   "cell_type": "code",
   "execution_count": 29,
   "metadata": {
    "hideCode": false,
    "hidePrompt": false
   },
   "outputs": [
    {
     "name": "stdout",
     "output_type": "stream",
     "text": [
      "cleaning tether results\n"
     ]
    },
    {
     "ename": "ValueError",
     "evalue": "Length of values does not match length of index",
     "output_type": "error",
     "traceback": [
      "\u001b[0;31m---------------------------------------------------------------------------\u001b[0m",
      "\u001b[0;31mValueError\u001b[0m                                Traceback (most recent call last)",
      "\u001b[0;32m<ipython-input-29-5f7c46e27d8a>\u001b[0m in \u001b[0;36m<module>\u001b[0;34m()\u001b[0m\n\u001b[1;32m      5\u001b[0m \u001b[0msimple_returns10t\u001b[0m\u001b[0;34m.\u001b[0m\u001b[0mcolumns\u001b[0m \u001b[0;34m=\u001b[0m \u001b[0;34m[\u001b[0m\u001b[0;34m'daily_portfolio_simple_returns'\u001b[0m\u001b[0;34m]\u001b[0m\u001b[0;34m\u001b[0m\u001b[0m\n\u001b[1;32m      6\u001b[0m \u001b[0;31m# simple_returns10t.columns = ['weekly_portfolio_simple_returns']\u001b[0m\u001b[0;34m\u001b[0m\u001b[0;34m\u001b[0m\u001b[0m\n\u001b[0;32m----> 7\u001b[0;31m \u001b[0msimple_returns10t\u001b[0m\u001b[0;34m[\u001b[0m\u001b[0;34m'date'\u001b[0m\u001b[0;34m]\u001b[0m \u001b[0;34m=\u001b[0m \u001b[0mselectedreturns\u001b[0m\u001b[0;34m.\u001b[0m\u001b[0mT\u001b[0m\u001b[0;34m.\u001b[0m\u001b[0mindex\u001b[0m\u001b[0;34m\u001b[0m\u001b[0m\n\u001b[0m\u001b[1;32m      8\u001b[0m \u001b[0msimple_returns10t\u001b[0m \u001b[0;34m=\u001b[0m \u001b[0msimple_returns10t\u001b[0m\u001b[0;34m.\u001b[0m\u001b[0mset_index\u001b[0m\u001b[0;34m(\u001b[0m\u001b[0;34m'date'\u001b[0m\u001b[0;34m)\u001b[0m\u001b[0;34m\u001b[0m\u001b[0m\n",
      "\u001b[0;32m~/anaconda3/lib/python3.7/site-packages/pandas/core/frame.py\u001b[0m in \u001b[0;36m__setitem__\u001b[0;34m(self, key, value)\u001b[0m\n\u001b[1;32m   3117\u001b[0m         \u001b[0;32melse\u001b[0m\u001b[0;34m:\u001b[0m\u001b[0;34m\u001b[0m\u001b[0m\n\u001b[1;32m   3118\u001b[0m             \u001b[0;31m# set column\u001b[0m\u001b[0;34m\u001b[0m\u001b[0;34m\u001b[0m\u001b[0m\n\u001b[0;32m-> 3119\u001b[0;31m             \u001b[0mself\u001b[0m\u001b[0;34m.\u001b[0m\u001b[0m_set_item\u001b[0m\u001b[0;34m(\u001b[0m\u001b[0mkey\u001b[0m\u001b[0;34m,\u001b[0m \u001b[0mvalue\u001b[0m\u001b[0;34m)\u001b[0m\u001b[0;34m\u001b[0m\u001b[0m\n\u001b[0m\u001b[1;32m   3120\u001b[0m \u001b[0;34m\u001b[0m\u001b[0m\n\u001b[1;32m   3121\u001b[0m     \u001b[0;32mdef\u001b[0m \u001b[0m_setitem_slice\u001b[0m\u001b[0;34m(\u001b[0m\u001b[0mself\u001b[0m\u001b[0;34m,\u001b[0m \u001b[0mkey\u001b[0m\u001b[0;34m,\u001b[0m \u001b[0mvalue\u001b[0m\u001b[0;34m)\u001b[0m\u001b[0;34m:\u001b[0m\u001b[0;34m\u001b[0m\u001b[0m\n",
      "\u001b[0;32m~/anaconda3/lib/python3.7/site-packages/pandas/core/frame.py\u001b[0m in \u001b[0;36m_set_item\u001b[0;34m(self, key, value)\u001b[0m\n\u001b[1;32m   3192\u001b[0m \u001b[0;34m\u001b[0m\u001b[0m\n\u001b[1;32m   3193\u001b[0m         \u001b[0mself\u001b[0m\u001b[0;34m.\u001b[0m\u001b[0m_ensure_valid_index\u001b[0m\u001b[0;34m(\u001b[0m\u001b[0mvalue\u001b[0m\u001b[0;34m)\u001b[0m\u001b[0;34m\u001b[0m\u001b[0m\n\u001b[0;32m-> 3194\u001b[0;31m         \u001b[0mvalue\u001b[0m \u001b[0;34m=\u001b[0m \u001b[0mself\u001b[0m\u001b[0;34m.\u001b[0m\u001b[0m_sanitize_column\u001b[0m\u001b[0;34m(\u001b[0m\u001b[0mkey\u001b[0m\u001b[0;34m,\u001b[0m \u001b[0mvalue\u001b[0m\u001b[0;34m)\u001b[0m\u001b[0;34m\u001b[0m\u001b[0m\n\u001b[0m\u001b[1;32m   3195\u001b[0m         \u001b[0mNDFrame\u001b[0m\u001b[0;34m.\u001b[0m\u001b[0m_set_item\u001b[0m\u001b[0;34m(\u001b[0m\u001b[0mself\u001b[0m\u001b[0;34m,\u001b[0m \u001b[0mkey\u001b[0m\u001b[0;34m,\u001b[0m \u001b[0mvalue\u001b[0m\u001b[0;34m)\u001b[0m\u001b[0;34m\u001b[0m\u001b[0m\n\u001b[1;32m   3196\u001b[0m \u001b[0;34m\u001b[0m\u001b[0m\n",
      "\u001b[0;32m~/anaconda3/lib/python3.7/site-packages/pandas/core/frame.py\u001b[0m in \u001b[0;36m_sanitize_column\u001b[0;34m(self, key, value, broadcast)\u001b[0m\n\u001b[1;32m   3389\u001b[0m \u001b[0;34m\u001b[0m\u001b[0m\n\u001b[1;32m   3390\u001b[0m             \u001b[0;31m# turn me into an ndarray\u001b[0m\u001b[0;34m\u001b[0m\u001b[0;34m\u001b[0m\u001b[0m\n\u001b[0;32m-> 3391\u001b[0;31m             \u001b[0mvalue\u001b[0m \u001b[0;34m=\u001b[0m \u001b[0m_sanitize_index\u001b[0m\u001b[0;34m(\u001b[0m\u001b[0mvalue\u001b[0m\u001b[0;34m,\u001b[0m \u001b[0mself\u001b[0m\u001b[0;34m.\u001b[0m\u001b[0mindex\u001b[0m\u001b[0;34m,\u001b[0m \u001b[0mcopy\u001b[0m\u001b[0;34m=\u001b[0m\u001b[0;32mFalse\u001b[0m\u001b[0;34m)\u001b[0m\u001b[0;34m\u001b[0m\u001b[0m\n\u001b[0m\u001b[1;32m   3392\u001b[0m             \u001b[0;32mif\u001b[0m \u001b[0;32mnot\u001b[0m \u001b[0misinstance\u001b[0m\u001b[0;34m(\u001b[0m\u001b[0mvalue\u001b[0m\u001b[0;34m,\u001b[0m \u001b[0;34m(\u001b[0m\u001b[0mnp\u001b[0m\u001b[0;34m.\u001b[0m\u001b[0mndarray\u001b[0m\u001b[0;34m,\u001b[0m \u001b[0mIndex\u001b[0m\u001b[0;34m)\u001b[0m\u001b[0;34m)\u001b[0m\u001b[0;34m:\u001b[0m\u001b[0;34m\u001b[0m\u001b[0m\n\u001b[1;32m   3393\u001b[0m                 \u001b[0;32mif\u001b[0m \u001b[0misinstance\u001b[0m\u001b[0;34m(\u001b[0m\u001b[0mvalue\u001b[0m\u001b[0;34m,\u001b[0m \u001b[0mlist\u001b[0m\u001b[0;34m)\u001b[0m \u001b[0;32mand\u001b[0m \u001b[0mlen\u001b[0m\u001b[0;34m(\u001b[0m\u001b[0mvalue\u001b[0m\u001b[0;34m)\u001b[0m \u001b[0;34m>\u001b[0m \u001b[0;36m0\u001b[0m\u001b[0;34m:\u001b[0m\u001b[0;34m\u001b[0m\u001b[0m\n",
      "\u001b[0;32m~/anaconda3/lib/python3.7/site-packages/pandas/core/series.py\u001b[0m in \u001b[0;36m_sanitize_index\u001b[0;34m(data, index, copy)\u001b[0m\n\u001b[1;32m   3999\u001b[0m \u001b[0;34m\u001b[0m\u001b[0m\n\u001b[1;32m   4000\u001b[0m     \u001b[0;32mif\u001b[0m \u001b[0mlen\u001b[0m\u001b[0;34m(\u001b[0m\u001b[0mdata\u001b[0m\u001b[0;34m)\u001b[0m \u001b[0;34m!=\u001b[0m \u001b[0mlen\u001b[0m\u001b[0;34m(\u001b[0m\u001b[0mindex\u001b[0m\u001b[0;34m)\u001b[0m\u001b[0;34m:\u001b[0m\u001b[0;34m\u001b[0m\u001b[0m\n\u001b[0;32m-> 4001\u001b[0;31m         \u001b[0;32mraise\u001b[0m \u001b[0mValueError\u001b[0m\u001b[0;34m(\u001b[0m\u001b[0;34m'Length of values does not match length of '\u001b[0m \u001b[0;34m'index'\u001b[0m\u001b[0;34m)\u001b[0m\u001b[0;34m\u001b[0m\u001b[0m\n\u001b[0m\u001b[1;32m   4002\u001b[0m \u001b[0;34m\u001b[0m\u001b[0m\n\u001b[1;32m   4003\u001b[0m     \u001b[0;32mif\u001b[0m \u001b[0misinstance\u001b[0m\u001b[0;34m(\u001b[0m\u001b[0mdata\u001b[0m\u001b[0;34m,\u001b[0m \u001b[0mABCIndexClass\u001b[0m\u001b[0;34m)\u001b[0m \u001b[0;32mand\u001b[0m \u001b[0;32mnot\u001b[0m \u001b[0mcopy\u001b[0m\u001b[0;34m:\u001b[0m\u001b[0;34m\u001b[0m\u001b[0m\n",
      "\u001b[0;31mValueError\u001b[0m: Length of values does not match length of index"
     ]
    }
   ],
   "source": [
    "print('cleaning tether results')\n",
    "#FOR C10 compiling and cleaning the table into a readable format WITH TETHER\n",
    "simple_returns10t = pd.DataFrame(data = portfolio_total_returns10t) \n",
    "# simple_returns10t = pd.DataFrame(data = final_daily_returnst)\n",
    "# simple_returns10t.columns = ['daily_portfolio_simple_returns']\n",
    " \n",
    "simple_returns10t['date'] = selectedreturns.T.index\n",
    "simple_returns10t = simple_returns10t.set_index('date')"
   ]
  },
  {
   "cell_type": "code",
   "execution_count": 28,
   "metadata": {},
   "outputs": [
    {
     "ename": "NameError",
     "evalue": "name 'simple_returns10t' is not defined",
     "output_type": "error",
     "traceback": [
      "\u001b[0;31m---------------------------------------------------------------------------\u001b[0m",
      "\u001b[0;31mNameError\u001b[0m                                 Traceback (most recent call last)",
      "\u001b[0;32m<ipython-input-28-b69c8d6477a6>\u001b[0m in \u001b[0;36m<module>\u001b[0;34m()\u001b[0m\n\u001b[1;32m      1\u001b[0m \u001b[0;31m#FOR C10 with tether\u001b[0m\u001b[0;34m\u001b[0m\u001b[0;34m\u001b[0m\u001b[0m\n\u001b[0;32m----> 2\u001b[0;31m \u001b[0mfinal_cum10t\u001b[0m \u001b[0;34m=\u001b[0m \u001b[0;34m(\u001b[0m\u001b[0;36m1\u001b[0m \u001b[0;34m+\u001b[0m \u001b[0msimple_returns10t\u001b[0m\u001b[0;34m)\u001b[0m\u001b[0;34m.\u001b[0m\u001b[0mcumprod\u001b[0m\u001b[0;34m(\u001b[0m\u001b[0;34m)\u001b[0m\u001b[0;34m\u001b[0m\u001b[0m\n\u001b[0m\u001b[1;32m      3\u001b[0m \u001b[0mfinal_cum10t\u001b[0m\u001b[0;34m.\u001b[0m\u001b[0mindex\u001b[0m \u001b[0;34m=\u001b[0m \u001b[0mpd\u001b[0m\u001b[0;34m.\u001b[0m\u001b[0mto_datetime\u001b[0m\u001b[0;34m(\u001b[0m\u001b[0mfinal_cum10t\u001b[0m\u001b[0;34m.\u001b[0m\u001b[0mindex\u001b[0m\u001b[0;34m)\u001b[0m\u001b[0;34m\u001b[0m\u001b[0m\n",
      "\u001b[0;31mNameError\u001b[0m: name 'simple_returns10t' is not defined"
     ]
    }
   ],
   "source": [
    "#FOR C10 with tether\n",
    "final_cum10t = (1 + simple_returns10t).cumprod()\n",
    "final_cum10t.index = pd.to_datetime(final_cum10t.index)"
   ]
  },
  {
   "cell_type": "code",
   "execution_count": 26,
   "metadata": {},
   "outputs": [
    {
     "ename": "NameError",
     "evalue": "name 'simple_returns10t' is not defined",
     "output_type": "error",
     "traceback": [
      "\u001b[0;31m---------------------------------------------------------------------------\u001b[0m",
      "\u001b[0;31mNameError\u001b[0m                                 Traceback (most recent call last)",
      "\u001b[0;32m<ipython-input-26-fd4b32d0d7f8>\u001b[0m in \u001b[0;36m<module>\u001b[0;34m()\u001b[0m\n\u001b[1;32m      1\u001b[0m \u001b[0;31m# formatting the final dataframes and then csv file (tether)\u001b[0m\u001b[0;34m\u001b[0m\u001b[0;34m\u001b[0m\u001b[0m\n\u001b[0;32m----> 2\u001b[0;31m \u001b[0mfinal_tether\u001b[0m \u001b[0;34m=\u001b[0m \u001b[0msimple_returns10t\u001b[0m\u001b[0;34m.\u001b[0m\u001b[0mmerge\u001b[0m\u001b[0;34m(\u001b[0m\u001b[0mfinal_cum10t\u001b[0m\u001b[0;34m,\u001b[0m \u001b[0mhow\u001b[0m\u001b[0;34m=\u001b[0m\u001b[0;34m'outer'\u001b[0m\u001b[0;34m,\u001b[0m \u001b[0mleft_index\u001b[0m\u001b[0;34m=\u001b[0m\u001b[0;32mTrue\u001b[0m\u001b[0;34m,\u001b[0m \u001b[0mright_index\u001b[0m\u001b[0;34m=\u001b[0m\u001b[0;32mTrue\u001b[0m\u001b[0;34m)\u001b[0m\u001b[0;34m\u001b[0m\u001b[0m\n\u001b[0m\u001b[1;32m      3\u001b[0m \u001b[0mfinal_tether\u001b[0m\u001b[0;34m.\u001b[0m\u001b[0mcolumns\u001b[0m \u001b[0;34m=\u001b[0m \u001b[0;34m[\u001b[0m\u001b[0;34m'weekly_simple_returns'\u001b[0m\u001b[0;34m,\u001b[0m \u001b[0;34m'cumulative_returns'\u001b[0m\u001b[0;34m]\u001b[0m\u001b[0;34m\u001b[0m\u001b[0m\n\u001b[1;32m      4\u001b[0m \u001b[0mfinal_tether\u001b[0m\u001b[0;34m.\u001b[0m\u001b[0mat\u001b[0m\u001b[0;34m[\u001b[0m\u001b[0;34m'2017-07-02'\u001b[0m\u001b[0;34m,\u001b[0m \u001b[0;34m'cumulative_returns'\u001b[0m\u001b[0;34m]\u001b[0m \u001b[0;34m=\u001b[0m \u001b[0;36m1\u001b[0m\u001b[0;34m\u001b[0m\u001b[0m\n",
      "\u001b[0;31mNameError\u001b[0m: name 'simple_returns10t' is not defined"
     ]
    }
   ],
   "source": [
    "# formatting the final dataframes and then csv file (tether)\n",
    "final_tether = simple_returns10t.merge(final_cum10t, how='outer', left_index=True, right_index=True)\n",
    "final_tether.columns = ['weekly_simple_returns', 'cumulative_returns']\n",
    "final_tether.at['2017-07-02', 'cumulative_returns'] = 1"
   ]
  },
  {
   "cell_type": "code",
   "execution_count": 30,
   "metadata": {},
   "outputs": [],
   "source": [
    "#FOR LOOP FOR C10\n",
    "topmc10 = {}\n",
    "sc10 = {}\n",
    "tc10 = {}\n",
    "ps10 = {}\n",
    "invest10 = {}\n",
    "returns10 = {}\n",
    "lg_returns10 = {}\n",
    "selectedmc10 = {}\n",
    "topcoins10 = {}\n",
    "c10share = {}\n",
    "tetherreturns = {}\n",
    "\n",
    "#for every date\n",
    "for column in selectedmarket:\n",
    "    #sort in descending order\n",
    "    selectedmc10[column] = selectedmarket[column].sort_values(ascending=False)\n",
    "    \n",
    "    #take the top coins\n",
    "    topmc10[column] = selectedmc10[column].head(10)\n",
    "    #take the index of the top coins\n",
    "    topcoins10[column] = topmc10[column].index\n",
    "    \n",
    "    #get the share cap of the top 10\n",
    "    sc10[column] = share_cap(topmc10[column], 0.15)      #CHOICE OF CAP CEILING\n",
    "    \n",
    "    #total cap of top 10\n",
    "    tc10[column] = sum(sc10[column])\n",
    "    \n",
    "    #percentage of total fund allocated to tether/C10- NEW CODE!!\n",
    "    #c10share[column] = 1 - tethershare[column]\n",
    "    \n",
    "    #percentage share to be allocated for top 20 - NEW CODE!!!\n",
    "    ps10[column] = [x  / tc10[column] for x in sc10[column] ]\n",
    "    \n",
    "    #building dataframe of top20 coins by mc and %share to be invested\n",
    "    invest10[column] = pd.DataFrame()\n",
    "    invest10[column] = pd.DataFrame({'coin': topcoins10[column], 'pct_share': ps10[column]})\n",
    "    invest10[column] = invest10[column].set_index('coin')\n",
    "        \n",
    "        \n",
    "    #building dataframe of top 20 coins by mc and close price of that week\n",
    "    for name in selectedreturns:\n",
    "        returns10[column] = pd.DataFrame()\n",
    "        returns10[column] = pd.DataFrame({'returns': selectedreturns[column]})\n",
    "        returns10[column] = returns10[column].loc[topcoins10[column]]\n",
    "        \n",
    "     #for loop to generate portfolio returns for a particular week\n",
    "    portfolio_simple_returns10 = {}\n",
    "    portfolio_total_returns10 = list()\n",
    "\n",
    "    for i, df in invest10.items():\n",
    "        portfolio_simple_returns10[i] = (invest10[i].transpose().dot(returns10[i]))\n",
    "        portfolio_total_returns10.append(portfolio_simple_returns10[i]['returns'])  "
   ]
  },
  {
   "cell_type": "code",
   "execution_count": 31,
   "metadata": {},
   "outputs": [
    {
     "name": "stdout",
     "output_type": "stream",
     "text": [
      "cleaning tether results\n"
     ]
    }
   ],
   "source": [
    "print('cleaning tether results')\n",
    "#FOR C10 compiling and cleaning the table into a readable format WITHOUT TETHER\n",
    "simple_returns10 = pd.DataFrame(data = portfolio_total_returns10) \n",
    "simple_returns10.columns = ['weekly_portfolio_simple_returns']\n",
    "simple_returns10['date'] = selectedreturns.T.index\n",
    "simple_returns10 = simple_returns10.set_index('date')"
   ]
  },
  {
   "cell_type": "code",
   "execution_count": 32,
   "metadata": {},
   "outputs": [],
   "source": [
    "#FOR C10\n",
    "final_cum10 = (1 + simple_returns10).cumprod()\n",
    "final_cum10.index = pd.to_datetime(final_cum10.index)"
   ]
  },
  {
   "cell_type": "code",
   "execution_count": 33,
   "metadata": {},
   "outputs": [],
   "source": [
    "# formatting the final dataframes and then csv file (C10)\n",
    "final_c10 = simple_returns10.merge(final_cum10, how='outer', left_index=True, right_index=True)\n",
    "final_c10.columns = ['weekly_simple_returns', 'cumulative_returns']\n",
    "final_c10.at['2017-07-02', 'cumulative_returns'] = 1"
   ]
  },
  {
   "cell_type": "code",
   "execution_count": 34,
   "metadata": {},
   "outputs": [
    {
     "ename": "NameError",
     "evalue": "name 'final_tether' is not defined",
     "output_type": "error",
     "traceback": [
      "\u001b[0;31m---------------------------------------------------------------------------\u001b[0m",
      "\u001b[0;31mNameError\u001b[0m                                 Traceback (most recent call last)",
      "\u001b[0;32m<ipython-input-34-ab06010a5e03>\u001b[0m in \u001b[0;36m<module>\u001b[0;34m()\u001b[0m\n\u001b[0;32m----> 1\u001b[0;31m \u001b[0mfinal_tether\u001b[0m\u001b[0;34m.\u001b[0m\u001b[0mhead\u001b[0m\u001b[0;34m(\u001b[0m\u001b[0;36m5\u001b[0m\u001b[0;34m)\u001b[0m\u001b[0;34m\u001b[0m\u001b[0m\n\u001b[0m",
      "\u001b[0;31mNameError\u001b[0m: name 'final_tether' is not defined"
     ]
    }
   ],
   "source": [
    "final_tether.head(5)"
   ]
  },
  {
   "cell_type": "code",
   "execution_count": 35,
   "metadata": {},
   "outputs": [
    {
     "data": {
      "text/html": [
       "<div>\n",
       "<style scoped>\n",
       "    .dataframe tbody tr th:only-of-type {\n",
       "        vertical-align: middle;\n",
       "    }\n",
       "\n",
       "    .dataframe tbody tr th {\n",
       "        vertical-align: top;\n",
       "    }\n",
       "\n",
       "    .dataframe thead th {\n",
       "        text-align: right;\n",
       "    }\n",
       "</style>\n",
       "<table border=\"1\" class=\"dataframe\">\n",
       "  <thead>\n",
       "    <tr style=\"text-align: right;\">\n",
       "      <th></th>\n",
       "      <th>weekly_simple_returns</th>\n",
       "      <th>cumulative_returns</th>\n",
       "    </tr>\n",
       "    <tr>\n",
       "      <th>date</th>\n",
       "      <th></th>\n",
       "      <th></th>\n",
       "    </tr>\n",
       "  </thead>\n",
       "  <tbody>\n",
       "    <tr>\n",
       "      <th>2017-07-01 00:00:00</th>\n",
       "      <td>NaN</td>\n",
       "      <td>NaN</td>\n",
       "    </tr>\n",
       "    <tr>\n",
       "      <th>2017-07-08 00:00:00</th>\n",
       "      <td>0.078831</td>\n",
       "      <td>1.078831</td>\n",
       "    </tr>\n",
       "    <tr>\n",
       "      <th>2017-07-15 00:00:00</th>\n",
       "      <td>-0.283192</td>\n",
       "      <td>0.773314</td>\n",
       "    </tr>\n",
       "    <tr>\n",
       "      <th>2017-07-22 00:00:00</th>\n",
       "      <td>0.346076</td>\n",
       "      <td>1.040940</td>\n",
       "    </tr>\n",
       "    <tr>\n",
       "      <th>2017-07-29 00:00:00</th>\n",
       "      <td>-0.079675</td>\n",
       "      <td>0.958003</td>\n",
       "    </tr>\n",
       "  </tbody>\n",
       "</table>\n",
       "</div>"
      ],
      "text/plain": [
       "                     weekly_simple_returns  cumulative_returns\n",
       "date                                                          \n",
       "2017-07-01 00:00:00                    NaN                 NaN\n",
       "2017-07-08 00:00:00               0.078831            1.078831\n",
       "2017-07-15 00:00:00              -0.283192            0.773314\n",
       "2017-07-22 00:00:00               0.346076            1.040940\n",
       "2017-07-29 00:00:00              -0.079675            0.958003"
      ]
     },
     "execution_count": 35,
     "metadata": {},
     "output_type": "execute_result"
    }
   ],
   "source": [
    "final_c10.head(5)"
   ]
  },
  {
   "cell_type": "code",
   "execution_count": 36,
   "metadata": {},
   "outputs": [
    {
     "ename": "NameError",
     "evalue": "name 'final_tether' is not defined",
     "output_type": "error",
     "traceback": [
      "\u001b[0;31m---------------------------------------------------------------------------\u001b[0m",
      "\u001b[0;31mNameError\u001b[0m                                 Traceback (most recent call last)",
      "\u001b[0;32m<ipython-input-36-7dbef3ab6da6>\u001b[0m in \u001b[0;36m<module>\u001b[0;34m()\u001b[0m\n\u001b[1;32m      1\u001b[0m \u001b[0mtether_allocations\u001b[0m \u001b[0;34m=\u001b[0m \u001b[0mpd\u001b[0m\u001b[0;34m.\u001b[0m\u001b[0mDataFrame\u001b[0m\u001b[0;34m(\u001b[0m\u001b[0mdata\u001b[0m \u001b[0;34m=\u001b[0m \u001b[0musdt_share\u001b[0m\u001b[0;34m,\u001b[0m \u001b[0mindex\u001b[0m \u001b[0;34m=\u001b[0m \u001b[0mnum_index\u001b[0m\u001b[0;34m)\u001b[0m\u001b[0;34m\u001b[0m\u001b[0m\n\u001b[1;32m      2\u001b[0m \u001b[0mtether_allocations\u001b[0m \u001b[0;34m=\u001b[0m \u001b[0mtether_allocations\u001b[0m\u001b[0;34m.\u001b[0m\u001b[0mdrop\u001b[0m\u001b[0;34m(\u001b[0m\u001b[0mtether_allocations\u001b[0m\u001b[0;34m.\u001b[0m\u001b[0mindex\u001b[0m\u001b[0;34m[\u001b[0m\u001b[0;36m1\u001b[0m\u001b[0;34m:\u001b[0m\u001b[0;34m]\u001b[0m\u001b[0;34m)\u001b[0m\u001b[0;34m\u001b[0m\u001b[0m\n\u001b[0;32m----> 3\u001b[0;31m \u001b[0mtether_allocations\u001b[0m\u001b[0;34m.\u001b[0m\u001b[0mcolumns\u001b[0m \u001b[0;34m=\u001b[0m \u001b[0mfinal_tether\u001b[0m\u001b[0;34m.\u001b[0m\u001b[0mindex\u001b[0m\u001b[0;34m\u001b[0m\u001b[0m\n\u001b[0m\u001b[1;32m      4\u001b[0m \u001b[0mtether_allocations\u001b[0m \u001b[0;34m=\u001b[0m \u001b[0mtether_allocations\u001b[0m\u001b[0;34m.\u001b[0m\u001b[0mT\u001b[0m\u001b[0;34m\u001b[0m\u001b[0m\n",
      "\u001b[0;31mNameError\u001b[0m: name 'final_tether' is not defined"
     ]
    }
   ],
   "source": [
    "tether_allocations = pd.DataFrame(data = usdt_share, index = num_index)\n",
    "tether_allocations = tether_allocations.drop(tether_allocations.index[1:])\n",
    "tether_allocations.columns = final_tether.index\n",
    "tether_allocations = tether_allocations.T"
   ]
  },
  {
   "cell_type": "code",
   "execution_count": 37,
   "metadata": {},
   "outputs": [
    {
     "ename": "NameError",
     "evalue": "name 'final_tether' is not defined",
     "output_type": "error",
     "traceback": [
      "\u001b[0;31m---------------------------------------------------------------------------\u001b[0m",
      "\u001b[0;31mNameError\u001b[0m                                 Traceback (most recent call last)",
      "\u001b[0;32m<ipython-input-37-181fc2959018>\u001b[0m in \u001b[0;36m<module>\u001b[0;34m()\u001b[0m\n\u001b[1;32m      3\u001b[0m \u001b[0max2\u001b[0m\u001b[0;34m.\u001b[0m\u001b[0mset_ylabel\u001b[0m\u001b[0;34m(\u001b[0m\u001b[0;34m'% share allocated to tether'\u001b[0m\u001b[0;34m)\u001b[0m\u001b[0;34m\u001b[0m\u001b[0m\n\u001b[1;32m      4\u001b[0m \u001b[0;34m\u001b[0m\u001b[0m\n\u001b[0;32m----> 5\u001b[0;31m \u001b[0max1\u001b[0m\u001b[0;34m.\u001b[0m\u001b[0mplot\u001b[0m\u001b[0;34m(\u001b[0m\u001b[0mfinal_tether\u001b[0m\u001b[0;34m.\u001b[0m\u001b[0mindex\u001b[0m\u001b[0;34m,\u001b[0m \u001b[0mfinal_tether\u001b[0m\u001b[0;34m[\u001b[0m\u001b[0;34m\"cumulative_returns\"\u001b[0m\u001b[0;34m]\u001b[0m\u001b[0;34m,\u001b[0m \u001b[0mlabel\u001b[0m \u001b[0;34m=\u001b[0m \u001b[0;34m\"Tether 1x\"\u001b[0m\u001b[0;34m)\u001b[0m\u001b[0;34m\u001b[0m\u001b[0m\n\u001b[0m\u001b[1;32m      6\u001b[0m \u001b[0max1\u001b[0m\u001b[0;34m.\u001b[0m\u001b[0mplot\u001b[0m\u001b[0;34m(\u001b[0m\u001b[0mfinal_c10\u001b[0m\u001b[0;34m.\u001b[0m\u001b[0mindex\u001b[0m\u001b[0;34m,\u001b[0m \u001b[0mfinal_c10\u001b[0m\u001b[0;34m[\u001b[0m\u001b[0;34m\"cumulative_returns\"\u001b[0m\u001b[0;34m]\u001b[0m\u001b[0;34m,\u001b[0m \u001b[0mlabel\u001b[0m \u001b[0;34m=\u001b[0m \u001b[0;34m\"C10\"\u001b[0m\u001b[0;34m)\u001b[0m\u001b[0;34m\u001b[0m\u001b[0m\n\u001b[1;32m      7\u001b[0m \u001b[0max1\u001b[0m\u001b[0;34m.\u001b[0m\u001b[0mset_ylabel\u001b[0m\u001b[0;34m(\u001b[0m\u001b[0;34m'Portfolio cumulative simple returns (%)'\u001b[0m\u001b[0;34m)\u001b[0m\u001b[0;34m\u001b[0m\u001b[0m\n",
      "\u001b[0;31mNameError\u001b[0m: name 'final_tether' is not defined"
     ]
    },
    {
     "data": {
      "image/png": "[encoded data removed]",
      "text/plain": [
       "<Figure size 1152x864 with 2 Axes>"
      ]
     },
     "metadata": {},
     "output_type": "display_data"
    }
   ],
   "source": [
    "fig, (ax1, ax2) = plt.subplots(2, 1, figsize=(16,12))\n",
    "ax2.plot(tether_allocations.index, tether_allocations, label = \"Tether allocation mc*1\")\n",
    "ax2.set_ylabel('% share allocated to tether')\n",
    "\n",
    "ax1.plot(final_tether.index, final_tether[\"cumulative_returns\"], label = \"Tether 1x\")\n",
    "ax1.plot(final_c10.index, final_c10[\"cumulative_returns\"], label = \"C10\")\n",
    "ax1.set_ylabel('Portfolio cumulative simple returns (%)')\n",
    "\n",
    "ax2.legend()\n",
    "ax1.legend()\n",
    "\n",
    "plt.show()"
   ]
  },
  {
   "cell_type": "code",
   "execution_count": null,
   "metadata": {},
   "outputs": [],
   "source": [
    "# final_c10.to_csv(\"C10 no tether.csv\")\n",
    "# final_tether.to_csv(\"C10 tether 1x.csv\")"
   ]
  },
  {
   "cell_type": "code",
   "execution_count": null,
   "metadata": {},
   "outputs": [],
   "source": []
  }
 ],
 "metadata": {
  "celltoolbar": "Hide code",
  "hide_code_all_hidden": false,
  "kernelspec": {
   "display_name": "Python 3",
   "language": "python",
   "name": "python3"
  },
  "language_info": {
   "codemirror_mode": {
    "name": "ipython",
    "version": 3
   },
   "file_extension": ".py",
   "mimetype": "text/x-python",
   "name": "python",
   "nbconvert_exporter": "python",
   "pygments_lexer": "ipython3",
   "version": "3.7.0"
  }
 },
 "nbformat": 4,
 "nbformat_minor": 2
}
