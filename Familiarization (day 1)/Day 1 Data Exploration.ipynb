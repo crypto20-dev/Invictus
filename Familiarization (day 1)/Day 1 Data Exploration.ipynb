{
 "cells": [
  {
   "cell_type": "code",
   "execution_count": 1,
   "metadata": {},
   "outputs": [],
   "source": [
    "import numpy as np\n",
    "import pandas as pd\n",
    "import matplotlib.pyplot as plt\n",
    "import pickle "
   ]
  },
  {
   "cell_type": "code",
   "execution_count": 2,
   "metadata": {
    "scrolled": true
   },
   "outputs": [],
   "source": [
    "#df=pd.read_pickle(\"latest_coin_data.pkl\")"
   ]
  },
  {
   "cell_type": "code",
   "execution_count": 3,
   "metadata": {},
   "outputs": [],
   "source": [
    "df=np.load(\"latest_coin_data.pkl\")"
   ]
  },
  {
   "cell_type": "code",
   "execution_count": null,
   "metadata": {},
   "outputs": [],
   "source": [
    "token_data_solarcoin=df.loc[\"solarcoin\"]\n",
    "token_data_solarcoin.isnull().sum()\n",
    "token_data=token_data_solarcoin.dropna()\n",
    "len(token_data)"
   ]
  },
  {
   "cell_type": "code",
   "execution_count": 5,
   "metadata": {},
   "outputs": [
    {
     "data": {
      "text/plain": [
       "solarcoin    {'open_price': 0.184425, 'high_price': 0.18985...\n",
       "Name: Jul 04, 2018, dtype: object"
      ]
     },
     "execution_count": 5,
     "metadata": {},
     "output_type": "execute_result"
    }
   ],
   "source": [
    "type(token_data)\n",
    "token_data1=pd.DataFrame.from_dict(token_data)\n",
    "token_data1.loc[\"Jul 04, 2018\"]"
   ]
  },
  {
   "cell_type": "code",
   "execution_count": 6,
   "metadata": {},
   "outputs": [
    {
     "data": {
      "text/html": [
       "<div>\n",
       "<style scoped>\n",
       "    .dataframe tbody tr th:only-of-type {\n",
       "        vertical-align: middle;\n",
       "    }\n",
       "\n",
       "    .dataframe tbody tr th {\n",
       "        vertical-align: top;\n",
       "    }\n",
       "\n",
       "    .dataframe thead th {\n",
       "        text-align: right;\n",
       "    }\n",
       "</style>\n",
       "<table border=\"1\" class=\"dataframe\">\n",
       "  <thead>\n",
       "    <tr style=\"text-align: right;\">\n",
       "      <th></th>\n",
       "      <th>open_price</th>\n",
       "      <th>high_price</th>\n",
       "      <th>low_price</th>\n",
       "      <th>close_price</th>\n",
       "      <th>volume</th>\n",
       "      <th>market_cap</th>\n",
       "    </tr>\n",
       "  </thead>\n",
       "  <tbody>\n",
       "    <tr>\n",
       "      <th>Jul 04, 2018</th>\n",
       "      <td>0.184425</td>\n",
       "      <td>0.189851</td>\n",
       "      <td>0.178208</td>\n",
       "      <td>0.182932</td>\n",
       "      <td>2960.0</td>\n",
       "      <td>8116360.0</td>\n",
       "    </tr>\n",
       "    <tr>\n",
       "      <th>Jul 03, 2018</th>\n",
       "      <td>0.175789</td>\n",
       "      <td>0.186994</td>\n",
       "      <td>0.175658</td>\n",
       "      <td>0.184222</td>\n",
       "      <td>7881.0</td>\n",
       "      <td>7736170.0</td>\n",
       "    </tr>\n",
       "    <tr>\n",
       "      <th>Jul 02, 2018</th>\n",
       "      <td>0.416790</td>\n",
       "      <td>0.416790</td>\n",
       "      <td>0.168706</td>\n",
       "      <td>0.178799</td>\n",
       "      <td>8386.0</td>\n",
       "      <td>18341900.0</td>\n",
       "    </tr>\n",
       "    <tr>\n",
       "      <th>Jul 01, 2018</th>\n",
       "      <td>0.165960</td>\n",
       "      <td>0.433850</td>\n",
       "      <td>0.164490</td>\n",
       "      <td>0.416743</td>\n",
       "      <td>2286.0</td>\n",
       "      <td>7303360.0</td>\n",
       "    </tr>\n",
       "    <tr>\n",
       "      <th>Jun 30, 2018</th>\n",
       "      <td>0.174359</td>\n",
       "      <td>0.181697</td>\n",
       "      <td>0.159428</td>\n",
       "      <td>0.165923</td>\n",
       "      <td>26386.0</td>\n",
       "      <td>7672860.0</td>\n",
       "    </tr>\n",
       "  </tbody>\n",
       "</table>\n",
       "</div>"
      ],
      "text/plain": [
       "              open_price  high_price  low_price  close_price   volume  \\\n",
       "Jul 04, 2018    0.184425    0.189851   0.178208     0.182932   2960.0   \n",
       "Jul 03, 2018    0.175789    0.186994   0.175658     0.184222   7881.0   \n",
       "Jul 02, 2018    0.416790    0.416790   0.168706     0.178799   8386.0   \n",
       "Jul 01, 2018    0.165960    0.433850   0.164490     0.416743   2286.0   \n",
       "Jun 30, 2018    0.174359    0.181697   0.159428     0.165923  26386.0   \n",
       "\n",
       "              market_cap  \n",
       "Jul 04, 2018   8116360.0  \n",
       "Jul 03, 2018   7736170.0  \n",
       "Jul 02, 2018  18341900.0  \n",
       "Jul 01, 2018   7303360.0  \n",
       "Jun 30, 2018   7672860.0  "
      ]
     },
     "execution_count": 6,
     "metadata": {},
     "output_type": "execute_result"
    }
   ],
   "source": [
    "solarcoin=token_data1[\"solarcoin\"].apply(pd.Series)\n",
    "solarcoin.head()"
   ]
  },
  {
   "cell_type": "code",
   "execution_count": 7,
   "metadata": {},
   "outputs": [
    {
     "data": {
      "text/html": [
       "<div>\n",
       "<style scoped>\n",
       "    .dataframe tbody tr th:only-of-type {\n",
       "        vertical-align: middle;\n",
       "    }\n",
       "\n",
       "    .dataframe tbody tr th {\n",
       "        vertical-align: top;\n",
       "    }\n",
       "\n",
       "    .dataframe thead th {\n",
       "        text-align: right;\n",
       "    }\n",
       "</style>\n",
       "<table border=\"1\" class=\"dataframe\">\n",
       "  <thead>\n",
       "    <tr style=\"text-align: right;\">\n",
       "      <th></th>\n",
       "      <th>open_price</th>\n",
       "      <th>high_price</th>\n",
       "      <th>low_price</th>\n",
       "      <th>close_price</th>\n",
       "      <th>volume</th>\n",
       "      <th>market_cap</th>\n",
       "      <th>daily profit</th>\n",
       "    </tr>\n",
       "  </thead>\n",
       "  <tbody>\n",
       "    <tr>\n",
       "      <th>Jul 04, 2018</th>\n",
       "      <td>0.184425</td>\n",
       "      <td>0.189851</td>\n",
       "      <td>0.178208</td>\n",
       "      <td>0.182932</td>\n",
       "      <td>2960.0</td>\n",
       "      <td>8116360.0</td>\n",
       "      <td>-0.001493</td>\n",
       "    </tr>\n",
       "    <tr>\n",
       "      <th>Jul 03, 2018</th>\n",
       "      <td>0.175789</td>\n",
       "      <td>0.186994</td>\n",
       "      <td>0.175658</td>\n",
       "      <td>0.184222</td>\n",
       "      <td>7881.0</td>\n",
       "      <td>7736170.0</td>\n",
       "      <td>0.008433</td>\n",
       "    </tr>\n",
       "    <tr>\n",
       "      <th>Jul 02, 2018</th>\n",
       "      <td>0.416790</td>\n",
       "      <td>0.416790</td>\n",
       "      <td>0.168706</td>\n",
       "      <td>0.178799</td>\n",
       "      <td>8386.0</td>\n",
       "      <td>18341900.0</td>\n",
       "      <td>-0.237991</td>\n",
       "    </tr>\n",
       "    <tr>\n",
       "      <th>Jul 01, 2018</th>\n",
       "      <td>0.165960</td>\n",
       "      <td>0.433850</td>\n",
       "      <td>0.164490</td>\n",
       "      <td>0.416743</td>\n",
       "      <td>2286.0</td>\n",
       "      <td>7303360.0</td>\n",
       "      <td>0.250783</td>\n",
       "    </tr>\n",
       "    <tr>\n",
       "      <th>Jun 30, 2018</th>\n",
       "      <td>0.174359</td>\n",
       "      <td>0.181697</td>\n",
       "      <td>0.159428</td>\n",
       "      <td>0.165923</td>\n",
       "      <td>26386.0</td>\n",
       "      <td>7672860.0</td>\n",
       "      <td>-0.008436</td>\n",
       "    </tr>\n",
       "  </tbody>\n",
       "</table>\n",
       "</div>"
      ],
      "text/plain": [
       "              open_price  high_price  low_price  close_price   volume  \\\n",
       "Jul 04, 2018    0.184425    0.189851   0.178208     0.182932   2960.0   \n",
       "Jul 03, 2018    0.175789    0.186994   0.175658     0.184222   7881.0   \n",
       "Jul 02, 2018    0.416790    0.416790   0.168706     0.178799   8386.0   \n",
       "Jul 01, 2018    0.165960    0.433850   0.164490     0.416743   2286.0   \n",
       "Jun 30, 2018    0.174359    0.181697   0.159428     0.165923  26386.0   \n",
       "\n",
       "              market_cap  daily profit  \n",
       "Jul 04, 2018   8116360.0     -0.001493  \n",
       "Jul 03, 2018   7736170.0      0.008433  \n",
       "Jul 02, 2018  18341900.0     -0.237991  \n",
       "Jul 01, 2018   7303360.0      0.250783  \n",
       "Jun 30, 2018   7672860.0     -0.008436  "
      ]
     },
     "execution_count": 7,
     "metadata": {},
     "output_type": "execute_result"
    }
   ],
   "source": [
    "solarcoin['daily profit']=solarcoin['close_price']-solarcoin['open_price']\n",
    "solarcoin.head()"
   ]
  },
  {
   "cell_type": "code",
   "execution_count": 8,
   "metadata": {},
   "outputs": [
    {
     "data": {
      "text/plain": [
       "<matplotlib.axes._subplots.AxesSubplot at 0x7fd78e447ba8>"
      ]
     },
     "execution_count": 8,
     "metadata": {},
     "output_type": "execute_result"
    },
    {
     "data": {
      "image/png": "[encoded data removed]",
      "text/plain": [
       "<Figure size 432x288 with 1 Axes>"
      ]
     },
     "metadata": {},
     "output_type": "display_data"
    }
   ],
   "source": [
    "solarcoin.plot(y='daily profit')"
   ]
  },
  {
   "cell_type": "code",
   "execution_count": 9,
   "metadata": {},
   "outputs": [],
   "source": [
    "solarcoin[\"cumulative sum\"]=solarcoin[\"daily profit\"].cumsum()"
   ]
  },
  {
   "cell_type": "code",
   "execution_count": 10,
   "metadata": {},
   "outputs": [
    {
     "data": {
      "text/html": [
       "<div>\n",
       "<style scoped>\n",
       "    .dataframe tbody tr th:only-of-type {\n",
       "        vertical-align: middle;\n",
       "    }\n",
       "\n",
       "    .dataframe tbody tr th {\n",
       "        vertical-align: top;\n",
       "    }\n",
       "\n",
       "    .dataframe thead th {\n",
       "        text-align: right;\n",
       "    }\n",
       "</style>\n",
       "<table border=\"1\" class=\"dataframe\">\n",
       "  <thead>\n",
       "    <tr style=\"text-align: right;\">\n",
       "      <th></th>\n",
       "      <th>open_price</th>\n",
       "      <th>high_price</th>\n",
       "      <th>low_price</th>\n",
       "      <th>close_price</th>\n",
       "      <th>volume</th>\n",
       "      <th>market_cap</th>\n",
       "      <th>daily profit</th>\n",
       "      <th>cumulative sum</th>\n",
       "    </tr>\n",
       "  </thead>\n",
       "  <tbody>\n",
       "    <tr>\n",
       "      <th>Jul 04, 2018</th>\n",
       "      <td>0.184425</td>\n",
       "      <td>0.189851</td>\n",
       "      <td>0.178208</td>\n",
       "      <td>0.182932</td>\n",
       "      <td>2960.0</td>\n",
       "      <td>8116360.0</td>\n",
       "      <td>-0.001493</td>\n",
       "      <td>-0.001493</td>\n",
       "    </tr>\n",
       "    <tr>\n",
       "      <th>Jul 03, 2018</th>\n",
       "      <td>0.175789</td>\n",
       "      <td>0.186994</td>\n",
       "      <td>0.175658</td>\n",
       "      <td>0.184222</td>\n",
       "      <td>7881.0</td>\n",
       "      <td>7736170.0</td>\n",
       "      <td>0.008433</td>\n",
       "      <td>0.006940</td>\n",
       "    </tr>\n",
       "    <tr>\n",
       "      <th>Jul 02, 2018</th>\n",
       "      <td>0.416790</td>\n",
       "      <td>0.416790</td>\n",
       "      <td>0.168706</td>\n",
       "      <td>0.178799</td>\n",
       "      <td>8386.0</td>\n",
       "      <td>18341900.0</td>\n",
       "      <td>-0.237991</td>\n",
       "      <td>-0.231051</td>\n",
       "    </tr>\n",
       "    <tr>\n",
       "      <th>Jul 01, 2018</th>\n",
       "      <td>0.165960</td>\n",
       "      <td>0.433850</td>\n",
       "      <td>0.164490</td>\n",
       "      <td>0.416743</td>\n",
       "      <td>2286.0</td>\n",
       "      <td>7303360.0</td>\n",
       "      <td>0.250783</td>\n",
       "      <td>0.019732</td>\n",
       "    </tr>\n",
       "    <tr>\n",
       "      <th>Jun 30, 2018</th>\n",
       "      <td>0.174359</td>\n",
       "      <td>0.181697</td>\n",
       "      <td>0.159428</td>\n",
       "      <td>0.165923</td>\n",
       "      <td>26386.0</td>\n",
       "      <td>7672860.0</td>\n",
       "      <td>-0.008436</td>\n",
       "      <td>0.011296</td>\n",
       "    </tr>\n",
       "  </tbody>\n",
       "</table>\n",
       "</div>"
      ],
      "text/plain": [
       "              open_price  high_price  low_price  close_price   volume  \\\n",
       "Jul 04, 2018    0.184425    0.189851   0.178208     0.182932   2960.0   \n",
       "Jul 03, 2018    0.175789    0.186994   0.175658     0.184222   7881.0   \n",
       "Jul 02, 2018    0.416790    0.416790   0.168706     0.178799   8386.0   \n",
       "Jul 01, 2018    0.165960    0.433850   0.164490     0.416743   2286.0   \n",
       "Jun 30, 2018    0.174359    0.181697   0.159428     0.165923  26386.0   \n",
       "\n",
       "              market_cap  daily profit  cumulative sum  \n",
       "Jul 04, 2018   8116360.0     -0.001493       -0.001493  \n",
       "Jul 03, 2018   7736170.0      0.008433        0.006940  \n",
       "Jul 02, 2018  18341900.0     -0.237991       -0.231051  \n",
       "Jul 01, 2018   7303360.0      0.250783        0.019732  \n",
       "Jun 30, 2018   7672860.0     -0.008436        0.011296  "
      ]
     },
     "execution_count": 10,
     "metadata": {},
     "output_type": "execute_result"
    }
   ],
   "source": [
    "solarcoin.head()"
   ]
  },
  {
   "cell_type": "code",
   "execution_count": 11,
   "metadata": {},
   "outputs": [
    {
     "data": {
      "text/plain": [
       "<matplotlib.axes._subplots.AxesSubplot at 0x7fd78e266668>"
      ]
     },
     "execution_count": 11,
     "metadata": {},
     "output_type": "execute_result"
    },
    {
     "data": {
      "image/png": "[encoded data removed]",
      "text/plain": [
       "<Figure size 432x288 with 1 Axes>"
      ]
     },
     "metadata": {},
     "output_type": "display_data"
    }
   ],
   "source": [
    "solarcoin.plot(y='cumulative sum')"
   ]
  },
  {
   "cell_type": "code",
   "execution_count": 28,
   "metadata": {},
   "outputs": [
    {
     "data": {
      "image/png": "[encoded data removed]",
      "text/plain": [
       "<Figure size 432x288 with 1 Axes>"
      ]
     },
     "metadata": {},
     "output_type": "display_data"
    }
   ],
   "source": [
    "plt.plot(solarcoin.index, solarcoin['cumulative sum'],)\n",
    "plt.xticks(rotation=(50))\n",
    "plt.xticks(np.arange(0,1000,step=50))\n",
    "plt.xlabel(\"Date\")\n",
    "plt.ylabel(\"Profits\")\n",
    "plt.show()"
   ]
  },
  {
   "cell_type": "code",
   "execution_count": 30,
   "metadata": {},
   "outputs": [
    {
     "data": {
      "image/png": "[encoded data removed]",
      "text/plain": [
       "<Figure size 432x288 with 1 Axes>"
      ]
     },
     "metadata": {},
     "output_type": "display_data"
    }
   ],
   "source": [
    "solarcoin_copy=solarcoin\n",
    "solarcoinR_copy=solarcoin_copy.iloc[::-1]\n",
    "\n",
    "plt.plot(solarcoinR_copy.index, solarcoinR_copy['cumulative sum'],)\n",
    "plt.xticks(rotation=(50))\n",
    "plt.xticks(np.arange(0,1000,step=50))\n",
    "plt.xlabel(\"Date\")\n",
    "plt.ylabel(\"Profits\")\n",
    "plt.title(\"Profits of Solarcoin\")\n",
    "plt.show()\n"
   ]
  },
  {
   "cell_type": "code",
   "execution_count": null,
   "metadata": {},
   "outputs": [],
   "source": []
  },
  {
   "cell_type": "code",
   "execution_count": null,
   "metadata": {},
   "outputs": [],
   "source": []
  },
  {
   "cell_type": "code",
   "execution_count": null,
   "metadata": {},
   "outputs": [],
   "source": []
  },
  {
   "cell_type": "code",
   "execution_count": null,
   "metadata": {},
   "outputs": [],
   "source": []
  },
  {
   "cell_type": "code",
   "execution_count": null,
   "metadata": {},
   "outputs": [],
   "source": []
  },
  {
   "cell_type": "code",
   "execution_count": null,
   "metadata": {},
   "outputs": [],
   "source": []
  }
 ],
 "metadata": {
  "kernelspec": {
   "display_name": "Python 3",
   "language": "python",
   "name": "python3"
  },
  "language_info": {
   "codemirror_mode": {
    "name": "ipython",
    "version": 3
   },
   "file_extension": ".py",
   "mimetype": "text/x-python",
   "name": "python",
   "nbconvert_exporter": "python",
   "pygments_lexer": "ipython3",
   "version": "3.6.6"
  }
 },
 "nbformat": 4,
 "nbformat_minor": 2
}
