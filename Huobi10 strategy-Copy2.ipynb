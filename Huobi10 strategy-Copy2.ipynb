{
 "cells": [
  {
   "cell_type": "code",
   "execution_count": 53,
   "metadata": {
    "hideCode": false,
    "hidePrompt": false
   },
   "outputs": [],
   "source": [
    "import numpy as np\n",
    "import pandas as pd\n",
    "import math\n",
    "import matplotlib as mpl\n",
    "import matplotlib.pyplot as plt\n",
    "import pickle\n",
    "from scipy import log,exp,sqrt,stats"
   ]
  },
  {
   "cell_type": "code",
   "execution_count": 54,
   "metadata": {
    "hideCode": false,
    "hidePrompt": false
   },
   "outputs": [
    {
     "data": {
      "text/plain": [
       "(133, 916)"
      ]
     },
     "execution_count": 54,
     "metadata": {},
     "output_type": "execute_result"
    }
   ],
   "source": [
    "# Importing pickle file\n",
    "data = np.load('/Users/louisribieras/Desktop/IXPERIENCE/my_invictus/data/latest_coin_data.pkl')\n",
    "# Drop Null Values\n",
    "data = data.dropna()\n",
    "data.shape"
   ]
  },
  {
   "cell_type": "code",
   "execution_count": 55,
   "metadata": {
    "hideCode": false,
    "hidePrompt": false
   },
   "outputs": [],
   "source": [
    "# Initialize a close_price list\n",
    "volumes_list = list()\n",
    "# Making a list of all close_prices\n",
    "for date in data.index:\n",
    "    for column in data.columns:\n",
    "        volumes_list.append(data[column][date]['volume'])\n",
    "\n",
    "# Splitting list into 133 lists (one per coin)\n",
    "volumes_list = [volumes_list[i:i+916] for i  in range(0, len(volumes_list), 916)]        "
   ]
  },
  {
   "cell_type": "code",
   "execution_count": 56,
   "metadata": {
    "hideCode": false,
    "hidePrompt": false
   },
   "outputs": [
    {
     "name": "stdout",
     "output_type": "stream",
     "text": [
      "Shape of Volumes df:  (133, 916)\n"
     ]
    }
   ],
   "source": [
    "volumes = pd.DataFrame(data = volumes_list, index = data.index, columns = data.columns)\n",
    "# Reordering column index\n",
    "volumes = volumes[volumes.columns[::-1]]\n",
    "weekly_volumes = volumes[volumes.columns[::7]]\n",
    "print('Shape of Volumes df: ', volumes.shape)"
   ]
  },
  {
   "cell_type": "code",
   "execution_count": 57,
   "metadata": {},
   "outputs": [],
   "source": [
    "# Making weekly DataFrames\n",
    "wv = {}\n",
    "for week in weekly_volumes:\n",
    "    wv[week] = pd.DataFrame(weekly_volumes[week].sort_values(ascending=False).head(10))\n",
    "    wv[week].columns = ['Volume']"
   ]
  },
  {
   "cell_type": "code",
   "execution_count": 58,
   "metadata": {
    "hideCode": false,
    "hidePrompt": false,
    "scrolled": true
   },
   "outputs": [],
   "source": [
    "# Calculating Proportion of volume in total top 10\n",
    "for week in weekly_volumes.columns:\n",
    "    wv[week]['Proportion'] = (wv[week]['Volume'])/(wv[week]['Volume'].sum())"
   ]
  },
  {
   "cell_type": "code",
   "execution_count": 9,
   "metadata": {},
   "outputs": [
    {
     "data": {
      "text/html": [
       "<div>\n",
       "<style scoped>\n",
       "    .dataframe tbody tr th:only-of-type {\n",
       "        vertical-align: middle;\n",
       "    }\n",
       "\n",
       "    .dataframe tbody tr th {\n",
       "        vertical-align: top;\n",
       "    }\n",
       "\n",
       "    .dataframe thead th {\n",
       "        text-align: right;\n",
       "    }\n",
       "</style>\n",
       "<table border=\"1\" class=\"dataframe\">\n",
       "  <thead>\n",
       "    <tr style=\"text-align: right;\">\n",
       "      <th></th>\n",
       "      <th>Volume</th>\n",
       "      <th>Proportion</th>\n",
       "    </tr>\n",
       "  </thead>\n",
       "  <tbody>\n",
       "    <tr>\n",
       "      <th>bitcoin</th>\n",
       "      <td>36278900.0</td>\n",
       "      <td>0.899530</td>\n",
       "    </tr>\n",
       "    <tr>\n",
       "      <th>litecoin</th>\n",
       "      <td>2791170.0</td>\n",
       "      <td>0.069207</td>\n",
       "    </tr>\n",
       "    <tr>\n",
       "      <th>factom</th>\n",
       "      <td>502538.0</td>\n",
       "      <td>0.012460</td>\n",
       "    </tr>\n",
       "    <tr>\n",
       "      <th>ripple</th>\n",
       "      <td>211767.0</td>\n",
       "      <td>0.005251</td>\n",
       "    </tr>\n",
       "    <tr>\n",
       "      <th>ethereum</th>\n",
       "      <td>206062.0</td>\n",
       "      <td>0.005109</td>\n",
       "    </tr>\n",
       "    <tr>\n",
       "      <th>dogecoin</th>\n",
       "      <td>105224.0</td>\n",
       "      <td>0.002609</td>\n",
       "    </tr>\n",
       "    <tr>\n",
       "      <th>dash</th>\n",
       "      <td>98317.0</td>\n",
       "      <td>0.002438</td>\n",
       "    </tr>\n",
       "    <tr>\n",
       "      <th>monero</th>\n",
       "      <td>88914.0</td>\n",
       "      <td>0.002205</td>\n",
       "    </tr>\n",
       "    <tr>\n",
       "      <th>peercoin</th>\n",
       "      <td>29452.0</td>\n",
       "      <td>0.000730</td>\n",
       "    </tr>\n",
       "    <tr>\n",
       "      <th>bitshares</th>\n",
       "      <td>18590.0</td>\n",
       "      <td>0.000461</td>\n",
       "    </tr>\n",
       "  </tbody>\n",
       "</table>\n",
       "</div>"
      ],
      "text/plain": [
       "               Volume  Proportion\n",
       "bitcoin    36278900.0    0.899530\n",
       "litecoin    2791170.0    0.069207\n",
       "factom       502538.0    0.012460\n",
       "ripple       211767.0    0.005251\n",
       "ethereum     206062.0    0.005109\n",
       "dogecoin     105224.0    0.002609\n",
       "dash          98317.0    0.002438\n",
       "monero        88914.0    0.002205\n",
       "peercoin      29452.0    0.000730\n",
       "bitshares     18590.0    0.000461"
      ]
     },
     "execution_count": 9,
     "metadata": {},
     "output_type": "execute_result"
    }
   ],
   "source": [
    "wv['Jan 01, 2016']"
   ]
  },
  {
   "cell_type": "code",
   "execution_count": 59,
   "metadata": {
    "hideCode": false,
    "hidePrompt": false
   },
   "outputs": [],
   "source": [
    "# Initialize a close_price list\n",
    "close_list = list()\n",
    "# Making a list of all close_prices\n",
    "for date in data.index:\n",
    "    for column in data.columns:\n",
    "        close_list.append(data[column][date]['close_price'])\n",
    "\n",
    "# Splitting list into 133 lists (one per coin)\n",
    "close_list2 = [close_list[i:i+916] for i  in range(0, len(close_list), 916)]\n",
    "# Making a Dataframe\n",
    "close_df = pd.DataFrame(data = close_list2, index = data.index, columns = data.columns)"
   ]
  },
  {
   "cell_type": "code",
   "execution_count": 60,
   "metadata": {},
   "outputs": [],
   "source": [
    "# Reordering column index and getting weekly prices\n",
    "close_df = close_df[close_df.columns[::-1]]\n",
    "weekly_close = close_df[close_df.columns[::7]]"
   ]
  },
  {
   "cell_type": "code",
   "execution_count": 63,
   "metadata": {
    "hideCode": false,
    "hidePrompt": false
   },
   "outputs": [
    {
     "ename": "NotImplementedError",
     "evalue": "Not supported for type Index",
     "output_type": "error",
     "traceback": [
      "\u001b[0;31m---------------------------------------------------------------------------\u001b[0m",
      "\u001b[0;31mNotImplementedError\u001b[0m                       Traceback (most recent call last)",
      "\u001b[0;32m<ipython-input-63-981c3a1967fd>\u001b[0m in \u001b[0;36m<module>\u001b[0;34m()\u001b[0m\n\u001b[1;32m      8\u001b[0m     \u001b[0mwv\u001b[0m\u001b[0;34m[\u001b[0m\u001b[0mweek\u001b[0m\u001b[0;34m]\u001b[0m\u001b[0;34m[\u001b[0m\u001b[0;34m'close_price'\u001b[0m\u001b[0;34m]\u001b[0m \u001b[0;34m=\u001b[0m \u001b[0mweekly_close\u001b[0m\u001b[0;34m[\u001b[0m\u001b[0mweek\u001b[0m\u001b[0;34m]\u001b[0m\u001b[0;34m[\u001b[0m\u001b[0mcoin\u001b[0m\u001b[0;34m]\u001b[0m\u001b[0;34m\u001b[0m\u001b[0m\n\u001b[1;32m      9\u001b[0m \u001b[0;34m\u001b[0m\u001b[0m\n\u001b[0;32m---> 10\u001b[0;31m \u001b[0;32mfor\u001b[0m \u001b[0;34m(\u001b[0m\u001b[0mlast_week\u001b[0m\u001b[0;34m,\u001b[0m \u001b[0mcoin\u001b[0m\u001b[0;34m)\u001b[0m \u001b[0;32min\u001b[0m \u001b[0mzip\u001b[0m\u001b[0;34m(\u001b[0m\u001b[0mweekly_close\u001b[0m\u001b[0;34m.\u001b[0m\u001b[0mcolumns\u001b[0m\u001b[0;34m.\u001b[0m\u001b[0mshift\u001b[0m\u001b[0;34m(\u001b[0m\u001b[0;36m1\u001b[0m\u001b[0;34m)\u001b[0m\u001b[0;34m,\u001b[0m \u001b[0mcoin_labels\u001b[0m\u001b[0;34m)\u001b[0m\u001b[0;34m:\u001b[0m\u001b[0;34m\u001b[0m\u001b[0m\n\u001b[0m\u001b[1;32m     11\u001b[0m     \u001b[0mwv\u001b[0m\u001b[0;34m[\u001b[0m\u001b[0mweek\u001b[0m\u001b[0;34m]\u001b[0m\u001b[0;34m[\u001b[0m\u001b[0;34m'last_close_price'\u001b[0m\u001b[0;34m]\u001b[0m \u001b[0;34m=\u001b[0m \u001b[0mweekly_close\u001b[0m\u001b[0;34m[\u001b[0m\u001b[0mweek\u001b[0m\u001b[0;34m]\u001b[0m\u001b[0;34m[\u001b[0m\u001b[0mcoin\u001b[0m\u001b[0;34m]\u001b[0m\u001b[0;34m\u001b[0m\u001b[0m\n",
      "\u001b[0;32m~/.pyenv/versions/3.6.5/lib/python3.6/site-packages/pandas/core/indexes/base.py\u001b[0m in \u001b[0;36mshift\u001b[0;34m(self, periods, freq)\u001b[0m\n\u001b[1;32m   2641\u001b[0m         \"\"\"\n\u001b[1;32m   2642\u001b[0m         raise NotImplementedError(\"Not supported for type %s\" %\n\u001b[0;32m-> 2643\u001b[0;31m                                   type(self).__name__)\n\u001b[0m\u001b[1;32m   2644\u001b[0m \u001b[0;34m\u001b[0m\u001b[0m\n\u001b[1;32m   2645\u001b[0m     \u001b[0;32mdef\u001b[0m \u001b[0margsort\u001b[0m\u001b[0;34m(\u001b[0m\u001b[0mself\u001b[0m\u001b[0;34m,\u001b[0m \u001b[0;34m*\u001b[0m\u001b[0margs\u001b[0m\u001b[0;34m,\u001b[0m \u001b[0;34m**\u001b[0m\u001b[0mkwargs\u001b[0m\u001b[0;34m)\u001b[0m\u001b[0;34m:\u001b[0m\u001b[0;34m\u001b[0m\u001b[0m\n",
      "\u001b[0;31mNotImplementedError\u001b[0m: Not supported for type Index"
     ]
    }
   ],
   "source": [
    "coin_labels = list()\n",
    "last_week_list = \n",
    "\n",
    "\n",
    "for week in wv:\n",
    "    coin_labels.append(wv[week].index)      \n",
    "\n",
    "# Adding close_price columns for top 10 coins\n",
    "for (week, coin) in zip(weekly_close.columns, coin_labels):\n",
    "    wv[week]['close_price'] = weekly_close[week][coin]\n",
    "    \n",
    "for (last_week, coin) in zip(weekly_close.columns.shift(1), coin_labels):\n",
    "    wv[week]['last_close_price'] = weekly_close[week][coin]"
   ]
  },
  {
   "cell_type": "code",
   "execution_count": 62,
   "metadata": {},
   "outputs": [
    {
     "data": {
      "text/html": [
       "<div>\n",
       "<style scoped>\n",
       "    .dataframe tbody tr th:only-of-type {\n",
       "        vertical-align: middle;\n",
       "    }\n",
       "\n",
       "    .dataframe tbody tr th {\n",
       "        vertical-align: top;\n",
       "    }\n",
       "\n",
       "    .dataframe thead th {\n",
       "        text-align: right;\n",
       "    }\n",
       "</style>\n",
       "<table border=\"1\" class=\"dataframe\">\n",
       "  <thead>\n",
       "    <tr style=\"text-align: right;\">\n",
       "      <th></th>\n",
       "      <th>Volume</th>\n",
       "      <th>Proportion</th>\n",
       "      <th>close_price</th>\n",
       "    </tr>\n",
       "  </thead>\n",
       "  <tbody>\n",
       "    <tr>\n",
       "      <th>bitcoin</th>\n",
       "      <td>36278900.0</td>\n",
       "      <td>0.899530</td>\n",
       "      <td>434.330000</td>\n",
       "    </tr>\n",
       "    <tr>\n",
       "      <th>litecoin</th>\n",
       "      <td>2791170.0</td>\n",
       "      <td>0.069207</td>\n",
       "      <td>3.510000</td>\n",
       "    </tr>\n",
       "    <tr>\n",
       "      <th>factom</th>\n",
       "      <td>502538.0</td>\n",
       "      <td>0.012460</td>\n",
       "      <td>0.591518</td>\n",
       "    </tr>\n",
       "    <tr>\n",
       "      <th>ripple</th>\n",
       "      <td>211767.0</td>\n",
       "      <td>0.005251</td>\n",
       "      <td>0.005955</td>\n",
       "    </tr>\n",
       "    <tr>\n",
       "      <th>ethereum</th>\n",
       "      <td>206062.0</td>\n",
       "      <td>0.005109</td>\n",
       "      <td>0.948024</td>\n",
       "    </tr>\n",
       "    <tr>\n",
       "      <th>dogecoin</th>\n",
       "      <td>105224.0</td>\n",
       "      <td>0.002609</td>\n",
       "      <td>0.000154</td>\n",
       "    </tr>\n",
       "    <tr>\n",
       "      <th>dash</th>\n",
       "      <td>98317.0</td>\n",
       "      <td>0.002438</td>\n",
       "      <td>3.380000</td>\n",
       "    </tr>\n",
       "    <tr>\n",
       "      <th>monero</th>\n",
       "      <td>88914.0</td>\n",
       "      <td>0.002205</td>\n",
       "      <td>0.497867</td>\n",
       "    </tr>\n",
       "    <tr>\n",
       "      <th>peercoin</th>\n",
       "      <td>29452.0</td>\n",
       "      <td>0.000730</td>\n",
       "      <td>0.415725</td>\n",
       "    </tr>\n",
       "    <tr>\n",
       "      <th>bitshares</th>\n",
       "      <td>18590.0</td>\n",
       "      <td>0.000461</td>\n",
       "      <td>0.003460</td>\n",
       "    </tr>\n",
       "  </tbody>\n",
       "</table>\n",
       "</div>"
      ],
      "text/plain": [
       "               Volume  Proportion  close_price\n",
       "bitcoin    36278900.0    0.899530   434.330000\n",
       "litecoin    2791170.0    0.069207     3.510000\n",
       "factom       502538.0    0.012460     0.591518\n",
       "ripple       211767.0    0.005251     0.005955\n",
       "ethereum     206062.0    0.005109     0.948024\n",
       "dogecoin     105224.0    0.002609     0.000154\n",
       "dash          98317.0    0.002438     3.380000\n",
       "monero        88914.0    0.002205     0.497867\n",
       "peercoin      29452.0    0.000730     0.415725\n",
       "bitshares     18590.0    0.000461     0.003460"
      ]
     },
     "execution_count": 62,
     "metadata": {},
     "output_type": "execute_result"
    }
   ],
   "source": [
    "wv['Jan 01, 2016']"
   ]
  },
  {
   "cell_type": "code",
   "execution_count": null,
   "metadata": {},
   "outputs": [],
   "source": [
    "q2_16_close = pd.DataFrame(data = qclose_df2.iloc[10:20,0:2])\n",
    "q3_16_close = pd.DataFrame(data = qclose_df2.iloc[20:30,1:3])\n",
    "q4_16_close = pd.DataFrame(data = qclose_df2.iloc[30:40,2:4])\n",
    "\n",
    "q1_17_close = pd.DataFrame(data = qclose_df2.iloc[40:50,3:5])\n",
    "q2_17_close = pd.DataFrame(data = qclose_df2.iloc[50:60,4:6])\n",
    "q3_17_close = pd.DataFrame(data = qclose_df2.iloc[60:70,5:7])\n",
    "q4_17_close = pd.DataFrame(data = qclose_df2.iloc[70:80,6:8])\n",
    "\n",
    "q1_18_close = pd.DataFrame(data = qclose_df2.iloc[80:90,7:9])\n",
    "q2_18_close = pd.DataFrame(data = qclose_df2.iloc[90:100,8:10])"
   ]
  },
  {
   "cell_type": "code",
   "execution_count": null,
   "metadata": {
    "hideCode": false,
    "hidePrompt": false
   },
   "outputs": [],
   "source": [
    "# Joining volumes and proportions with close prices for both current and past quarter\n",
    "q2_16_final = vol_q2_16.join(q2_16_close)\n",
    "q3_16_final = vol_q3_16.join(q3_16_close)\n",
    "q4_16_final = vol_q4_16.join(q4_16_close)\n",
    "\n",
    "q1_17_final = vol_q1_17.join(q1_17_close)\n",
    "q2_17_final = vol_q2_17.join(q2_17_close)\n",
    "q3_17_final = vol_q3_17.join(q3_17_close)\n",
    "q4_17_final = vol_q4_17.join(q4_17_close)\n",
    "\n",
    "q1_18_final = vol_q1_18.join(q1_18_close)\n",
    "q2_18_final = vol_q2_18.join(q2_18_close)"
   ]
  },
  {
   "cell_type": "code",
   "execution_count": null,
   "metadata": {},
   "outputs": [],
   "source": [
    "final_dfs = [q2_16_final, q3_16_final, q4_16_final, \n",
    "                   q1_17_final, q2_17_final, q3_17_final, \n",
    "                   q4_17_final, q1_18_final, q2_18_final]\n",
    "\n",
    "quarter_index = ['q2_16','q3_16','q4_16',\n",
    "                 'q1_17','q2_17','q3_17','q4_17',\n",
    "                 'q1_18','q2_18']"
   ]
  },
  {
   "cell_type": "code",
   "execution_count": null,
   "metadata": {},
   "outputs": [],
   "source": [
    "# Columns for close_dif for each coin in each quarter\n",
    "for df in final_dfs:\n",
    "    df['close_dif'] = (((df.iloc[:,3]) - (df.iloc[:,2])))"
   ]
  },
  {
   "cell_type": "code",
   "execution_count": null,
   "metadata": {
    "hideCode": false,
    "hidePrompt": false
   },
   "outputs": [],
   "source": [
    "q2_16_final['close_dif'] = (q2_16_final.iloc[:,3] - q2_16_final.iloc[:,2])\n",
    "q3_16_final['close_dif'] = (q3_16_final.iloc[:,3] - q3_16_final.iloc[:,2])\n",
    "q4_16_final['close_dif'] = (q4_16_final.iloc[:,3] - q4_16_final.iloc[:,2])\n",
    "\n",
    "q1_17_final['close_dif'] = (q1_17_final.iloc[:,3] - q1_17_final.iloc[:,2])\n",
    "q2_17_final['close_dif'] = (q2_17_final.iloc[:,3] - q2_17_final.iloc[:,2])\n",
    "q3_17_final['close_dif'] = (q3_17_final.iloc[:,3] - q3_17_final.iloc[:,2])\n",
    "q4_17_final['close_dif'] = (q4_17_final.iloc[:,3] - q4_17_final.iloc[:,2])\n",
    "\n",
    "q1_18_final['close_dif'] = (q1_18_final.iloc[:,3] - q1_18_final.iloc[:,2])\n",
    "q2_18_final['close_dif'] = (q2_18_final.iloc[:,3] - q2_18_final.iloc[:,2])"
   ]
  },
  {
   "cell_type": "code",
   "execution_count": null,
   "metadata": {
    "hideCode": false,
    "hidePrompt": false
   },
   "outputs": [],
   "source": [
    "q_returns = list()\n",
    "\n",
    "for df in final_dfs:\n",
    "    q_returns.append(df['Proportion'].dot(df['close_dif'].T))"
   ]
  },
  {
   "cell_type": "code",
   "execution_count": null,
   "metadata": {
    "hideCode": false,
    "hidePrompt": false
   },
   "outputs": [],
   "source": [
    "Q_Returns = pd.DataFrame(data = q_returns, index = quarter_index, columns = ['Q_Returns'])"
   ]
  },
  {
   "cell_type": "code",
   "execution_count": null,
   "metadata": {},
   "outputs": [],
   "source": [
    "q2_16_final"
   ]
  },
  {
   "cell_type": "code",
   "execution_count": null,
   "metadata": {},
   "outputs": [],
   "source": [
    "# Columns for Log_Returns for each coin in each quarter\n",
    "for df in final_dfs:\n",
    "    df['log_returns'] = ((np.log(df.iloc[:,3]) - np.log(df.iloc[:,2])))"
   ]
  },
  {
   "cell_type": "code",
   "execution_count": null,
   "metadata": {},
   "outputs": [],
   "source": [
    "# Getting the Log_Returns for each whole quarter\n",
    "log_returns = list()\n",
    "\n",
    "for df in final_dfs:\n",
    "    log_returns.append(df['Proportion'].dot(df['log_returns'].T))\n",
    "\n",
    "Q_Returns['Log Returns'] = log_returns"
   ]
  },
  {
   "cell_type": "code",
   "execution_count": null,
   "metadata": {},
   "outputs": [],
   "source": [
    "Q_Returns"
   ]
  },
  {
   "cell_type": "code",
   "execution_count": null,
   "metadata": {
    "hideCode": true,
    "scrolled": true
   },
   "outputs": [],
   "source": [
    "plt.plot(Q_Returns['Q_Returns'], linewidth = 1)\n",
    "plt.plot()\n",
    "plt.axhline(0, color='red', linewidth = 0.5)\n",
    "plt.title('Huobi10 Index: Quarterly Returns', fontsize = 18)\n",
    "plt.rcParams['figure.figsize'] = (10,5)\n",
    "plt.grid(color='black', linestyle='-', linewidth=0.05)\n",
    "plt.xticks(fontsize = 14)\n",
    "plt.yticks(fontsize = 14)\n",
    "plt.show()"
   ]
  },
  {
   "cell_type": "code",
   "execution_count": null,
   "metadata": {
    "hideCode": true
   },
   "outputs": [],
   "source": [
    "plt.plot(Q_Returns['Log Returns'], linewidth = 1)\n",
    "plt.plot()\n",
    "plt.axhline(0, color='red', linewidth = 0.5)\n",
    "plt.title('Huobi10 Index: Quarterly Log Returns', fontsize = 18)\n",
    "plt.rcParams['figure.figsize'] = (10,5)\n",
    "plt.grid(color='black', linestyle='-', linewidth=0.05)\n",
    "plt.xticks(fontsize = 14)\n",
    "plt.yticks(fontsize = 14)\n",
    "plt.show()"
   ]
  },
  {
   "cell_type": "code",
   "execution_count": null,
   "metadata": {},
   "outputs": [],
   "source": []
  }
 ],
 "metadata": {
  "celltoolbar": "Hide code",
  "hide_code_all_hidden": false,
  "kernelspec": {
   "display_name": "Python 3",
   "language": "python",
   "name": "python3"
  },
  "language_info": {
   "codemirror_mode": {
    "name": "ipython",
    "version": 3
   },
   "file_extension": ".py",
   "mimetype": "text/x-python",
   "name": "python",
   "nbconvert_exporter": "python",
   "pygments_lexer": "ipython3",
   "version": "3.6.5"
  }
 },
 "nbformat": 4,
 "nbformat_minor": 2
}
