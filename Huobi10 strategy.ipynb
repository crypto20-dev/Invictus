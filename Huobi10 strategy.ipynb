{
 "cells": [
  {
   "cell_type": "code",
   "execution_count": 126,
   "metadata": {
    "hideCode": false,
    "hidePrompt": false
   },
   "outputs": [],
   "source": [
    "import numpy as np\n",
    "import pandas as pd\n",
    "import math\n",
    "import matplotlib as mpl\n",
    "import matplotlib.pyplot as plt\n",
    "import pickle\n",
    "from scipy import log,exp,sqrt,stats"
   ]
  },
  {
   "cell_type": "code",
   "execution_count": 127,
   "metadata": {
    "hideCode": false,
    "hidePrompt": false
   },
   "outputs": [],
   "source": [
    "# Importing pickle file\n",
    "data = np.load('/Users/louisribieras/Desktop/IXPERIENCE/my_invictus/data/latest_coin_data.pkl')\n",
    "# Drop Null Values\n",
    "data = data.dropna()"
   ]
  },
  {
   "cell_type": "code",
   "execution_count": 128,
   "metadata": {
    "hideCode": false,
    "hidePrompt": false
   },
   "outputs": [],
   "source": [
    "# Initialize a close_price list\n",
    "volumes_list = list()\n",
    "# Making a list of all close_prices\n",
    "for column in data.columns:\n",
    "    for date in data.index:\n",
    "        volumes_list.append(data[column][date]['volume'])\n",
    "\n",
    "# Splitting list into 133 lists (one per coin)\n",
    "volumes_list = [volumes_list[i:i+916] for i  in range(0, len(volumes_list), 916)]        "
   ]
  },
  {
   "cell_type": "code",
   "execution_count": 129,
   "metadata": {
    "hideCode": false,
    "hidePrompt": false
   },
   "outputs": [
    {
     "name": "stdout",
     "output_type": "stream",
     "text": [
      "Shape of Volumes df:  (133, 916)\n"
     ]
    }
   ],
   "source": [
    "volumes = pd.DataFrame(data = volumes_list, index = data.index, columns = data.columns)\n",
    "# Reordering column index\n",
    "volumes = volumes[volumes.columns[::-1]]\n",
    "print('Shape of Volumes df: ', volumes.shape)"
   ]
  },
  {
   "cell_type": "code",
   "execution_count": 130,
   "metadata": {
    "hideCode": true,
    "hidePrompt": false
   },
   "outputs": [],
   "source": [
    "# Quarters for 2016, avg daily trading volume, top 10\n",
    "vol_q1_16 = pd.DataFrame(data = volumes.loc[:,'Jan 01, 2016':'Mar 31, 2016'].mean(axis=1).sort_values(ascending = False).head(10))\n",
    "vol_q2_16 = pd.DataFrame(data = volumes.loc[:,'Apr 01, 2016':'Jun 30, 2016'].mean(axis=1).sort_values(ascending = False).head(10))\n",
    "vol_q3_16 = pd.DataFrame(data = volumes.loc[:,'Jul 01, 2016':'Sep 30, 2016'].mean(axis=1).sort_values(ascending = False).head(10))\n",
    "vol_q4_16 = pd.DataFrame(data = volumes.loc[:,'Oct 01, 2016':'Dec 31, 2016'].mean(axis=1).sort_values(ascending = False).head(10))\n",
    "# Quarters for 2017, avg daily trading volume, top 10\n",
    "vol_q1_17 = pd.DataFrame(data = volumes.loc[:,'Jan 01, 2016':'Mar 31, 2017'].mean(axis=1).sort_values(ascending = False).head(10))\n",
    "vol_q2_17 = pd.DataFrame(data = volumes.loc[:,'Apr 01, 2016':'Jun 30, 2017'].mean(axis=1).sort_values(ascending = False).head(10))\n",
    "vol_q3_17 = pd.DataFrame(data = volumes.loc[:,'Jul 01, 2016':'Sep 30, 2017'].mean(axis=1).sort_values(ascending = False).head(10))\n",
    "vol_q4_17 = pd.DataFrame(data = volumes.loc[:,'Oct 01, 2016':'Dec 31, 2017'].mean(axis=1).sort_values(ascending = False).head(10))\n",
    "# Quarters for 2018, avg daily trading volume, top 10\n",
    "vol_q1_18 = pd.DataFrame(data = volumes.loc[:,'Jan 01, 2016':'Mar 31, 2018'].mean(axis=1).sort_values(ascending = False).head(10))\n",
    "vol_q2_18 = pd.DataFrame(data = volumes.loc[:,'Apr 01, 2016':'Jun 30, 2018'].mean(axis=1).sort_values(ascending = False).head(10))"
   ]
  },
  {
   "cell_type": "code",
   "execution_count": 131,
   "metadata": {
    "hideCode": true,
    "hidePrompt": false
   },
   "outputs": [],
   "source": [
    "# List of the vol_quarters CLOSE DATES\n",
    "close_dates = ['Mar 31, 2016', 'Jun 30, 2016', 'Sep 30, 2016', 'Dec 31, 2016',\n",
    "'Mar 31, 2017', 'Jun 30, 2017', 'Sep 30, 2017', 'Dec 31, 2017',\n",
    "'Mar 31, 2018', 'Jun 30, 2018']\n",
    "\n",
    "# List of the vol_quarters LABELS\n",
    "vol_list_labels = ['vol_q1_16', 'vol_q2_16', 'vol_q3_16', 'vol_q4_16',\n",
    "           'vol_q1_17', 'vol_q2_17', 'vol_q3_17', 'vol_q4_17',\n",
    "           'vol_q1_18', 'vol_q2_18']\n",
    "\n",
    "# List of the vol_quarters DATAFRAMES\n",
    "vol_list = [vol_q1_16, vol_q2_16, vol_q3_16, vol_q4_16,\n",
    "            vol_q1_17, vol_q2_17, vol_q3_17, vol_q4_17,\n",
    "            vol_q1_18, vol_q2_18]"
   ]
  },
  {
   "cell_type": "code",
   "execution_count": 132,
   "metadata": {
    "hideCode": false,
    "hidePrompt": false
   },
   "outputs": [],
   "source": [
    "# Name Volume column\n",
    "for df in vol_list:\n",
    "    df.columns = ['Volume']"
   ]
  },
  {
   "cell_type": "code",
   "execution_count": 133,
   "metadata": {
    "hideCode": false,
    "hidePrompt": false
   },
   "outputs": [],
   "source": [
    "# Calculating Proportion of volume in total top 10\n",
    "for df in vol_list:\n",
    "    df['Proportion'] = (df['Volume'])/(df['Volume'].sum())"
   ]
  },
  {
   "cell_type": "code",
   "execution_count": 134,
   "metadata": {
    "hideCode": false,
    "hidePrompt": false
   },
   "outputs": [],
   "source": [
    "# for df in vol_list:\n",
    "#     # n = Number of coins parameter\n",
    "#     n = 10\n",
    "#     df['Amount of'] = df['Proportion']*n"
   ]
  },
  {
   "cell_type": "code",
   "execution_count": 135,
   "metadata": {
    "hideCode": false,
    "hidePrompt": false
   },
   "outputs": [],
   "source": [
    "# Initialize a close_price list\n",
    "close_list = list()\n",
    "# Making a list of all close_prices\n",
    "for column in data.columns:\n",
    "    for date in data.index:\n",
    "        close_list.append(data[column][date]['close_price'])\n",
    "\n",
    "# Splitting list into 133 lists (one per coin)\n",
    "close_list2 = [close_list[i:i+916] for i  in range(0, len(close_list), 916)]\n",
    "# Making a Dataframe\n",
    "close_df = pd.DataFrame(data = close_list2, index = data.index, columns = data.columns)"
   ]
  },
  {
   "cell_type": "code",
   "execution_count": 136,
   "metadata": {
    "hideCode": false,
    "hidePrompt": false
   },
   "outputs": [],
   "source": [
    "# Close_price per Quarter end DATAFRAME\n",
    "quarter_close_data = close_df[close_dates]\n",
    "qclose_df = pd.DataFrame(data = quarter_close_data)\n",
    "# Relabelling columns\n",
    "qclose_df.columns = vol_list_labels"
   ]
  },
  {
   "cell_type": "code",
   "execution_count": 137,
   "metadata": {
    "hideCode": false,
    "hidePrompt": false
   },
   "outputs": [],
   "source": [
    "# tv = list()\n",
    "# # DATAFRAME of totals and returns per Quarter\n",
    "# for df in vol_list:\n",
    "#     tv.append(sum(df['Volume']))\n",
    "\n",
    "# tv = pd.DataFrame(data = tv, index = vol_list_labels, columns = ['Totals'])"
   ]
  },
  {
   "cell_type": "code",
   "execution_count": 138,
   "metadata": {
    "hideCode": false,
    "hidePrompt": false
   },
   "outputs": [],
   "source": [
    "close_list3 = list()\n",
    "\n",
    "for df in vol_list:\n",
    "    for coin in df.index:\n",
    "        close_list3.append(qclose_df.loc[coin])"
   ]
  },
  {
   "cell_type": "code",
   "execution_count": 139,
   "metadata": {
    "hideCode": false,
    "hidePrompt": false
   },
   "outputs": [],
   "source": [
    "qclose_df2 = pd.DataFrame(data = close_list3)"
   ]
  },
  {
   "cell_type": "code",
   "execution_count": 140,
   "metadata": {
    "hideCode": true,
    "hidePrompt": false
   },
   "outputs": [],
   "source": [
    "q1_16_close = pd.DataFrame(data = qclose_df2['vol_q1_16'][0:10])\n",
    "q2_16_close = pd.DataFrame(data = qclose_df2.iloc[10:20, 0:2])\n",
    "q3_16_close = pd.DataFrame(data = qclose_df2.iloc[20:30, 1:3])\n",
    "q4_16_close = pd.DataFrame(data = qclose_df2.iloc[30:40, 2:4])\n",
    "\n",
    "q1_17_close = pd.DataFrame(data = qclose_df2.iloc[40:50, 3:5])\n",
    "q2_17_close = pd.DataFrame(data = qclose_df2.iloc[50:60, 4:6])\n",
    "q3_17_close = pd.DataFrame(data = qclose_df2.iloc[60:70, 5:7])\n",
    "q4_17_close = pd.DataFrame(data = qclose_df2.iloc[70:80, 6:8])\n",
    "\n",
    "q1_18_close = pd.DataFrame(data = qclose_df2.iloc[80:90, 7:9])\n",
    "q2_18_close = pd.DataFrame(data = qclose_df2.iloc[90:100, 8:10])"
   ]
  },
  {
   "cell_type": "code",
   "execution_count": 141,
   "metadata": {
    "hideCode": true,
    "hidePrompt": false
   },
   "outputs": [],
   "source": [
    "final_dfs = [q2_16_final, q3_16_final, q4_16_final, \n",
    "                   q1_17_final, q2_17_final, q3_17_final, \n",
    "                   q4_17_final, q1_18_final, q2_18_final]\n",
    "\n",
    "quarter_index = ['q2_16','q3_16','q4_16',\n",
    "                 'q1_17','q2_17','q3_17','q4_17',\n",
    "                 'q1_18','q2_18']"
   ]
  },
  {
   "cell_type": "code",
   "execution_count": 142,
   "metadata": {
    "hideCode": true,
    "hidePrompt": false
   },
   "outputs": [],
   "source": [
    "# Joining volumes and proportions with close prices for both current and past quarter\n",
    "q2_16_final = vol_q2_16.join(q2_16_close)\n",
    "q3_16_final = vol_q3_16.join(q3_16_close)\n",
    "q4_16_final = vol_q4_16.join(q4_16_close)\n",
    "\n",
    "q1_17_final = vol_q1_17.join(q1_17_close)\n",
    "q2_17_final = vol_q2_17.join(q2_17_close)\n",
    "q3_17_final = vol_q3_17.join(q3_17_close)\n",
    "q4_17_final = vol_q4_17.join(q4_17_close)\n",
    "\n",
    "q1_18_final = vol_q1_18.join(q1_18_close)\n",
    "q2_18_final = vol_q2_18.join(q2_18_close)"
   ]
  },
  {
   "cell_type": "code",
   "execution_count": 144,
   "metadata": {
    "hideCode": true,
    "hidePrompt": false
   },
   "outputs": [],
   "source": [
    "q2_16_final['close_dif'] = (q2_16_final.iloc[:,3] - q2_16_final.iloc[:,2])\n",
    "q3_16_final['close_dif'] = (q3_16_final.iloc[:,3] - q3_16_final.iloc[:,2])\n",
    "q4_16_final['close_dif'] = (q4_16_final.iloc[:,3] - q4_16_final.iloc[:,2])\n",
    "\n",
    "q1_17_final['close_dif'] = (q1_17_final.iloc[:,3] - q1_17_final.iloc[:,2])\n",
    "q2_17_final['close_dif'] = (q2_17_final.iloc[:,3] - q2_17_final.iloc[:,2])\n",
    "q3_17_final['close_dif'] = (q3_17_final.iloc[:,3] - q3_17_final.iloc[:,2])\n",
    "q4_17_final['close_dif'] = (q4_17_final.iloc[:,3] - q4_17_final.iloc[:,2])\n",
    "\n",
    "q1_18_final['close_dif'] = (q1_18_final.iloc[:,3] - q1_18_final.iloc[:,2])\n",
    "q2_18_final['close_dif'] = (q2_18_final.iloc[:,3] - q2_18_final.iloc[:,2])"
   ]
  },
  {
   "cell_type": "code",
   "execution_count": 146,
   "metadata": {
    "hideCode": false,
    "hidePrompt": false
   },
   "outputs": [],
   "source": [
    "q_returns = list()\n",
    "\n",
    "for df in final_dfs:\n",
    "    q_returns.append(df['Proportion'].dot(df['close_dif'].T))"
   ]
  },
  {
   "cell_type": "code",
   "execution_count": 147,
   "metadata": {
    "hideCode": false,
    "hidePrompt": false
   },
   "outputs": [],
   "source": [
    "Q_Returns = pd.DataFrame(data = q_returns, index = quarter_index, columns = ['Q_Returns'])"
   ]
  },
  {
   "cell_type": "code",
   "execution_count": 196,
   "metadata": {
    "scrolled": true
   },
   "outputs": [
    {
     "data": {
      "image/png": "[encoded data removed]",
      "text/plain": [
       "<Figure size 720x360 with 1 Axes>"
      ]
     },
     "metadata": {},
     "output_type": "display_data"
    }
   ],
   "source": [
    "plt.plot(Q_Returns, linewidth = 1)\n",
    "plt.axhline(0, color='red', linewidth = 0.5)\n",
    "plt.title('Huobi10 Index: Quarterly Returns', fontsize = 18)\n",
    "plt.rcParams['figure.figsize'] = (10,5)\n",
    "plt.grid(color='black', linestyle='-', linewidth=0.05)\n",
    "plt.xticks(fontsize = 14)\n",
    "plt.yticks(fontsize = 14)\n",
    "plt.show()"
   ]
  }
 ],
 "metadata": {
  "celltoolbar": "Hide code",
  "hide_code_all_hidden": false,
  "kernelspec": {
   "display_name": "Python 3",
   "language": "python",
   "name": "python3"
  },
  "language_info": {
   "codemirror_mode": {
    "name": "ipython",
    "version": 3
   },
   "file_extension": ".py",
   "mimetype": "text/x-python",
   "name": "python",
   "nbconvert_exporter": "python",
   "pygments_lexer": "ipython3",
   "version": "3.6.5"
  }
 },
 "nbformat": 4,
 "nbformat_minor": 2
}
