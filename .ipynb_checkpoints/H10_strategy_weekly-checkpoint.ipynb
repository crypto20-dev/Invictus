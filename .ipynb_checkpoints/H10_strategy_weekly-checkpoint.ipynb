{
 "cells": [
  {
   "cell_type": "code",
   "execution_count": null,
   "metadata": {
    "hideCode": true,
    "hidePrompt": false
   },
   "outputs": [],
   "source": [
    "import numpy as np\n",
    "import pandas as pd\n",
    "import math\n",
    "import matplotlib as mpl\n",
    "import matplotlib.pyplot as plt\n",
    "import pickle\n",
    "from datetime import datetime\n",
    "from scipy import log,exp,sqrt,stats\n",
    "print('Packages')"
   ]
  },
  {
   "cell_type": "code",
   "execution_count": null,
   "metadata": {
    "hideCode": true,
    "hidePrompt": false
   },
   "outputs": [],
   "source": [
    "# Importing pickle file\n",
    "data = np.load('/Users/louisribieras/Desktop/IXPERIENCE/my_invictus/data/latest_coin_data.pkl')\n",
    "# Drop Null Values\n",
    "data = data.dropna()\n",
    "\n",
    "print('Loading of Data')\n",
    "print('shape of data: ', data.shape)"
   ]
  },
  {
   "cell_type": "code",
   "execution_count": null,
   "metadata": {
    "hideCode": true,
    "hidePrompt": false
   },
   "outputs": [],
   "source": [
    "print('Making Volumes dataframe: volumes')\n",
    "\n",
    "# Initialize a close_price list\n",
    "volumes_list = list()\n",
    "# Making a list of all close_prices\n",
    "for date in data.index:\n",
    "    for column in data.columns:\n",
    "        volumes_list.append(data[column][date]['volume'])\n",
    "\n",
    "# Splitting list into 133 lists (one per coin)\n",
    "volumes_list = [volumes_list[i:i+916] for i  in range(0, len(volumes_list), 916)]   "
   ]
  },
  {
   "cell_type": "code",
   "execution_count": null,
   "metadata": {
    "hideCode": true,
    "hidePrompt": false
   },
   "outputs": [],
   "source": [
    "volumes = pd.DataFrame(data = volumes_list, index = data.index, columns = data.columns)\n",
    "# Reordering column index\n",
    "volumes = volumes[volumes.columns[::-1]]\n",
    "\n",
    "# original date index\n",
    "data_index = volumes.columns[::7]\n",
    "\n",
    "# Index to Datetime index\n",
    "volumes.columns = pd.to_datetime(volumes.columns)\n",
    "\n",
    "# Weekly Median close_df\n",
    "volumes = volumes.resample('W', axis = 1).median()\n",
    "\n",
    "# Deleting first day\n",
    "del volumes['2016-01-03 00:00:00']\n",
    "\n",
    "print('Shape of Volumes df: ', volumes.shape)\n",
    "volumes.head(3)"
   ]
  },
  {
   "cell_type": "code",
   "execution_count": null,
   "metadata": {
    "hideCode": true,
    "hidePrompt": false
   },
   "outputs": [],
   "source": [
    "print('Close Price dataframe: close_df')\n",
    "# Initialize a close_price list\n",
    "close_list = list()\n",
    "# Making a list of all close_prices\n",
    "for date in data.index:\n",
    "    for column in data.columns:\n",
    "        close_list.append(data[column][date]['close_price'])\n",
    "\n",
    "# Splitting list into 133 lists (one per coin)\n",
    "close_list2 = [close_list[i:i+916] for i  in range(0, len(close_list), 916)]\n",
    "\n",
    "# Making a Dataframe\n",
    "close_df = pd.DataFrame(data = close_list2, index = data.index, columns = data.columns)\n",
    "\n",
    "# Reordering columns\n",
    "close_df = close_df[close_df.columns[::-1]]\n",
    "\n",
    "# Index to Datetime index\n",
    "close_df.columns = pd.to_datetime(close_df.columns)\n",
    "\n",
    "# Weekly Median close_df\n",
    "close_df = close_df.resample('W', axis = 1).median()\n",
    "\n",
    "# Deleting first day\n",
    "del close_df['2016-01-03 00:00:00']\n",
    "\n",
    "close_df.head(3)"
   ]
  },
  {
   "cell_type": "code",
   "execution_count": null,
   "metadata": {
    "hideCode": true
   },
   "outputs": [],
   "source": [
    "# Reverting Index\n",
    "close_df.columns = data_index\n",
    "volumes.columns = data_index\n",
    "print('Reverting Index')"
   ]
  },
  {
   "cell_type": "code",
   "execution_count": null,
   "metadata": {
    "hideCode": true
   },
   "outputs": [],
   "source": [
    "print('Calculating pct_change in close prices per week: close_pct')\n",
    "weekly_close_df2 = close_df.copy().T\n",
    "close_pct = weekly_close_df2.pct_change(1).T\n",
    "close_pct.head(5)"
   ]
  },
  {
   "cell_type": "code",
   "execution_count": null,
   "metadata": {
    "hideCode": true
   },
   "outputs": [],
   "source": [
    "print('Making weekly DataFrames: wv[\"date\"]')\n",
    "# Making weekly DataFrames\n",
    "wv = {}\n",
    "for week in volumes:\n",
    "    wv[week] = pd.DataFrame(volumes[week].sort_values(ascending=False).head(10))\n",
    "    wv[week].columns = ['Volume']"
   ]
  },
  {
   "cell_type": "code",
   "execution_count": null,
   "metadata": {
    "hideCode": true
   },
   "outputs": [],
   "source": [
    "print('Calculating Proportions')\n",
    "print()\n",
    "# Calculating Proportion of volume in total top 10\n",
    "for week in volumes.columns:\n",
    "    wv[week]['Proportion'] = (wv[week]['Volume'])/(wv[week]['Volume'].sum())\n",
    "    \n",
    "print(wv['Jan 01, 2016'])\n",
    "print()\n",
    "print('total:                  ', wv['Jan 01, 2016']['Proportion'].sum())"
   ]
  },
  {
   "cell_type": "code",
   "execution_count": null,
   "metadata": {
    "hideCode": false,
    "hidePrompt": false
   },
   "outputs": [],
   "source": [
    "print('Corresponding Close Price & pct_change columns')\n",
    "\n",
    "coin_labels = list()\n",
    "last_week_list = close_df.columns[1::]\n",
    "\n",
    "for week in wv:\n",
    "    coin_labels.append(wv[week].index)      \n",
    "\n",
    "# Adding close_price columns for top 10 coins\n",
    "for (week, coin, last_week) in zip(close_df.columns, coin_labels, last_week_list):\n",
    "    wv[week]['close_price'] = close_df[week][coin]\n",
    "    wv[week]['prior_close'] = close_df[last_week][coin]\n",
    "    wv[week]['pct_change_close'] = close_pct[week][coin]"
   ]
  },
  {
   "cell_type": "code",
   "execution_count": null,
   "metadata": {
    "hideCode": true
   },
   "outputs": [],
   "source": [
    "print('Weekly DataFrames with: Volume, Proportion, Close_Price, Pct_Change')\n",
    "\n",
    "wv['Jan 08, 2016']"
   ]
  },
  {
   "cell_type": "code",
   "execution_count": null,
   "metadata": {
    "hideCode": false,
    "hidePrompt": false
   },
   "outputs": [],
   "source": [
    "print(\"DataFrame with Weekly Returns\")\n",
    "\n",
    "weekly_returns = list()\n",
    "\n",
    "for week in wv:\n",
    "    weekly_returns.append(wv[week]['Proportion'].dot(wv[week]['pct_change_close'].T))\n",
    "    \n",
    "Weekly_Returns = pd.DataFrame(data = weekly_returns, index = volumes.columns, \n",
    "                              columns = ['Weekly_Returns'])"
   ]
  },
  {
   "cell_type": "code",
   "execution_count": null,
   "metadata": {
    "hideCode": false
   },
   "outputs": [],
   "source": [
    "print('log_return per coin columns')\n",
    "\n",
    "for week in volumes.columns:\n",
    "    wv[week]['log_return'] = (np.log(wv[week].iloc[:,2]) - np.log(wv[week].iloc[:,3]))"
   ]
  },
  {
   "cell_type": "code",
   "execution_count": null,
   "metadata": {
    "hideCode": false
   },
   "outputs": [],
   "source": [
    "print('log returns for each week (10coins)')\n",
    "weekly_logs = list()\n",
    "\n",
    "for week in wv:\n",
    "    weekly_logs.append(wv[week]['Proportion'].dot(wv[week]['log_return'].T))\n",
    "\n",
    "Weekly_Returns['Log_Returns'] = weekly_logs\n",
    "\n",
    "Weekly_Returns.head(5)"
   ]
  },
  {
   "cell_type": "code",
   "execution_count": null,
   "metadata": {
    "hideCode": false,
    "scrolled": true
   },
   "outputs": [],
   "source": [
    "plt.plot(Weekly_Returns['Weekly_Returns'], linewidth = 1)\n",
    "plt.plot()\n",
    "plt.axhline(0, color='red', linewidth = 0.5)\n",
    "plt.title('Huobi10 Index: Weekly Returns', fontsize = 18)\n",
    "plt.rcParams['figure.figsize'] = (10,5)\n",
    "plt.grid(color='black', linestyle='-', linewidth=0.05)\n",
    "plt.xticks(np.arange(0,131,step=4), rotation=90, fontsize = 10)\n",
    "plt.yticks(fontsize = 14)\n",
    "plt.show()"
   ]
  },
  {
   "cell_type": "code",
   "execution_count": null,
   "metadata": {
    "hideCode": false
   },
   "outputs": [],
   "source": [
    "plt.plot(Weekly_Returns['Log_Returns'], linewidth = 1)\n",
    "plt.plot()\n",
    "plt.axhline(0, color='red', linewidth = 0.5)\n",
    "plt.title('Huobi10 Index: Weekly Log Returns', fontsize = 18)\n",
    "plt.rcParams['figure.figsize'] = (10,5)\n",
    "plt.grid(color='black', linestyle='-', linewidth=0.05)\n",
    "plt.xticks(np.arange(0,131,step=4), rotation=90, fontsize = 10)\n",
    "plt.yticks(fontsize = 14)\n",
    "plt.show()"
   ]
  },
  {
   "cell_type": "code",
   "execution_count": null,
   "metadata": {},
   "outputs": [],
   "source": []
  }
 ],
 "metadata": {
  "celltoolbar": "Hide code",
  "hide_code_all_hidden": false,
  "kernelspec": {
   "display_name": "Python 3",
   "language": "python",
   "name": "python3"
  },
  "language_info": {
   "codemirror_mode": {
    "name": "ipython",
    "version": 3
   },
   "file_extension": ".py",
   "mimetype": "text/x-python",
   "name": "python",
   "nbconvert_exporter": "python",
   "pygments_lexer": "ipython3",
   "version": "3.6.5"
  }
 },
 "nbformat": 4,
 "nbformat_minor": 2
}
