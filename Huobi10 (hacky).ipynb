{
 "cells": [
  {
   "cell_type": "code",
   "execution_count": 1,
   "metadata": {
    "hideCode": false,
    "hidePrompt": false
   },
   "outputs": [],
   "source": [
    "import numpy as np\n",
    "import pandas as pd\n",
    "import math\n",
    "import matplotlib as mpl\n",
    "import matplotlib.pyplot as plt\n",
    "import pickle\n",
    "from scipy import log,exp,sqrt,stats"
   ]
  },
  {
   "cell_type": "code",
   "execution_count": 2,
   "metadata": {
    "hideCode": false,
    "hidePrompt": false
   },
   "outputs": [
    {
     "data": {
      "text/plain": [
       "(133, 916)"
      ]
     },
     "execution_count": 2,
     "metadata": {},
     "output_type": "execute_result"
    }
   ],
   "source": [
    "# Importing pickle file\n",
    "data = np.load('/Users/louisribieras/Desktop/IXPERIENCE/my_invictus/data/latest_coin_data.pkl')\n",
    "# Drop Null Values\n",
    "data = data.dropna()\n",
    "data.shape"
   ]
  },
  {
   "cell_type": "code",
   "execution_count": 3,
   "metadata": {
    "hideCode": true,
    "hidePrompt": false
   },
   "outputs": [],
   "source": [
    "# Initialize a close_price list\n",
    "volumes_list = list()\n",
    "# Making a list of all close_prices\n",
    "for date in data.index:\n",
    "    for column in data.columns:\n",
    "        volumes_list.append(data[column][date]['volume'])\n",
    "\n",
    "# Splitting list into 133 lists (one per coin)\n",
    "volumes_list = [volumes_list[i:i+916] for i  in range(0, len(volumes_list), 916)]        "
   ]
  },
  {
   "cell_type": "code",
   "execution_count": 4,
   "metadata": {
    "hideCode": true,
    "hidePrompt": false
   },
   "outputs": [
    {
     "name": "stdout",
     "output_type": "stream",
     "text": [
      "Shape of Volumes df:  (133, 916)\n"
     ]
    }
   ],
   "source": [
    "volumes = pd.DataFrame(data = volumes_list, index = data.index, columns = data.columns)\n",
    "# Reordering column index\n",
    "volumes = volumes[volumes.columns[::-1]]\n",
    "print('Shape of Volumes df: ', volumes.shape)"
   ]
  },
  {
   "cell_type": "code",
   "execution_count": 5,
   "metadata": {
    "hideCode": true,
    "hidePrompt": false
   },
   "outputs": [],
   "source": [
    "# Quarters for 2016, avg daily trading volume, top 10\n",
    "vol_q1_16 = pd.DataFrame(data = volumes.loc[:,'Jan 01, 2016':'Mar 31, 2016'].mean(axis=1).sort_values(ascending = False).head(10))\n",
    "vol_q2_16 = pd.DataFrame(data = volumes.loc[:,'Apr 01, 2016':'Jun 30, 2016'].mean(axis=1).sort_values(ascending = False).head(10))\n",
    "vol_q3_16 = pd.DataFrame(data = volumes.loc[:,'Jul 01, 2016':'Sep 30, 2016'].mean(axis=1).sort_values(ascending = False).head(10))\n",
    "vol_q4_16 = pd.DataFrame(data = volumes.loc[:,'Oct 01, 2016':'Dec 31, 2016'].mean(axis=1).sort_values(ascending = False).head(10))\n",
    "# Quarters for 2017, avg daily trading volume, top 10\n",
    "vol_q1_17 = pd.DataFrame(data = volumes.loc[:,'Jan 01, 2016':'Mar 31, 2017'].mean(axis=1).sort_values(ascending = False).head(10))\n",
    "vol_q2_17 = pd.DataFrame(data = volumes.loc[:,'Apr 01, 2016':'Jun 30, 2017'].mean(axis=1).sort_values(ascending = False).head(10))\n",
    "vol_q3_17 = pd.DataFrame(data = volumes.loc[:,'Jul 01, 2016':'Sep 30, 2017'].mean(axis=1).sort_values(ascending = False).head(10))\n",
    "vol_q4_17 = pd.DataFrame(data = volumes.loc[:,'Oct 01, 2016':'Dec 31, 2017'].mean(axis=1).sort_values(ascending = False).head(10))\n",
    "# Quarters for 2018, avg daily trading volume, top 10\n",
    "vol_q1_18 = pd.DataFrame(data = volumes.loc[:,'Jan 01, 2016':'Mar 31, 2018'].mean(axis=1).sort_values(ascending = False).head(10))\n",
    "vol_q2_18 = pd.DataFrame(data = volumes.loc[:,'Apr 01, 2016':'Jun 30, 2018'].mean(axis=1).sort_values(ascending = False).head(10))"
   ]
  },
  {
   "cell_type": "code",
   "execution_count": 6,
   "metadata": {
    "hideCode": false,
    "hidePrompt": false
   },
   "outputs": [],
   "source": [
    "# List of the vol_quarters CLOSE DATES\n",
    "close_dates = ['Mar 31, 2016', 'Jun 30, 2016', 'Sep 30, 2016', 'Dec 31, 2016',\n",
    "'Mar 31, 2017', 'Jun 30, 2017', 'Sep 30, 2017', 'Dec 31, 2017',\n",
    "'Mar 31, 2018', 'Jun 30, 2018']\n",
    "\n",
    "# List of the vol_quarters LABELS\n",
    "vol_list_labels = ['vol_q1_16', 'vol_q2_16', 'vol_q3_16', 'vol_q4_16',\n",
    "           'vol_q1_17', 'vol_q2_17', 'vol_q3_17', 'vol_q4_17',\n",
    "           'vol_q1_18', 'vol_q2_18']\n",
    "\n",
    "# List of the vol_quarters DATAFRAMES\n",
    "vol_list = [vol_q1_16, vol_q2_16, vol_q3_16, vol_q4_16,\n",
    "            vol_q1_17, vol_q2_17, vol_q3_17, vol_q4_17,\n",
    "            vol_q1_18, vol_q2_18]"
   ]
  },
  {
   "cell_type": "code",
   "execution_count": 7,
   "metadata": {
    "hideCode": true,
    "hidePrompt": false
   },
   "outputs": [],
   "source": [
    "# Name Volume column\n",
    "for df in vol_list:\n",
    "    df.columns = ['Volume']"
   ]
  },
  {
   "cell_type": "code",
   "execution_count": 8,
   "metadata": {
    "hideCode": true,
    "hidePrompt": false
   },
   "outputs": [],
   "source": [
    "# Calculating Proportion of volume in total top 10\n",
    "for df in vol_list:\n",
    "    df['Proportion'] = (df['Volume'])/(df['Volume'].sum())"
   ]
  },
  {
   "cell_type": "code",
   "execution_count": 9,
   "metadata": {
    "hideCode": true,
    "hidePrompt": false
   },
   "outputs": [],
   "source": [
    "# for df in vol_list:\n",
    "#     # n = Number of coins parameter\n",
    "#     n = 10\n",
    "#     df['Amount of'] = df['Proportion']*n"
   ]
  },
  {
   "cell_type": "code",
   "execution_count": 10,
   "metadata": {
    "hideCode": true,
    "hidePrompt": false
   },
   "outputs": [],
   "source": [
    "# Initialize a close_price list\n",
    "close_list = list()\n",
    "# Making a list of all close_prices\n",
    "for date in data.index:\n",
    "    for column in data.columns:\n",
    "        close_list.append(data[column][date]['close_price'])\n",
    "\n",
    "# Splitting list into 133 lists (one per coin)\n",
    "close_list2 = [close_list[i:i+916] for i  in range(0, len(close_list), 916)]\n",
    "# Making a Dataframe\n",
    "close_df = pd.DataFrame(data = close_list2, index = data.index, columns = data.columns)"
   ]
  },
  {
   "cell_type": "code",
   "execution_count": 11,
   "metadata": {
    "hideCode": true,
    "hidePrompt": false
   },
   "outputs": [],
   "source": [
    "# Close_price per Quarter end dates DATAFRAME\n",
    "quarter_close_data = close_df[close_dates]\n",
    "qclose_df = pd.DataFrame(data = quarter_close_data)\n",
    "# Relabelling columns\n",
    "qclose_df.columns = vol_list_labels"
   ]
  },
  {
   "cell_type": "code",
   "execution_count": 12,
   "metadata": {
    "hideCode": true,
    "hidePrompt": false
   },
   "outputs": [],
   "source": [
    "# tv = list()\n",
    "# # DATAFRAME of totals and returns per Quarter\n",
    "# for df in vol_list:\n",
    "#     tv.append(sum(df['Volume']))\n",
    "\n",
    "# tv = pd.DataFrame(data = tv, index = vol_list_labels, columns = ['Totals'])"
   ]
  },
  {
   "cell_type": "code",
   "execution_count": 13,
   "metadata": {
    "hideCode": true,
    "hidePrompt": false
   },
   "outputs": [],
   "source": [
    "close_list3 = list()\n",
    "\n",
    "for df in vol_list:\n",
    "    for coin in df.index:\n",
    "        close_list3.append(qclose_df.loc[coin])"
   ]
  },
  {
   "cell_type": "code",
   "execution_count": 14,
   "metadata": {
    "hideCode": false,
    "hidePrompt": false
   },
   "outputs": [],
   "source": [
    "qclose_df2 = pd.DataFrame(data = close_list3)"
   ]
  },
  {
   "cell_type": "code",
   "execution_count": 15,
   "metadata": {},
   "outputs": [],
   "source": [
    "qlabels = ['q2_16_close', 'q3_16_close', 'q4_16_close', \n",
    "           'q1_17_close', 'q2_17_close', 'q3_17_close', 'q4_17_close', \n",
    "           'q1_18_close', 'q2_18_close']"
   ]
  },
  {
   "cell_type": "code",
   "execution_count": 16,
   "metadata": {},
   "outputs": [],
   "source": [
    "q2_16_close = pd.DataFrame(data = qclose_df2.iloc[10:20,0:2])\n",
    "q3_16_close = pd.DataFrame(data = qclose_df2.iloc[20:30,1:3])\n",
    "q4_16_close = pd.DataFrame(data = qclose_df2.iloc[30:40,2:4])\n",
    "\n",
    "q1_17_close = pd.DataFrame(data = qclose_df2.iloc[40:50,3:5])\n",
    "q2_17_close = pd.DataFrame(data = qclose_df2.iloc[50:60,4:6])\n",
    "q3_17_close = pd.DataFrame(data = qclose_df2.iloc[60:70,5:7])\n",
    "q4_17_close = pd.DataFrame(data = qclose_df2.iloc[70:80,6:8])\n",
    "\n",
    "q1_18_close = pd.DataFrame(data = qclose_df2.iloc[80:90,7:9])\n",
    "q2_18_close = pd.DataFrame(data = qclose_df2.iloc[90:100,8:10])"
   ]
  },
  {
   "cell_type": "code",
   "execution_count": 17,
   "metadata": {
    "hideCode": false,
    "hidePrompt": false
   },
   "outputs": [],
   "source": [
    "# Joining volumes and proportions with close prices for both current and past quarter\n",
    "q2_16_final = vol_q2_16.join(q2_16_close)\n",
    "q3_16_final = vol_q3_16.join(q3_16_close)\n",
    "q4_16_final = vol_q4_16.join(q4_16_close)\n",
    "\n",
    "q1_17_final = vol_q1_17.join(q1_17_close)\n",
    "q2_17_final = vol_q2_17.join(q2_17_close)\n",
    "q3_17_final = vol_q3_17.join(q3_17_close)\n",
    "q4_17_final = vol_q4_17.join(q4_17_close)\n",
    "\n",
    "q1_18_final = vol_q1_18.join(q1_18_close)\n",
    "q2_18_final = vol_q2_18.join(q2_18_close)"
   ]
  },
  {
   "cell_type": "code",
   "execution_count": 19,
   "metadata": {},
   "outputs": [],
   "source": [
    "final_dfs = [q2_16_final, q3_16_final, q4_16_final, \n",
    "                   q1_17_final, q2_17_final, q3_17_final, \n",
    "                   q4_17_final, q1_18_final, q2_18_final]\n",
    "\n",
    "quarter_index = ['q2_16','q3_16','q4_16',\n",
    "                 'q1_17','q2_17','q3_17','q4_17',\n",
    "                 'q1_18','q2_18']"
   ]
  },
  {
   "cell_type": "code",
   "execution_count": 20,
   "metadata": {},
   "outputs": [],
   "source": [
    "# Columns for close_dif for each coin in each quarter\n",
    "for df in final_dfs:\n",
    "    df['close_dif'] = (((df.iloc[:,3]) - (df.iloc[:,2])))"
   ]
  },
  {
   "cell_type": "code",
   "execution_count": null,
   "metadata": {
    "hideCode": false,
    "hidePrompt": false
   },
   "outputs": [],
   "source": [
    "q2_16_final['close_dif'] = (q2_16_final.iloc[:,3] - q2_16_final.iloc[:,2])\n",
    "q3_16_final['close_dif'] = (q3_16_final.iloc[:,3] - q3_16_final.iloc[:,2])\n",
    "q4_16_final['close_dif'] = (q4_16_final.iloc[:,3] - q4_16_final.iloc[:,2])\n",
    "\n",
    "q1_17_final['close_dif'] = (q1_17_final.iloc[:,3] - q1_17_final.iloc[:,2])\n",
    "q2_17_final['close_dif'] = (q2_17_final.iloc[:,3] - q2_17_final.iloc[:,2])\n",
    "q3_17_final['close_dif'] = (q3_17_final.iloc[:,3] - q3_17_final.iloc[:,2])\n",
    "q4_17_final['close_dif'] = (q4_17_final.iloc[:,3] - q4_17_final.iloc[:,2])\n",
    "\n",
    "q1_18_final['close_dif'] = (q1_18_final.iloc[:,3] - q1_18_final.iloc[:,2])\n",
    "q2_18_final['close_dif'] = (q2_18_final.iloc[:,3] - q2_18_final.iloc[:,2])"
   ]
  },
  {
   "cell_type": "code",
   "execution_count": 21,
   "metadata": {
    "hideCode": false,
    "hidePrompt": false
   },
   "outputs": [],
   "source": [
    "q_returns = list()\n",
    "\n",
    "for df in final_dfs:\n",
    "    q_returns.append(df['Proportion'].dot(df['close_dif'].T))"
   ]
  },
  {
   "cell_type": "code",
   "execution_count": 22,
   "metadata": {
    "hideCode": false,
    "hidePrompt": false
   },
   "outputs": [],
   "source": [
    "Q_Returns = pd.DataFrame(data = q_returns, index = quarter_index, columns = ['Q_Returns'])"
   ]
  },
  {
   "cell_type": "code",
   "execution_count": 23,
   "metadata": {},
   "outputs": [
    {
     "data": {
      "text/html": [
       "<div>\n",
       "<style scoped>\n",
       "    .dataframe tbody tr th:only-of-type {\n",
       "        vertical-align: middle;\n",
       "    }\n",
       "\n",
       "    .dataframe tbody tr th {\n",
       "        vertical-align: top;\n",
       "    }\n",
       "\n",
       "    .dataframe thead th {\n",
       "        text-align: right;\n",
       "    }\n",
       "</style>\n",
       "<table border=\"1\" class=\"dataframe\">\n",
       "  <thead>\n",
       "    <tr style=\"text-align: right;\">\n",
       "      <th></th>\n",
       "      <th>Volume</th>\n",
       "      <th>Proportion</th>\n",
       "      <th>vol_q1_16</th>\n",
       "      <th>vol_q2_16</th>\n",
       "      <th>close_dif</th>\n",
       "    </tr>\n",
       "  </thead>\n",
       "  <tbody>\n",
       "    <tr>\n",
       "      <th>bitcoin</th>\n",
       "      <td>9.665506e+07</td>\n",
       "      <td>0.729917</td>\n",
       "      <td>416.730000</td>\n",
       "      <td>673.340000</td>\n",
       "      <td>256.610000</td>\n",
       "    </tr>\n",
       "    <tr>\n",
       "      <th>ethereum</th>\n",
       "      <td>2.801026e+07</td>\n",
       "      <td>0.211527</td>\n",
       "      <td>11.400000</td>\n",
       "      <td>12.460000</td>\n",
       "      <td>1.060000</td>\n",
       "    </tr>\n",
       "    <tr>\n",
       "      <th>litecoin</th>\n",
       "      <td>3.922732e+06</td>\n",
       "      <td>0.029624</td>\n",
       "      <td>3.260000</td>\n",
       "      <td>4.190000</td>\n",
       "      <td>0.930000</td>\n",
       "    </tr>\n",
       "    <tr>\n",
       "      <th>ripple</th>\n",
       "      <td>1.037156e+06</td>\n",
       "      <td>0.007832</td>\n",
       "      <td>0.007391</td>\n",
       "      <td>0.006657</td>\n",
       "      <td>-0.000734</td>\n",
       "    </tr>\n",
       "    <tr>\n",
       "      <th>tether</th>\n",
       "      <td>9.093101e+05</td>\n",
       "      <td>0.006867</td>\n",
       "      <td>1.000000</td>\n",
       "      <td>1.000000</td>\n",
       "      <td>0.000000</td>\n",
       "    </tr>\n",
       "    <tr>\n",
       "      <th>maidsafecoin</th>\n",
       "      <td>4.809017e+05</td>\n",
       "      <td>0.003632</td>\n",
       "      <td>0.080831</td>\n",
       "      <td>0.076536</td>\n",
       "      <td>-0.004295</td>\n",
       "    </tr>\n",
       "    <tr>\n",
       "      <th>nem</th>\n",
       "      <td>4.348183e+05</td>\n",
       "      <td>0.003284</td>\n",
       "      <td>0.001495</td>\n",
       "      <td>0.012527</td>\n",
       "      <td>0.011032</td>\n",
       "    </tr>\n",
       "    <tr>\n",
       "      <th>factom</th>\n",
       "      <td>3.710086e+05</td>\n",
       "      <td>0.002802</td>\n",
       "      <td>1.680000</td>\n",
       "      <td>1.420000</td>\n",
       "      <td>-0.260000</td>\n",
       "    </tr>\n",
       "    <tr>\n",
       "      <th>dash</th>\n",
       "      <td>3.343343e+05</td>\n",
       "      <td>0.002525</td>\n",
       "      <td>6.880000</td>\n",
       "      <td>7.130000</td>\n",
       "      <td>0.250000</td>\n",
       "    </tr>\n",
       "    <tr>\n",
       "      <th>monero</th>\n",
       "      <td>2.636038e+05</td>\n",
       "      <td>0.001991</td>\n",
       "      <td>1.400000</td>\n",
       "      <td>1.610000</td>\n",
       "      <td>0.210000</td>\n",
       "    </tr>\n",
       "  </tbody>\n",
       "</table>\n",
       "</div>"
      ],
      "text/plain": [
       "                    Volume  Proportion   vol_q1_16   vol_q2_16   close_dif\n",
       "bitcoin       9.665506e+07    0.729917  416.730000  673.340000  256.610000\n",
       "ethereum      2.801026e+07    0.211527   11.400000   12.460000    1.060000\n",
       "litecoin      3.922732e+06    0.029624    3.260000    4.190000    0.930000\n",
       "ripple        1.037156e+06    0.007832    0.007391    0.006657   -0.000734\n",
       "tether        9.093101e+05    0.006867    1.000000    1.000000    0.000000\n",
       "maidsafecoin  4.809017e+05    0.003632    0.080831    0.076536   -0.004295\n",
       "nem           4.348183e+05    0.003284    0.001495    0.012527    0.011032\n",
       "factom        3.710086e+05    0.002802    1.680000    1.420000   -0.260000\n",
       "dash          3.343343e+05    0.002525    6.880000    7.130000    0.250000\n",
       "monero        2.636038e+05    0.001991    1.400000    1.610000    0.210000"
      ]
     },
     "execution_count": 23,
     "metadata": {},
     "output_type": "execute_result"
    }
   ],
   "source": [
    "q2_16_final"
   ]
  },
  {
   "cell_type": "code",
   "execution_count": 24,
   "metadata": {},
   "outputs": [],
   "source": [
    "# Columns for Log_Returns for each coin in each quarter\n",
    "for df in final_dfs:\n",
    "    df['log_returns'] = ((np.log(df.iloc[:,3]) - np.log(df.iloc[:,2])))"
   ]
  },
  {
   "cell_type": "code",
   "execution_count": 25,
   "metadata": {},
   "outputs": [],
   "source": [
    "# Getting the Log_Returns for each whole quarter\n",
    "log_returns = list()\n",
    "\n",
    "for df in final_dfs:\n",
    "    log_returns.append(df['Proportion'].dot(df['log_returns'].T))\n",
    "\n",
    "Q_Returns['Log Returns'] = log_returns"
   ]
  },
  {
   "cell_type": "code",
   "execution_count": 26,
   "metadata": {},
   "outputs": [
    {
     "data": {
      "text/html": [
       "<div>\n",
       "<style scoped>\n",
       "    .dataframe tbody tr th:only-of-type {\n",
       "        vertical-align: middle;\n",
       "    }\n",
       "\n",
       "    .dataframe tbody tr th {\n",
       "        vertical-align: top;\n",
       "    }\n",
       "\n",
       "    .dataframe thead th {\n",
       "        text-align: right;\n",
       "    }\n",
       "</style>\n",
       "<table border=\"1\" class=\"dataframe\">\n",
       "  <thead>\n",
       "    <tr style=\"text-align: right;\">\n",
       "      <th></th>\n",
       "      <th>Q_Returns</th>\n",
       "      <th>Log Returns</th>\n",
       "    </tr>\n",
       "  </thead>\n",
       "  <tbody>\n",
       "    <tr>\n",
       "      <th>q2_16</th>\n",
       "      <td>187.556199</td>\n",
       "      <td>0.382325</td>\n",
       "    </tr>\n",
       "    <tr>\n",
       "      <th>q3_16</th>\n",
       "      <td>-45.773143</td>\n",
       "      <td>0.033875</td>\n",
       "    </tr>\n",
       "    <tr>\n",
       "      <th>q4_16</th>\n",
       "      <td>280.126426</td>\n",
       "      <td>0.334219</td>\n",
       "    </tr>\n",
       "    <tr>\n",
       "      <th>q1_17</th>\n",
       "      <td>86.890140</td>\n",
       "      <td>0.462321</td>\n",
       "    </tr>\n",
       "    <tr>\n",
       "      <th>q2_17</th>\n",
       "      <td>796.764994</td>\n",
       "      <td>1.311098</td>\n",
       "    </tr>\n",
       "    <tr>\n",
       "      <th>q3_17</th>\n",
       "      <td>915.462040</td>\n",
       "      <td>0.295049</td>\n",
       "    </tr>\n",
       "    <tr>\n",
       "      <th>q4_17</th>\n",
       "      <td>5649.461241</td>\n",
       "      <td>1.195653</td>\n",
       "    </tr>\n",
       "    <tr>\n",
       "      <th>q1_18</th>\n",
       "      <td>-3917.868419</td>\n",
       "      <td>-0.698151</td>\n",
       "    </tr>\n",
       "    <tr>\n",
       "      <th>q2_18</th>\n",
       "      <td>-288.721663</td>\n",
       "      <td>-0.053724</td>\n",
       "    </tr>\n",
       "  </tbody>\n",
       "</table>\n",
       "</div>"
      ],
      "text/plain": [
       "         Q_Returns  Log Returns\n",
       "q2_16   187.556199     0.382325\n",
       "q3_16   -45.773143     0.033875\n",
       "q4_16   280.126426     0.334219\n",
       "q1_17    86.890140     0.462321\n",
       "q2_17   796.764994     1.311098\n",
       "q3_17   915.462040     0.295049\n",
       "q4_17  5649.461241     1.195653\n",
       "q1_18 -3917.868419    -0.698151\n",
       "q2_18  -288.721663    -0.053724"
      ]
     },
     "execution_count": 26,
     "metadata": {},
     "output_type": "execute_result"
    }
   ],
   "source": [
    "Q_Returns"
   ]
  },
  {
   "cell_type": "code",
   "execution_count": 30,
   "metadata": {
    "hideCode": true,
    "scrolled": true
   },
   "outputs": [
    {
     "data": {
      "image/png": "[encoded data removed]",
      "text/plain": [
       "<Figure size 720x360 with 1 Axes>"
      ]
     },
     "metadata": {},
     "output_type": "display_data"
    }
   ],
   "source": [
    "plt.plot(Q_Returns['Q_Returns'], linewidth = 1)\n",
    "plt.plot()\n",
    "plt.axhline(0, color='red', linewidth = 0.5)\n",
    "plt.title('Huobi10 Index: Quarterly Returns', fontsize = 18)\n",
    "plt.rcParams['figure.figsize'] = (10,5)\n",
    "plt.grid(color='black', linestyle='-', linewidth=0.05)\n",
    "plt.xticks(fontsize = 14)\n",
    "plt.yticks(fontsize = 14)\n",
    "plt.show()"
   ]
  },
  {
   "cell_type": "code",
   "execution_count": 32,
   "metadata": {
    "hideCode": true
   },
   "outputs": [
    {
     "data": {
      "image/png": "[encoded data removed]",
      "text/plain": [
       "<Figure size 720x360 with 1 Axes>"
      ]
     },
     "metadata": {},
     "output_type": "display_data"
    }
   ],
   "source": [
    "plt.plot(Q_Returns['Log Returns'], linewidth = 1)\n",
    "plt.plot()\n",
    "plt.axhline(0, color='red', linewidth = 0.5)\n",
    "plt.title('Huobi10 Index: Quarterly Log Returns', fontsize = 18)\n",
    "plt.rcParams['figure.figsize'] = (10,5)\n",
    "plt.grid(color='black', linestyle='-', linewidth=0.05)\n",
    "plt.xticks(fontsize = 14)\n",
    "plt.yticks(fontsize = 14)\n",
    "plt.show()"
   ]
  },
  {
   "cell_type": "code",
   "execution_count": null,
   "metadata": {},
   "outputs": [],
   "source": []
  }
 ],
 "metadata": {
  "celltoolbar": "Hide code",
  "hide_code_all_hidden": false,
  "kernelspec": {
   "display_name": "Python 3",
   "language": "python",
   "name": "python3"
  },
  "language_info": {
   "codemirror_mode": {
    "name": "ipython",
    "version": 3
   },
   "file_extension": ".py",
   "mimetype": "text/x-python",
   "name": "python",
   "nbconvert_exporter": "python",
   "pygments_lexer": "ipython3",
   "version": "3.6.5"
  }
 },
 "nbformat": 4,
 "nbformat_minor": 2
}
